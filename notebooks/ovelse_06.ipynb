{
 "cells": [
  {
   "cell_type": "markdown",
   "id": "3fe8732f",
   "metadata": {},
   "source": [
    "# TØ 6"
   ]
  },
  {
   "cell_type": "markdown",
   "id": "be467310",
   "metadata": {},
   "source": [
    "Til denne TØ skal du løse Newton II med `solve_ivp`.\n",
    "\n",
    "Du kommer igennem forskellige ting:\n",
    "\n",
    "* løse Newton II i 1D (2 afhængige variable)\n",
    "\n",
    "* løse Newton II i 2D (4 afhængige variable)\n",
    "\n",
    "* løse Newton II i N x 1D (N x 2 afhængige variable)\n",
    "\n",
    "* løse Newton II i N x 2D (N x 4 afhængige variable)"
   ]
  },
  {
   "cell_type": "markdown",
   "id": "e2c363de",
   "metadata": {},
   "source": [
    "Kør den næste celle for at få installeret de nødvendige pakker"
   ]
  },
  {
   "cell_type": "code",
   "execution_count": null,
   "id": "bb41df77",
   "metadata": {},
   "outputs": [],
   "source": [
    "%load_ext autoreload\n",
    "%autoreload 2\n",
    "\n",
    "import os\n",
    "if not os.path.exists('python23'):\n",
    "    !git clone https://github.com/uniblender/python23.git/ > git_output.txt\n",
    "else:\n",
    "    os.chdir('python23')\n",
    "    !git pull \n",
    "    os.chdir('../')\n",
    "!pip install python23/utils_package/ > pip_output.txt\n",
    "\n",
    "from utils.lennard_jones import Atom, Atoms"
   ]
  },
  {
   "cell_type": "markdown",
   "id": "611bf145",
   "metadata": {},
   "source": [
    "Importér NumPy og Matplotlib og definér ny funktion til at lave koordinatsystem med"
   ]
  },
  {
   "cell_type": "code",
   "execution_count": null,
   "id": "078efb2b",
   "metadata": {},
   "outputs": [],
   "source": [
    "import numpy as np\n",
    "import matplotlib.pyplot as plt\n",
    "\n",
    "def grid_med_mere(ax):\n",
    "    ax.set_aspect('equal', adjustable='box')\n",
    "    ax.set_xlim([-1,6])\n",
    "    ax.set_ylim([-2.5,2.5])\n",
    "    ax.grid()\n",
    "\n",
    "def ny_figur():\n",
    "    fig, ax = plt.subplots()\n",
    "    grid_med_mere(ax)\n",
    "    return fig, ax\n",
    "\n",
    "# Du kan nu skrive:\n",
    "#                       fig, ax = ny_figur()\n",
    "# for at få en figur\n",
    "# med et koordinatsystem"
   ]
  },
  {
   "cell_type": "markdown",
   "id": "a67860b7",
   "metadata": {},
   "source": [
    "Importér den funktion der skal bruges til at løse differentialligninger"
   ]
  },
  {
   "cell_type": "code",
   "execution_count": null,
   "id": "a55f1adb",
   "metadata": {},
   "outputs": [],
   "source": [
    "from scipy.integrate import solve_ivp"
   ]
  },
  {
   "cell_type": "markdown",
   "id": "2a039b41",
   "metadata": {},
   "source": [
    "### Delopgave 1"
   ]
  },
  {
   "cell_type": "markdown",
   "id": "8168aeac",
   "metadata": {},
   "source": [
    "Kør denne celle for at sætte 3 atomer op. Alle atomer har $y=0$."
   ]
  },
  {
   "cell_type": "code",
   "execution_count": null,
   "id": "42429831",
   "metadata": {},
   "outputs": [],
   "source": [
    "r0 = 2**(1/6)\n",
    "p = [0, 0]\n",
    "atom1 = Atom(p)\n",
    "p = [5, 0]\n",
    "atom2 = Atom(p)\n",
    "p = [0.9 * r0 , 0]\n",
    "atom3 = Atom(p,color='C1')\n",
    "\n",
    "klynge = Atoms([atom1, atom2, atom3])"
   ]
  },
  {
   "cell_type": "markdown",
   "id": "15da22bf",
   "metadata": {},
   "source": [
    "Plot de tre atomer ved at køre denne celle:"
   ]
  },
  {
   "cell_type": "code",
   "execution_count": null,
   "id": "e6d6b008",
   "metadata": {},
   "outputs": [],
   "source": [
    "fig, ax = ny_figur()\n",
    "for atom in klynge:\n",
    "    atom.plot(ax)"
   ]
  },
  {
   "cell_type": "markdown",
   "id": "c1645bc6",
   "metadata": {},
   "source": [
    "Færdiggør denne celle, så den returnerer kraften på det orange atom."
   ]
  },
  {
   "cell_type": "code",
   "execution_count": null,
   "id": "8369c619",
   "metadata": {},
   "outputs": [],
   "source": [
    "def f_orange(x,y):\n",
    "    klynge[2].set_po # din kode her\n",
    "    f = klynge.get_fo # din kode her\n",
    "    return f"
   ]
  },
  {
   "cell_type": "markdown",
   "id": "a4b04e29",
   "metadata": {},
   "source": [
    "Test at funktionen kan kaldes således:"
   ]
  },
  {
   "cell_type": "code",
   "execution_count": null,
   "id": "5dd8c781",
   "metadata": {},
   "outputs": [],
   "source": [
    "f_orange(0.96948608,0)[0]"
   ]
  },
  {
   "cell_type": "markdown",
   "id": "3bd57e3a",
   "metadata": {},
   "source": [
    "Det orange atom har masse $m=1/10$, start-hastighed $-1$ og starter ud i position $(1,0)$.\n",
    "\n",
    "Løs nu Newton II for $x$-komposanten af det grønne atom i tidsrummet $0\\le t\\le 3.1$:\n",
    "\n",
    "$$\n",
    "m\\frac{d^2 x}{dt^2}=f_x(x)\n",
    "$$\n",
    "\n",
    "(bemærk at symmetri gør at vi kan se bort fra en udvikling i $y$-koordinaten, der forbliver lig nul)."
   ]
  },
  {
   "cell_type": "markdown",
   "id": "3eb8910e",
   "metadata": {},
   "source": [
    "Idet du benytter tricket med at indføre en \"hjælpe-variabel\", $v=\\displaystyle\\frac{dx}{dt}$, er det altså to koblede 1. ordensdifferentialligninger, der skal løses:\n",
    "$$\n",
    "\\begin{array}{rcl}\n",
    "\\displaystyle\\frac{dx}{dt}&=&v\\\\\n",
    "&&\\\\\n",
    "\\displaystyle\\frac{dv}{dt}&=&f_x(x)/m\n",
    "\\end{array}\n",
    "$$"
   ]
  },
  {
   "cell_type": "markdown",
   "id": "e69e37dd",
   "metadata": {},
   "source": [
    "Skriv den funktion, der skal gives til `solve_ivp` for at løse disse differentialligninger."
   ]
  },
  {
   "cell_type": "code",
   "execution_count": null,
   "id": "bae5c9fd",
   "metadata": {},
   "outputs": [],
   "source": [
    "m = 0.1\n",
    "def dqdt(t,q):\n",
    "    x = # din kode til at hente x ud af q\n",
    "    v = # din kode til at hente v ud af q\n",
    "    dxdt = # din kode der implementerer differentialligningen ovenfor\n",
    "    dvdt = # din kode\n",
    "    dqdt = [dxdt, dvdt]\n",
    "    return dqdt"
   ]
  },
  {
   "cell_type": "markdown",
   "id": "3646b7a7",
   "metadata": {},
   "source": [
    "Test at din funktion kan kaldes med en skalar og en vektor med to komposanter. Den skal returnere en vektor med to komposanter."
   ]
  },
  {
   "cell_type": "code",
   "execution_count": null,
   "id": "eaefe63d",
   "metadata": {},
   "outputs": [],
   "source": []
  },
  {
   "cell_type": "markdown",
   "id": "2784548c",
   "metadata": {},
   "source": [
    "Løs nu differentialligningerne og få dermed $x(t)$ for nogle kendte tider, $t$."
   ]
  },
  {
   "cell_type": "code",
   "execution_count": null,
   "id": "d1fd93d3",
   "metadata": {},
   "outputs": [],
   "source": [
    "x0 = 1\n",
    "v0 = -1\n",
    "q0 = [x0, v0]\n",
    "t0 = 0\n",
    "t1 = 3.1\n",
    "\n",
    "steps = 100\n",
    "t_eval = np.linspace(t0,t1,steps)\n",
    "\n",
    "solution = solve_ivp(# din kode her\n",
    "                     max_step=1e-2, t_eval=t_eval)\n",
    "ts = solution.t\n",
    "xs = solution.y[0]"
   ]
  },
  {
   "cell_type": "markdown",
   "id": "ec28fd8c",
   "metadata": {},
   "source": [
    "Skriv en `update`-funktion til brug for en animation"
   ]
  },
  {
   "cell_type": "code",
   "execution_count": null,
   "id": "c8f0b453",
   "metadata": {},
   "outputs": [],
   "source": [
    "def update_delopgave_1(i):\n",
    "    klynge[2].set_po # din kode her, hvor du bruger xs[i]\n",
    "    return [] # det skulle virke med tom liste"
   ]
  },
  {
   "cell_type": "markdown",
   "id": "3792d59e",
   "metadata": {},
   "source": [
    "Test `update`-funktionen og se at du kan få vist forskellige \"frames\""
   ]
  },
  {
   "cell_type": "code",
   "execution_count": null,
   "id": "a16d11dc",
   "metadata": {},
   "outputs": [],
   "source": [
    "update_delopgave_1(steps - 1)\n",
    "fig"
   ]
  },
  {
   "cell_type": "markdown",
   "id": "6f752468",
   "metadata": {},
   "source": [
    "Gør klar til at lave animation"
   ]
  },
  {
   "cell_type": "code",
   "execution_count": null,
   "id": "951c6b70",
   "metadata": {},
   "outputs": [],
   "source": [
    "import matplotlib.pyplot as plt\n",
    "from matplotlib import animation, rc\n",
    "rc('animation', html='jshtml')"
   ]
  },
  {
   "cell_type": "markdown",
   "id": "bea9e20e",
   "metadata": {},
   "source": [
    "Lav animationen ved at køre denne celle:"
   ]
  },
  {
   "cell_type": "code",
   "execution_count": null,
   "id": "da580bd1",
   "metadata": {},
   "outputs": [],
   "source": [
    "anim = animation.FuncAnimation(fig,\n",
    "                               update_delopgave_1,\n",
    "                               frames=steps,\n",
    "                               interval=10,\n",
    "                               blit=True,\n",
    "                               repeat_delay=0)\n",
    "anim"
   ]
  },
  {
   "cell_type": "markdown",
   "id": "aef424d1",
   "metadata": {},
   "source": [
    "### Delopgave 2"
   ]
  },
  {
   "cell_type": "markdown",
   "id": "11192615",
   "metadata": {},
   "source": [
    "Nu skal Newton II løses for alle tre atomer. Atomerne tænkes fortsat alle at have $y=0$. Efter indførsel af tre hjælpe-variable, $v_0$, $v_1$ og $v_2$ har vi følgende seks koblede 1. ordensdifferentialligninger:\n",
    "\n",
    "$$\n",
    "\\begin{array}{rcl}\n",
    "\\displaystyle\\frac{dx_0}{dt}&=&v_0\n",
    "&&\\\\\n",
    "\\displaystyle\\frac{dx_1}{dt}&=&v_1\n",
    "&&\\\\\n",
    "\\displaystyle\\frac{dx_2}{dt}&=&v_2\n",
    "&&\\\\\n",
    "\\displaystyle\\frac{dv_0}{dt}&=&\\displaystyle\\frac{1}{m}f_{0x}(x_0,x_1,x_2)\n",
    "&&\\\\\n",
    "\\displaystyle\\frac{dv_1}{dt}&=&\\displaystyle\\frac{1}{m}f_{1x}(x_0,x_1,x_2)\n",
    "&&\\\\\n",
    "\\displaystyle\\frac{dv_2}{dt}&=&\\displaystyle\\frac{1}{m}f_{2x}(x_0,x_1,x_2)\n",
    "\\end{array}\n",
    "$$"
   ]
  },
  {
   "cell_type": "markdown",
   "id": "78133f62",
   "metadata": {},
   "source": [
    "Færdiggør denne funktion, så den kan bruges til at aflevere til `solve_ivp` når de seks differentialligninger skal løses:"
   ]
  },
  {
   "cell_type": "code",
   "execution_count": null,
   "id": "821d0d76",
   "metadata": {},
   "outputs": [],
   "source": [
    "m = 0.1\n",
    "def dwdt(t,w):\n",
    "    x0 = w[0]\n",
    "    x1 = w[1]\n",
    "    x2 = w[2]\n",
    "    v0 = w[3]\n",
    "    v1 = w[4]\n",
    "    v2 = w[5]\n",
    "    dx0dt = v0\n",
    "    dx1dt = # din kode\n",
    "    dx2dt = # din kode\n",
    "    klynge.set_positions([[x0,0],[x1,0],[x2,0]])\n",
    "    f = klynge.get_forces()\n",
    "    dv0dt = # din kode\n",
    "    dv1dt = # din kode\n",
    "    dv2dt = f[2][0]/m\n",
    "    dwdt = [dx0dt, dx1dt, dx2dt, dv0dt, dv1dt, dv2dt]\n",
    "    return dwdt"
   ]
  },
  {
   "cell_type": "markdown",
   "id": "7b88bbb1",
   "metadata": {},
   "source": [
    "Færdiggør nu kaldet af `solve_ivp`:"
   ]
  },
  {
   "cell_type": "code",
   "execution_count": null,
   "id": "04cea527",
   "metadata": {},
   "outputs": [],
   "source": [
    "x0 = [0, r0, 5]\n",
    "v0 = [0, 0, -.1]\n",
    "w0 = x0 + v0\n",
    "t0 = 0\n",
    "t1 = 20\n",
    "\n",
    "steps = 200\n",
    "t_eval = np.linspace(t0,t1,steps)\n",
    "\n",
    "solution = solve_ivp(# dine kode her - læg mærke til at variabler og funktioner har nye navne\n",
    "                     max_step=1e-2, t_eval=t_eval)\n",
    "ts = solution.t\n",
    "x0s = solution.y[0]\n",
    "x1s = solution.y[1]\n",
    "x2s = solution.y[2]"
   ]
  },
  {
   "cell_type": "markdown",
   "id": "cc84ba0f",
   "metadata": {},
   "source": [
    "Lav en `update`-funktion der sætter alle tre atomer på de pladser de har til `i`'te tidspunkt:"
   ]
  },
  {
   "cell_type": "code",
   "execution_count": null,
   "id": "64199eeb",
   "metadata": {},
   "outputs": [],
   "source": [
    "def update_delopgave_2(i):\n",
    "    klynge.set_positions([# din kode her\n",
    "                          # din kode her\n",
    "                          [x2s[i],0]])\n",
    "    return []"
   ]
  },
  {
   "cell_type": "code",
   "execution_count": null,
   "id": "9e271162",
   "metadata": {},
   "outputs": [],
   "source": [
    "update_delopgave_2(steps - 1)\n",
    "fig"
   ]
  },
  {
   "cell_type": "code",
   "execution_count": null,
   "id": "53d41b31",
   "metadata": {},
   "outputs": [],
   "source": [
    "anim = animation.FuncAnimation(fig,\n",
    "                               update_delopgave_2,\n",
    "                               frames=steps,\n",
    "                               interval=10,\n",
    "                               blit=True,\n",
    "                               repeat_delay=0)\n",
    "anim"
   ]
  },
  {
   "cell_type": "markdown",
   "id": "01eee901",
   "metadata": {},
   "source": [
    "### Delopgave 3"
   ]
  },
  {
   "cell_type": "markdown",
   "id": "15b4c227",
   "metadata": {},
   "source": [
    "Nu skal det samme gøres en gang til. Men denne gang skal funktionen, som gives som første argument til `solve_ivp`, skrives på en måde, hvor de tre $x$-værdier holdes i en vektor og de tre $v_x$-værdier ligeledes i en vektor."
   ]
  },
  {
   "cell_type": "markdown",
   "id": "e45003f2",
   "metadata": {},
   "source": [
    "For at give inspiration vises det her hvordan man kan lave et 2-dimensionel array med $(x,y)$-koordinater for tre atomer:"
   ]
  },
  {
   "cell_type": "code",
   "execution_count": null,
   "id": "87263e2f",
   "metadata": {},
   "outputs": [],
   "source": [
    "x = np.array([1, 2, 3])  # her er tallene 1, 2, 3 bare ment som et eksempel\n",
    "y = np.zeros(x.shape)\n",
    "p = np.array([x,y]).T\n",
    "p"
   ]
  },
  {
   "cell_type": "markdown",
   "id": "997908cd",
   "metadata": {},
   "source": [
    "Og her vises hvordan man kan \"slice\" $x$-komposanterne tilbage ud af et sådant array:"
   ]
  },
  {
   "cell_type": "code",
   "execution_count": null,
   "id": "fb7d145d",
   "metadata": {},
   "outputs": [],
   "source": [
    "p[:,0]"
   ]
  },
  {
   "cell_type": "markdown",
   "id": "63d0d113",
   "metadata": {},
   "source": [
    "Brug de to hints, der lige er givet til at skrive denne funktion, der skal gives som første argument til `solve_ivp`:"
   ]
  },
  {
   "cell_type": "code",
   "execution_count": null,
   "id": "19d0af98",
   "metadata": {},
   "outputs": [],
   "source": [
    "m = 0.1\n",
    "def dzdt(t,z):\n",
    "    x = z[:3]\n",
    "    v = z[3:]\n",
    "    dxdt = v\n",
    "    y = np.zeros(x.shape)\n",
    "    p = # brug første hint her\n",
    "    klynge.set_positions(p)\n",
    "    f = klynge.get_forces()\n",
    "    dvdt = # brug andet hint her (skal bruges på f - og husk m!)\n",
    "    dzdt = np.concatenate((dxdt,dvdt))\n",
    "    return dzdt"
   ]
  },
  {
   "cell_type": "markdown",
   "id": "e08804c9",
   "metadata": {},
   "source": [
    "Og kør nu løsningen af differentialligningerne for de tre atomer:"
   ]
  },
  {
   "cell_type": "code",
   "execution_count": null,
   "id": "b193d21c",
   "metadata": {},
   "outputs": [],
   "source": [
    "x0 = [0, r0, 5]\n",
    "v0 = [0, 0, -.1]\n",
    "z0 = x0 + v0\n",
    "t0 = 0\n",
    "t1 = 20\n",
    "\n",
    "steps = 200\n",
    "t_eval = np.linspace(t0,t1,steps)\n",
    "\n",
    "solution = solve_ivp(dzdt, [t0, t1], z0,\n",
    "                     max_step=1e-2, t_eval=t_eval)\n",
    "ts = solution.t\n",
    "nye_x0s = solution.y[0]\n",
    "nye_x1s = solution.y[1]\n",
    "nye_x2s = solution.y[2]"
   ]
  },
  {
   "cell_type": "markdown",
   "id": "92bd8493",
   "metadata": {},
   "source": [
    "Lav en ny `update`-funktion med denne løsning"
   ]
  },
  {
   "cell_type": "code",
   "execution_count": null,
   "id": "a7d38472",
   "metadata": {},
   "outputs": [],
   "source": [
    "def update_delopgave_3(i):\n",
    "    klynge.set_positions([[nye_x0s[i],0], # din kode her\n",
    "    return []"
   ]
  },
  {
   "cell_type": "markdown",
   "id": "ed5a2647",
   "metadata": {},
   "source": [
    "Og kør animationen igen:"
   ]
  },
  {
   "cell_type": "code",
   "execution_count": null,
   "id": "9b28de32",
   "metadata": {},
   "outputs": [],
   "source": [
    "anim = animation.FuncAnimation(fig,\n",
    "                               update_delopgave_3,\n",
    "                               frames=steps,\n",
    "                               interval=10,\n",
    "                               blit=True,\n",
    "                               repeat_delay=0)\n",
    "anim"
   ]
  },
  {
   "cell_type": "markdown",
   "id": "46377807",
   "metadata": {},
   "source": [
    "### Delopgave 4"
   ]
  },
  {
   "cell_type": "markdown",
   "id": "bad17320",
   "metadata": {},
   "source": [
    "Nu skal alle tre atomer bevæges i såvel $x$- som $y$-retningen."
   ]
  },
  {
   "cell_type": "markdown",
   "id": "19d8442a",
   "metadata": {},
   "source": [
    "Der indføres et antal vektorer:\n",
    "$$\n",
    "\\begin{array}{rcl}\n",
    "\\mathbf{x}&=&\\left(x_0, x_1, x_2\\right)\n",
    "&&\\\\\n",
    "\\mathbf{y}&=&\\left(y_0, y_1, y_2\\right)\n",
    "&&\\\\\n",
    "\\mathbf{v}_x&=&\\left(v_{x0}, v_{x1}, v_{x2}\\right)\n",
    "&&\\\\\n",
    "\\mathbf{v}_y&=&\\left(v_{y0}, v_{y1}, v_{y2}\\right)\n",
    "\\end{array}\n",
    "$$"
   ]
  },
  {
   "cell_type": "markdown",
   "id": "90d56aba",
   "metadata": {},
   "source": [
    "Med disse vektorer ser Newton II således ud for de tre atomer:"
   ]
  },
  {
   "cell_type": "markdown",
   "id": "d6c43df9",
   "metadata": {},
   "source": [
    "$$\n",
    "\\begin{array}{rcl}\n",
    "\\displaystyle\\frac{d\\mathbf{x}}{dt}&=&\\mathbf{v}_x\n",
    "&&\\\\\n",
    "\\displaystyle\\frac{d\\mathbf{y}}{dt}&=&\\mathbf{v}_y\n",
    "&&\\\\\n",
    "\\displaystyle\\frac{d\\mathbf{v}_x}{dt}&=&\\displaystyle\\frac{1}{m}\\mathbf{f}_x\n",
    "&&\\\\\n",
    "\\displaystyle\\frac{d\\mathbf{v}_y}{dt}&=&\\displaystyle\\frac{1}{m}\\mathbf{f}_y\n",
    "\\end{array}\n",
    "$$"
   ]
  },
  {
   "cell_type": "markdown",
   "id": "96b5bb04",
   "metadata": {},
   "source": [
    "Saml nu $\\mathbf{x}$, $\\mathbf{y}$, $\\mathbf{v}_x$ og $\\mathbf{v}_y$ i én kæmpe vektor, `s`, og udled alle 12 afledte:"
   ]
  },
  {
   "cell_type": "code",
   "execution_count": null,
   "id": "23d1f797",
   "metadata": {},
   "outputs": [],
   "source": [
    "m = 0.1\n",
    "def dsdt(t,s):\n",
    "    x = s[:3]\n",
    "    y = s[3: # din kode her\n",
    "    vx = # din kode her\n",
    "    vy = # din kode her\n",
    "    dxdt = vx\n",
    "    dydt = vy\n",
    "    p = np.array([x,y]).T\n",
    "    klynge.set_positions(p)\n",
    "    f = klynge.get_forces()\n",
    "    dvxdt = f[:,0]/m\n",
    "    dvydt = # din kode her\n",
    "    dsdt = np.concatenate((dxdt,dydt,dvxdt,dvydt))\n",
    "    return dsdt"
   ]
  },
  {
   "cell_type": "markdown",
   "id": "27290c32",
   "metadata": {},
   "source": [
    "Løs bevægelsesligningerne"
   ]
  },
  {
   "cell_type": "code",
   "execution_count": null,
   "id": "babbb34c",
   "metadata": {},
   "outputs": [],
   "source": [
    "r0 = 2**(1/6)\n",
    "\n",
    "BETINGELSE = 1\n",
    "if BETINGELSE == 0:\n",
    "    x0 = [7, 7, 9.5]\n",
    "    y0 = [r0/2, -r0/2, 7.5]\n",
    "    vx0 = [-1.2, -0.8, -1.5]\n",
    "    vy0 = [0, 0, -1.5]\n",
    "elif BETINGELSE == 1:\n",
    "    x0 = [7, 7, 9.8]\n",
    "    y0 = [r0/2, -r0/2, 7.5]\n",
    "    vx0 = [-0.9, -1.1, -1.25]\n",
    "    vy0 = [0, 0, -1.]\n",
    "\n",
    "s0 = x0 + y0 + vx0 +vy0\n",
    "t0 = 0\n",
    "t1 = 20\n",
    "\n",
    "steps = 100\n",
    "t_eval = np.linspace(t0,t1,steps)\n",
    "\n",
    "solution = solve_ivp(dsdt, [t0, t1], s0,\n",
    "                     max_step=1e-3, t_eval=t_eval)\n",
    "ts = solution.t\n",
    "x0s = solution.y[0]\n",
    "x1s = solution.y[1]\n",
    "x2s = solution.y[2]\n",
    "y0s = solution.y[3]\n",
    "y1s = solution.y[4]\n",
    "y2s = solution.y[5]"
   ]
  },
  {
   "cell_type": "markdown",
   "id": "908483ea",
   "metadata": {},
   "source": [
    "Omskriv `update`-funktionen, så den benytter ikke alene de beregnede $x$-værdier som i delopgave 3, men også $y$-værdierne."
   ]
  },
  {
   "cell_type": "code",
   "execution_count": null,
   "id": "6f79f00f",
   "metadata": {},
   "outputs": [],
   "source": [
    "ax.set_xlim([-10,10])\n",
    "ax.set_ylim([-10,10])\n",
    "\n",
    "def update_delopgave_4(i):\n",
    "    klynge.set_positions([[x0s[i], # din kode her\n",
    "                          [x1s[i], # din kode her\n",
    "                          [x2s[i],y2s[i]]])\n",
    "    return [] # det skulle virke med tom liste"
   ]
  },
  {
   "cell_type": "markdown",
   "id": "a4c278c5",
   "metadata": {},
   "source": [
    "Test `update`-funktionen:"
   ]
  },
  {
   "cell_type": "code",
   "execution_count": null,
   "id": "9edccbaf",
   "metadata": {},
   "outputs": [],
   "source": [
    "update_delopgave_4(steps//2)\n",
    "fig"
   ]
  },
  {
   "cell_type": "markdown",
   "id": "8a706d44",
   "metadata": {},
   "source": [
    "Kør en animation:"
   ]
  },
  {
   "cell_type": "code",
   "execution_count": null,
   "id": "e6070237",
   "metadata": {},
   "outputs": [],
   "source": [
    "anim = animation.FuncAnimation(fig,\n",
    "                               update_delopgave_4,\n",
    "                               frames=steps,\n",
    "                               interval=10,\n",
    "                               blit=True,\n",
    "                               repeat_delay=0)\n",
    "anim"
   ]
  },
  {
   "cell_type": "markdown",
   "id": "c938d546",
   "metadata": {},
   "source": [
    "### Delopgave 5"
   ]
  },
  {
   "cell_type": "markdown",
   "id": "1c552d09",
   "metadata": {},
   "source": [
    "Beregn middelværdien af de tre atomers $x$- og $y$-koordianter, samt middelværdien $x$- og $y$-komposanterne af deres hastighedsvektorer. Plot disse middelværdier som funktion af tiden."
   ]
  },
  {
   "cell_type": "code",
   "execution_count": null,
   "id": "298ae0b7",
   "metadata": {},
   "outputs": [],
   "source": [
    "xmean = solution.y[:3].mean(axis= # din kode her\n",
    "ymean = solution.y[3:6].mean(axis= # din kode her\n",
    "vxmean = solution.y[6:9].mean(axis= # din kode her\n",
    "vymean = solution.y[9:].mean(axis= # din kode her\n",
    "fig2, ax2 = plt.subplots()\n",
    "ax2.plot(ts, xmean, label='$x$')\n",
    "ax2.plot(ts, ymean, label='$y$')\n",
    "ax2.plot(ts, vxmean, label='$v_x$')\n",
    "ax2.plot(ts, vymean, label='$v_y$')\n",
    "ax2.legend()\n",
    "None"
   ]
  },
  {
   "cell_type": "markdown",
   "id": "0d8e9ab0",
   "metadata": {},
   "source": [
    "Afgør ud fra figuren om der er impulsbevarelse"
   ]
  },
  {
   "cell_type": "markdown",
   "id": "38980523",
   "metadata": {},
   "source": [
    "Kør simuleringen igen, hvor begyndelsesbetingelserne vælges så det samlede impulsmoment er nul."
   ]
  },
  {
   "cell_type": "code",
   "execution_count": null,
   "id": "3de1f59b",
   "metadata": {},
   "outputs": [],
   "source": [
    "r0 = 2**(1/6)\n",
    "\n",
    "x0 = np.array([7, 7, 9.8])\n",
    "y0 = np.array([r0/2, -r0/2, 7.5])\n",
    "vx0 = np.array([-0.9, -1.1, -1.25])\n",
    "vy0 = np.array([0, 0, -1.])\n",
    "\n",
    "x0 = x0 - x0.mean()\n",
    "y0 = y0 - y0.mean()\n",
    "vx0 = vx0 - vx0.mean()\n",
    "vy0 = vy0 - vy0.mean()\n",
    "\n",
    "s0 = np.concatenate((x0, y0, vx0, vy0))\n",
    "t0 = 0\n",
    "t1 = 20\n",
    "\n",
    "steps = 200\n",
    "t_eval = np.linspace(t0,t1,steps)\n",
    "\n",
    "solution = solve_ivp(dsdt, [t0, t1], s0,\n",
    "                     max_step=1e-3, t_eval=t_eval)\n",
    "ts = solution.t\n",
    "x0s = solution.y[0]\n",
    "x1s = solution.y[1]\n",
    "x2s = solution.y[2]\n",
    "y0s = solution.y[3]\n",
    "y1s = solution.y[4]\n",
    "y2s = solution.y[5]"
   ]
  },
  {
   "cell_type": "code",
   "execution_count": null,
   "id": "8c9c0da0",
   "metadata": {},
   "outputs": [],
   "source": [
    "update_delopgave_4(steps//2)\n",
    "fig"
   ]
  },
  {
   "cell_type": "code",
   "execution_count": null,
   "id": "64715ff5",
   "metadata": {},
   "outputs": [],
   "source": [
    "anim = animation.FuncAnimation(fig,\n",
    "                               update_delopgave_4,\n",
    "                               frames=steps,\n",
    "                               interval=10,\n",
    "                               blit=True,\n",
    "                               repeat_delay=0)\n",
    "anim"
   ]
  },
  {
   "cell_type": "markdown",
   "id": "3c799326",
   "metadata": {},
   "source": [
    "Beregn til alle tider det samlede impulsmoment omkring $z$-aksen som funktion af $t$:\n",
    "\n",
    "$$\n",
    "L_z = \\left( \\sum_i \\mathbf{r}_i \\times m\\mathbf{v}_i \\right) \\cdot \\hat{\\mathbf{z}}\n",
    "$$\n",
    "\n",
    "hvor $\\mathbf{r}_i$ og $\\mathbf{v}_i$ er de bestemte tidsafhængige positioner og hastigheder af det $i$'te atom.\n",
    "\n",
    "Hint: Hvis man giver NumPy's `np.cross`-funktion to 2-dimensionelle vektorer beregner den netop z-komposanten af de tilsvarende 3-dimensionelle vektorer med 0 som $z$-komposanter."
   ]
  },
  {
   "cell_type": "code",
   "execution_count": null,
   "id": "8ac15fc2",
   "metadata": {},
   "outputs": [],
   "source": [
    "vx0s = solution.y[6]\n",
    "vx1s = solution.y[7]\n",
    "vx2s = solution.y[8]\n",
    "vy0s = solution.y[9]\n",
    "vy1s = solution.y[10]\n",
    "vy2s = solution.y[11]\n",
    "\n",
    "ls = []\n",
    "for x0,x1,x2,y0,y1,y2,vx0,vx1,vx2,vy0,vy1,vy2 in zip(x0s,x1s,x2s,y0s,y1s,y2s,vx0s,vx1s,vx2s,vy0s,vy1s,vy2s):\n",
    "    l = 0\n",
    "    for x,y,vx,vy in zip([x0,x1,x2],[y0,y1,y2],[vx0,vx1,vx2],[vy0,vy1,vy2]):\n",
    "        r = np.array([x,y])\n",
    "        v = np.array([vx,vy])\n",
    "        # beregn impulsmomentet for dette atom\n",
    "    ls.append(l)\n",
    "ls[0],ls[len(ls)//2],ls[-1]"
   ]
  },
  {
   "cell_type": "markdown",
   "id": "55f1fd5a",
   "metadata": {},
   "source": [
    "Afgør om der er impulsmomentbevarelse."
   ]
  },
  {
   "cell_type": "code",
   "execution_count": null,
   "id": "38e05284",
   "metadata": {},
   "outputs": [],
   "source": []
  },
  {
   "cell_type": "code",
   "execution_count": null,
   "id": "81bff966",
   "metadata": {},
   "outputs": [],
   "source": []
  }
 ],
 "metadata": {
  "kernelspec": {
   "display_name": "Python 3 (ipykernel)",
   "language": "python",
   "name": "python3"
  },
  "language_info": {
   "codemirror_mode": {
    "name": "ipython",
    "version": 3
   },
   "file_extension": ".py",
   "mimetype": "text/x-python",
   "name": "python",
   "nbconvert_exporter": "python",
   "pygments_lexer": "ipython3",
   "version": "3.9.7"
  }
 },
 "nbformat": 4,
 "nbformat_minor": 5
}
