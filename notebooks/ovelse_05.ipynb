{
  "cells": [
    {
      "cell_type": "markdown",
      "id": "3fe8732f",
      "metadata": {
        "id": "3fe8732f"
      },
      "source": [
        "# TØ 5"
      ]
    },
    {
      "cell_type": "markdown",
      "id": "be467310",
      "metadata": {
        "id": "be467310"
      },
      "source": [
        "Til denne TØ skal du lære at løse differentialligninger med `solve_ivp`.\n",
        "\n",
        "Du kommer igennem forskellige ting:\n",
        "\n",
        "* integration af -kraf langs vej til bestemmelse af udført arbejde som funktion af vej\n",
        "\n",
        "* løsning af Newton II for én-dimensionelt problem\n",
        "\n",
        "* løsning af Newton II for to-dimensionelt problem"
      ]
    },
    {
      "cell_type": "markdown",
      "id": "e2c363de",
      "metadata": {
        "id": "e2c363de"
      },
      "source": [
        "Kør den næste celle for at få installeret den nødvendige pakke"
      ]
    },
    {
      "cell_type": "code",
      "execution_count": null,
      "id": "bb41df77",
      "metadata": {
        "id": "bb41df77"
      },
      "outputs": [],
      "source": [
        "%load_ext autoreload\n",
        "%autoreload 2\n",
        "\n",
        "import os\n",
        "if not os.path.exists('python23'):\n",
        "    !git clone https://github.com/uniblender/python23.git/ > git_output.txt\n",
        "else:\n",
        "    os.chdir('python23')\n",
        "    !git pull \n",
        "    os.chdir('../')\n",
        "!pip install python23/utils_package/ > pip_output.txt\n",
        "\n",
        "from utils.lennard_jones import Atom, Atoms"
      ]
    },
    {
      "cell_type": "markdown",
      "id": "fbb8bdc2",
      "metadata": {
        "id": "fbb8bdc2"
      },
      "source": [
        "Importér NumPy og Matplotlib"
      ]
    },
    {
      "cell_type": "code",
      "execution_count": null,
      "id": "b82c45a1",
      "metadata": {
        "id": "b82c45a1"
      },
      "outputs": [],
      "source": [
        "import numpy as np\n",
        "import matplotlib.pyplot as plt"
      ]
    },
    {
      "cell_type": "markdown",
      "id": "611bf145",
      "metadata": {
        "id": "611bf145"
      },
      "source": [
        "Importér den funktion der skal bruges til at løse differentialligninger"
      ]
    },
    {
      "cell_type": "code",
      "execution_count": null,
      "id": "078efb2b",
      "metadata": {
        "id": "078efb2b"
      },
      "outputs": [],
      "source": [
        "from scipy.integrate import solve_ivp"
      ]
    },
    {
      "cell_type": "markdown",
      "id": "b42a32a1",
      "metadata": {
        "id": "b42a32a1"
      },
      "source": [
        "### Delopgave 1"
      ]
    },
    {
      "cell_type": "markdown",
      "id": "50cdaa62",
      "metadata": {
        "id": "50cdaa62"
      },
      "source": [
        "Løs for $-5.426\\le x\\le 10$ differentialligningen:\n",
        "\\begin{equation*}                                                                                                                        \n",
        "\\frac{dy}{dx}=-1-\\frac{1}{10}xy                                                                                                          \n",
        "\\end{equation*}\n",
        "idet det oplyses at $y(x=10)=\\displaystyle\\frac{1}{100}$.\n",
        "\n",
        "Bestem $y(-5.426)$."
      ]
    },
    {
      "cell_type": "code",
      "execution_count": null,
      "id": "4ec1e060",
      "metadata": {
        "id": "4ec1e060"
      },
      "outputs": [],
      "source": []
    },
    {
      "cell_type": "markdown",
      "id": "7cce01fd",
      "metadata": {
        "id": "7cce01fd"
      },
      "source": [
        "### Delopgave 2"
      ]
    },
    {
      "cell_type": "markdown",
      "id": "e2c9ab9e",
      "metadata": {
        "id": "e2c9ab9e"
      },
      "source": [
        "Kør næste celle for at få et koordinatsystem tegnet"
      ]
    },
    {
      "cell_type": "code",
      "execution_count": null,
      "id": "4d573f75",
      "metadata": {
        "id": "4d573f75"
      },
      "outputs": [],
      "source": [
        "def grid_med_mere(ax):\n",
        "    ax.set_aspect('equal', adjustable='box')\n",
        "    ax.set_xlim([-1,11])\n",
        "    ax.set_ylim([-5.5,5.5])\n",
        "    ax.grid()\n",
        "\n",
        "def ny_figur():\n",
        "    fig, ax = plt.subplots()\n",
        "    grid_med_mere(ax)\n",
        "    return fig, ax\n",
        "fig, ax = ny_figur()"
      ]
    },
    {
      "cell_type": "markdown",
      "id": "a3c2cb4f",
      "metadata": {
        "id": "a3c2cb4f"
      },
      "source": [
        "Kør næste celle for at få tre atomer defineret"
      ]
    },
    {
      "cell_type": "code",
      "execution_count": null,
      "id": "22f46823",
      "metadata": {
        "id": "22f46823"
      },
      "outputs": [],
      "source": [
        "r0 = 2**(1/6)\n",
        "p = [0, r0/2]\n",
        "atom1 = Atom(p)\n",
        "p = [0, -r0/2]\n",
        "atom2 = Atom(p)\n",
        "p = [10, 0]\n",
        "atom3 = Atom(p,color='C2')"
      ]
    },
    {
      "cell_type": "markdown",
      "id": "0fd3c694",
      "metadata": {
        "id": "0fd3c694"
      },
      "source": [
        "Saml de tre atomer som et `Atoms`-objekt og plot atomerne."
      ]
    },
    {
      "cell_type": "code",
      "execution_count": null,
      "id": "08aee05d",
      "metadata": {
        "id": "08aee05d"
      },
      "outputs": [],
      "source": [
        "klynge = Atoms([atom1, atom2, # din kode her\n",
        "\n",
        "for atom in # din kode her\n",
        "    atom.plot(ax)\n",
        "fig"
      ]
    },
    {
      "cell_type": "markdown",
      "id": "5a39bc6c",
      "metadata": {
        "id": "5a39bc6c"
      },
      "source": [
        "Arbejdet som kraften fra de blå atomer udfører på det grønne atom, når dette flyttes fra $x=10$ til et vilkårligt $x$ kan beregnes med differentialligningen:\n",
        "$$\n",
        "\\frac{dW}{dx}=f(x)\n",
        "$$"
      ]
    },
    {
      "cell_type": "markdown",
      "id": "d577e7e6",
      "metadata": {
        "id": "d577e7e6"
      },
      "source": [
        "Skriv en funktion, der modtager den uafhængige variable, $x$, og den afhængige variable, $W$, som argumenter og returnerer minus kraften på det grønne atom, når det placeres i $(x,0)$."
      ]
    },
    {
      "cell_type": "code",
      "execution_count": null,
      "id": "365672a5",
      "metadata": {
        "id": "365672a5"
      },
      "outputs": [],
      "source": [
        "def dWdx(x,W):\n",
        "    klynge[2]. # din kode her (se en tidligere øvelse, hvor du gjorde det)\n",
        "    f = klynge. # din kode her (se en tidligere øvelse, hvor du gjorde det)\n",
        "    return f"
      ]
    },
    {
      "cell_type": "markdown",
      "id": "02a85fb1",
      "metadata": {
        "id": "02a85fb1"
      },
      "source": [
        "Beregn `-100 * dWdx(0.9771765,0)`"
      ]
    },
    {
      "cell_type": "code",
      "execution_count": null,
      "id": "32a621e0",
      "metadata": {
        "id": "32a621e0"
      },
      "outputs": [],
      "source": [
        "-100 * dWdx(0.9771765,0)"
      ]
    },
    {
      "cell_type": "markdown",
      "id": "cb4d6465",
      "metadata": {
        "id": "cb4d6465"
      },
      "source": [
        "Bestem med `solve_ivp` W(x) for $0.8 \\le x\\le 10$ idet W(x=10) = 0"
      ]
    },
    {
      "cell_type": "code",
      "execution_count": null,
      "id": "eec7e330",
      "metadata": {
        "id": "eec7e330"
      },
      "outputs": [],
      "source": [
        "W0 = # din kode\n",
        "x0 = # din kode\n",
        "x1 = # din kode\n",
        "\n",
        "steps = 1000\n",
        "x_eval = np.linspace(x0,x1,steps)\n",
        "\n",
        "solution = solve_ivp(# din kode\n",
        "                     max_step=1e-2, t_eval=x_eval)\n",
        "xs = solution. # din kode\n",
        "Ws = solution. # din kode"
      ]
    },
    {
      "cell_type": "markdown",
      "id": "a76bd119",
      "metadata": {
        "id": "a76bd119"
      },
      "source": [
        "Ændringen i den potentielle energi er minus det udførte arbejde. Sæt den potentielle energi, $U(x)$, til $0$ for $x=10$. Benyt $W(x)$ til at bestemme $U(x)$. Plot den potentielle energi som funktion af $x$."
      ]
    },
    {
      "cell_type": "code",
      "execution_count": null,
      "id": "e6068d54",
      "metadata": {
        "id": "e6068d54"
      },
      "outputs": [],
      "source": [
        "fig, ax = plt.subplots()\n",
        "Us = # din kode til at få U-værdier ud fra de W-værdier du lige har beregnet\n",
        "ax.plot(xs, Us)"
      ]
    },
    {
      "cell_type": "markdown",
      "id": "d0250409",
      "metadata": {
        "id": "d0250409"
      },
      "source": [
        "Du skal se at $U$ har minimumsværdien $-2$. Bestem nu det sted, $x_1$, hvor $U$ antager sin minimumsværdi, som jo er dér hvor $W$ har sin maksimumsværdi. Dvs. bestem med `fsolve` $x_1$ så:\n",
        "\n",
        "$$\n",
        "\\left.\\frac{dW}{dx}\\right|_{x_1}=0,\n",
        "$$\n",
        "dvs. $x$-værdien for hvilken hældningen af $W$ er nul.\n",
        "\n",
        "Hint: lav en funktion, der kun tager $x$ som argument og kalder den funktion, du lavede til løsning af differentialligningen. Den sidstnævnte tager to argumenter, men andet argument indgår slet ikke i udtrykket for $\\displaystyle\\frac{dW}{dx}$, så det kan bare sættes til noget arbitrært, fx $0$."
      ]
    },
    {
      "cell_type": "code",
      "execution_count": null,
      "id": "320a3394",
      "metadata": {
        "id": "320a3394"
      },
      "outputs": [],
      "source": [
        "\n",
        "x1 = fsolve( # dine kode\n",
        "x1"
      ]
    },
    {
      "cell_type": "markdown",
      "id": "a899a23d",
      "metadata": {
        "id": "a899a23d"
      },
      "source": [
        "Indsæt en lodret streg for $x=x_1$ (fx for $-3\\le y\\le 1$) og zoom på $x$-aksen til $0.5 \\le x \\le 1.5$\n",
        "\n",
        "![Screenshot 2023-03-04 at 17.51.05.png](data:image/png;base64,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)"
      ]
    },
    {
      "cell_type": "code",
      "execution_count": null,
      "id": "d84be2aa",
      "metadata": {
        "id": "d84be2aa"
      },
      "outputs": [],
      "source": [
        "ax.plot( # din kode her"
      ]
    },
    {
      "cell_type": "markdown",
      "id": "938096c5",
      "metadata": {
        "id": "938096c5"
      },
      "source": [
        "Beregn afstanden, $d$, fra det grønne atom i $(x_1,0)$ til et af de blå atomer"
      ]
    },
    {
      "cell_type": "code",
      "execution_count": null,
      "id": "474d6597",
      "metadata": {
        "id": "474d6597"
      },
      "outputs": [],
      "source": [
        "d_vektor = # din kode her\n",
        "d = # din kode her\n",
        "d"
      ]
    },
    {
      "cell_type": "markdown",
      "id": "1300e501",
      "metadata": {
        "id": "1300e501"
      },
      "source": [
        "Bestem forholdet $d/r_0$"
      ]
    },
    {
      "cell_type": "code",
      "execution_count": null,
      "id": "b22327a2",
      "metadata": {
        "id": "b22327a2"
      },
      "outputs": [],
      "source": [
        "d/r0"
      ]
    },
    {
      "cell_type": "markdown",
      "id": "8719d889",
      "metadata": {
        "id": "8719d889"
      },
      "source": [
        "Forklar nu hvorfor $W$ antog netop minimumsværdien $-2$ for $x_1$"
      ]
    },
    {
      "cell_type": "markdown",
      "id": "13c63416",
      "metadata": {
        "id": "13c63416"
      },
      "source": []
    },
    {
      "cell_type": "markdown",
      "id": "e2509766",
      "metadata": {
        "id": "e2509766"
      },
      "source": [
        "### Delopgave 3"
      ]
    },
    {
      "cell_type": "markdown",
      "id": "37e1a1f2",
      "metadata": {
        "id": "37e1a1f2"
      },
      "source": [
        "Det grønne atom oplyses at have masse $m=1/10$ samt start-hastighed $0$ i positionen $(2.5,0)$.\n",
        "Pga symmetri kan du sætte $y=0$ i denne delopgave.\n",
        "\n",
        "Løs nu Newton II for det grønne atom i tidsrummet $0\\le t\\le 6.15$:\n",
        "\n",
        "$$\n",
        "m\\frac{d^2 x}{dt^2}=f_x(x)\n",
        "$$"
      ]
    },
    {
      "cell_type": "code",
      "execution_count": null,
      "id": "ebeb0c22",
      "metadata": {
        "id": "ebeb0c22"
      },
      "outputs": [],
      "source": [
        "m = 0.1\n",
        "def dqdt(t,q):\n",
        "    x = q[0]\n",
        "    v = # din kode herfra"
      ]
    },
    {
      "cell_type": "code",
      "execution_count": null,
      "id": "e4130c46",
      "metadata": {
        "id": "e4130c46"
      },
      "outputs": [],
      "source": [
        "x0 = # din kode her og de næste linier\n",
        "v0 = \n",
        "t0 = \n",
        "t1 = \n",
        "klynge[2].set_position([x0,0])\n",
        "\n",
        "steps = 200\n",
        "t_eval = np.linspace(t0,t1,steps)\n",
        "\n",
        "solution = solve_ivp(# din kode\n",
        "                     max_step=1e-2, t_eval=t_eval)\n",
        "ts = solution. # din kode\n",
        "xs = solution. # din kode"
      ]
    },
    {
      "cell_type": "markdown",
      "id": "e5a8714f",
      "metadata": {
        "id": "e5a8714f"
      },
      "source": [
        "Kør denne celle for at få plottet atomerne i et koordinatsystem:"
      ]
    },
    {
      "cell_type": "code",
      "execution_count": null,
      "id": "07336b6d",
      "metadata": {
        "id": "07336b6d"
      },
      "outputs": [],
      "source": [
        "fig, ax = ny_figur()\n",
        "for atom in klynge:\n",
        "    atom.plot(ax)\n",
        "ax.set_xlim([-1.5,3.5])\n",
        "ax.set_ylim([-2.5,2.5])"
      ]
    },
    {
      "cell_type": "markdown",
      "id": "6a24dcbc",
      "metadata": {
        "id": "6a24dcbc"
      },
      "source": [
        "Skriv en update-funktion til brug for en animation. Funktionen skal modtage et index, `i`, og flytte det grønne atom til den `i`'t løsning som du har beregnet med `solve_ivp`. (Lad bare update-funktionen returnere en tom liste - den kan fortsat bruges til at animere med)."
      ]
    },
    {
      "cell_type": "code",
      "execution_count": null,
      "id": "5bf521b6",
      "metadata": {
        "id": "5bf521b6"
      },
      "outputs": [],
      "source": [
        "def update # din kode\n",
        "    # din kode\n",
        "    return [] # det skulle virke med tom liste"
      ]
    },
    {
      "cell_type": "markdown",
      "id": "fc2d6fac",
      "metadata": {
        "id": "fc2d6fac"
      },
      "source": [
        "Test din update-funktion, fx:"
      ]
    },
    {
      "cell_type": "code",
      "execution_count": null,
      "id": "efb6ef2c",
      "metadata": {
        "id": "efb6ef2c"
      },
      "outputs": [],
      "source": [
        "update(50)\n",
        "fig"
      ]
    },
    {
      "cell_type": "markdown",
      "id": "3b728e29",
      "metadata": {
        "id": "3b728e29"
      },
      "source": [
        "Animér hele løsningen fra `solve_ivp`."
      ]
    },
    {
      "cell_type": "code",
      "execution_count": null,
      "id": "e1409319",
      "metadata": {
        "id": "e1409319"
      },
      "outputs": [],
      "source": [
        "# din kode\n",
        "\n",
        "anim"
      ]
    },
    {
      "cell_type": "markdown",
      "id": "c5738819",
      "metadata": {
        "id": "c5738819"
      },
      "source": [
        "### Delopgave 4"
      ]
    },
    {
      "cell_type": "markdown",
      "id": "428f92f0",
      "metadata": {
        "id": "428f92f0"
      },
      "source": [
        "Nu løses samme opgave som i delopgave 3, men uden symmetrien. Det betyder at $y$ ikke længere er lig 0. Der bliver dermed tale om fire afhængige variable:\n",
        "$x$, $y$, $v_x$ og $v_y$.\n",
        "\n",
        "Med $\\mathbf{r}=(x,y)$ og $\\mathbf{v}=(v_x,v_y)$ ser Newton II således ud:\n",
        "\n",
        "$$\n",
        "m \\frac{d^2}{dt^2}\\mathbf{r}= \\mathbf{F}_{res}\n",
        "$$\n",
        "\n",
        "hvilket kan foldes ud som to koblede 1. ordens differentialligninger:\n",
        "\n",
        "$$\n",
        "\\begin{array}{rcl}\n",
        "\\displaystyle\\frac{d}{dt}\\mathbf{r}&=&\\mathbf{v}\\\\\n",
        "&&\\\\\n",
        "\\displaystyle\\frac{d}{dt}\\mathbf{v}&=&\\mathbf{F}_{res}/m\n",
        "\\end{array}\n",
        "$$\n",
        "\n",
        "\n",
        "Saml de fire afhængige variable i en \"beholder\", fx `rv` og skriv en `drvdt`-funktion til at bruge sammen med `solve_ivp`:"
      ]
    },
    {
      "cell_type": "code",
      "execution_count": null,
      "id": "e34c200b",
      "metadata": {
        "id": "e34c200b"
      },
      "outputs": [],
      "source": [
        "def drvdt(t,rv):\n",
        "    r = # din kode\n",
        "    v ="
      ]
    },
    {
      "cell_type": "markdown",
      "id": "942ae601",
      "metadata": {
        "id": "942ae601"
      },
      "source": [
        "Tjek at funktionen kan kaldes således:"
      ]
    },
    {
      "cell_type": "code",
      "execution_count": null,
      "id": "b7e8ed60",
      "metadata": {
        "id": "b7e8ed60"
      },
      "outputs": [],
      "source": [
        "drvdt(0,[1.73139246, 2.20680611, 0, 0]) # du skal få: [0, 0, -0.42, -0.42]"
      ]
    },
    {
      "cell_type": "markdown",
      "id": "f2bcc221",
      "metadata": {
        "id": "f2bcc221"
      },
      "source": [
        "Start ud med $\\mathbf{r}=(2,2)$ og $\\mathbf{v}=(0,0)$ og løs for $0\\le t\\le 10$"
      ]
    },
    {
      "cell_type": "code",
      "execution_count": null,
      "id": "4c69d392",
      "metadata": {
        "id": "4c69d392"
      },
      "outputs": [],
      "source": [
        "t_end = 15\n",
        "steps=50*t_end\n",
        "times=np.linspace(0,t_end,steps)\n",
        "\n",
        "rv0 = [2, 2, 0, 0]"
      ]
    },
    {
      "cell_type": "code",
      "execution_count": null,
      "id": "981c72d6",
      "metadata": {
        "id": "981c72d6"
      },
      "outputs": [],
      "source": [
        "solution = solve_ivp(# din kode\n",
        "                     max_step=1e-2, t_eval=times)\n",
        "xs = solution. # din kode\n",
        "ys = solution. # din kode"
      ]
    },
    {
      "cell_type": "markdown",
      "id": "ae12ca9e",
      "metadata": {
        "id": "ae12ca9e"
      },
      "source": [
        "Skriv en ny update-funktion"
      ]
    },
    {
      "cell_type": "code",
      "execution_count": null,
      "id": "01553c30",
      "metadata": {
        "id": "01553c30"
      },
      "outputs": [],
      "source": [
        "def update(i):\n",
        "    klynge[2].set_position( # din kode\n",
        "    return []"
      ]
    },
    {
      "cell_type": "markdown",
      "id": "8a42ad26",
      "metadata": {
        "id": "8a42ad26"
      },
      "source": [
        "Tjek at update-funktionen virker"
      ]
    },
    {
      "cell_type": "code",
      "execution_count": null,
      "id": "9e8ad298",
      "metadata": {
        "id": "9e8ad298"
      },
      "outputs": [],
      "source": [
        "update(300)\n",
        "fig"
      ]
    },
    {
      "cell_type": "markdown",
      "id": "e15feaae",
      "metadata": {
        "id": "e15feaae"
      },
      "source": [
        "Foretage en animation"
      ]
    },
    {
      "cell_type": "code",
      "execution_count": null,
      "id": "c65a51b4",
      "metadata": {
        "id": "c65a51b4"
      },
      "outputs": [],
      "source": [
        "anim = animation.FuncAnimation(fig,\n",
        "                               update,\n",
        "                               frames= # din kode her\n",
        "                               interval=10,\n",
        "                               blit=True,\n",
        "                               repeat_delay=0)\n",
        "anim"
      ]
    },
    {
      "cell_type": "code",
      "execution_count": null,
      "id": "84027c4e",
      "metadata": {
        "id": "84027c4e"
      },
      "outputs": [],
      "source": []
    },
    {
      "cell_type": "code",
      "execution_count": null,
      "id": "aa08211f",
      "metadata": {
        "id": "aa08211f"
      },
      "outputs": [],
      "source": []
    },
    {
      "cell_type": "code",
      "execution_count": null,
      "id": "aa071f66",
      "metadata": {
        "id": "aa071f66"
      },
      "outputs": [],
      "source": []
    }
  ],
  "metadata": {
    "kernelspec": {
      "display_name": "Python 3 (ipykernel)",
      "language": "python",
      "name": "python3"
    },
    "language_info": {
      "codemirror_mode": {
        "name": "ipython",
        "version": 3
      },
      "file_extension": ".py",
      "mimetype": "text/x-python",
      "name": "python",
      "nbconvert_exporter": "python",
      "pygments_lexer": "ipython3",
      "version": "3.9.7"
    },
    "colab": {
      "provenance": []
    }
  },
  "nbformat": 4,
  "nbformat_minor": 5
}