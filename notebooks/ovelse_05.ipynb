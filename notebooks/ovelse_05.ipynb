{
 "cells": [
  {
   "cell_type": "markdown",
   "id": "1fdfa7f3",
   "metadata": {},
   "source": [
    "# TØ 5"
   ]
  },
  {
   "cell_type": "markdown",
   "id": "56289763",
   "metadata": {},
   "source": [
    "Til denne TØ skal du lære at løse differentialligninger"
   ]
  },
  {
   "cell_type": "markdown",
   "id": "d2284695",
   "metadata": {},
   "source": [
    "Kør den næste celle for at få installeret de nødvendige pakker"
   ]
  },
  {
   "cell_type": "code",
   "execution_count": 12,
   "id": "bb41df77",
   "metadata": {},
   "outputs": [
    {
     "name": "stdout",
     "output_type": "stream",
     "text": [
      "The autoreload extension is already loaded. To reload it, use:\n",
      "  %reload_ext autoreload\n",
      "Already up to date.\n"
     ]
    }
   ],
   "source": [
    "%load_ext autoreload\n",
    "%autoreload 2\n",
    "\n",
    "import os\n",
    "if not os.path.exists('tmp_numfys_23'):\n",
    "    !git clone https://github.com/uniblender/tmp_numfys_23.git/ > git_output.txt\n",
    "else:\n",
    "    os.chdir('tmp_numfys_23')\n",
    "    !git pull \n",
    "    os.chdir('../')\n",
    "!pip install --use-feature=in-tree-build tmp_numfys_23/utils_package/ > pip_output.txt"
   ]
  },
  {
   "cell_type": "markdown",
   "id": "7deca360",
   "metadata": {},
   "source": [
    "Importér de pakker der skal bruges til at løse differentialligninger"
   ]
  },
  {
   "cell_type": "code",
   "execution_count": null,
   "id": "01c7efae",
   "metadata": {},
   "outputs": [],
   "source": [
    "from scipy.integrate import solve_ivp\n",
    "import numpy as np"
   ]
  },
  {
   "cell_type": "code",
   "execution_count": 10,
   "id": "42429831",
   "metadata": {},
   "outputs": [
    {
     "name": "stdout",
     "output_type": "stream",
     "text": [
      "opretter atomer\n",
      "(3, 2)\n"
     ]
    }
   ],
   "source": [
    "from emo_utils.test_function import Atom, Atoms\n",
    "atoms = Atoms([Atom([-2**(1/6),0]),Atom([0.1,0]),Atom([2**(1/6),0.1])])\n",
    "print(atoms.get_forces().shape)"
   ]
  },
  {
   "cell_type": "code",
   "execution_count": 3,
   "id": "43663989",
   "metadata": {},
   "outputs": [
    {
     "data": {
      "text/plain": [
       "1.122462048309373"
      ]
     },
     "execution_count": 3,
     "metadata": {},
     "output_type": "execute_result"
    }
   ],
   "source": [
    "2**(1/6)"
   ]
  },
  {
   "cell_type": "code",
   "execution_count": null,
   "id": "8be7d730",
   "metadata": {},
   "outputs": [],
   "source": [
    "import matplotlib.pyplot as plt\n",
    "from matplotlib import animation, rc\n",
    "rc('animation', html='jshtml')"
   ]
  },
  {
   "cell_type": "code",
   "execution_count": null,
   "id": "c7e26799",
   "metadata": {},
   "outputs": [],
   "source": [
    "r0 = np.array([a.r for a in atoms]).flatten()\n",
    "r0"
   ]
  },
  {
   "cell_type": "code",
   "execution_count": null,
   "id": "89531a2a",
   "metadata": {},
   "outputs": [],
   "source": [
    "v0 = np.zeros(r0.shape)\n",
    "v0"
   ]
  },
  {
   "cell_type": "code",
   "execution_count": null,
   "id": "60e7bb43",
   "metadata": {},
   "outputs": [],
   "source": [
    "y0=np.concatenate((r0,v0))"
   ]
  },
  {
   "cell_type": "code",
   "execution_count": null,
   "id": "12ef5be5",
   "metadata": {},
   "outputs": [],
   "source": [
    "r0.reshape((3,2))"
   ]
  },
  {
   "cell_type": "code",
   "execution_count": null,
   "id": "cd049239",
   "metadata": {},
   "outputs": [],
   "source": [
    "def dydt(t,y):\n",
    "    r = y[:6]\n",
    "    v = y[6:]\n",
    "    drdt = v\n",
    "    atoms.set_positions(r.reshape((3,2)))\n",
    "    dvdt = atoms.get_forces().flatten()\n",
    "    return np.concatenate((drdt,dvdt))"
   ]
  },
  {
   "cell_type": "code",
   "execution_count": null,
   "id": "2ddbe6b6",
   "metadata": {},
   "outputs": [],
   "source": [
    "t_end = 20\n",
    "steps=50*t_end\n",
    "times=np.linspace(0,t_end,steps)"
   ]
  },
  {
   "cell_type": "code",
   "execution_count": null,
   "id": "023cd673",
   "metadata": {},
   "outputs": [],
   "source": [
    "solution = solve_ivp(dydt, [0, t_end], y0, max_step=1e-2, t_eval=times)\n",
    "x0s=solution.y[0]\n",
    "y0s=solution.y[1]\n",
    "x1s=solution.y[2]\n",
    "y1s=solution.y[3]\n",
    "x2s=solution.y[4]\n",
    "y2s=solution.y[5]"
   ]
  },
  {
   "cell_type": "code",
   "execution_count": null,
   "id": "b4b548b6",
   "metadata": {},
   "outputs": [],
   "source": [
    "(x0s[0],x0s[-1],x1s[0],x1s[-1],x2s[0],x2s[-1])"
   ]
  },
  {
   "cell_type": "code",
   "execution_count": null,
   "id": "416c0b36",
   "metadata": {},
   "outputs": [],
   "source": [
    "def update(i):\n",
    "    line.set_data(x2s[0:i+1], y2s[0:i+1])\n",
    "    p0.set_data(x0s[i],y0s[i])\n",
    "    p1.set_data(x1s[i],y1s[i])\n",
    "    p2.set_data(x2s[i],y2s[i])\n",
    "    return line, p0, p1, p2\n",
    "\n",
    "fig, ax = plt.subplots(figsize=(4, 4))\n",
    "line, = ax.plot([], [])\n",
    "p0, = ax.plot([],[],'ro',ms=65)\n",
    "p1, = ax.plot([],[],'bo',ms=65)\n",
    "p2, = ax.plot([],[],'co',ms=65)\n",
    "ax.set_xlim([-1.8, 1.8])\n",
    "ax.set_ylim([-1.8, 1.8])\n",
    "ax.set_xticks([])\n",
    "ax.set_yticks([])\n",
    "ax.set_aspect('equal')\n",
    "\n",
    "anim = animation.FuncAnimation(fig,\n",
    "                               update,\n",
    "                               frames=steps,\n",
    "                               interval=10,\n",
    "                               blit=True,\n",
    "                               repeat_delay=0)\n",
    "anim"
   ]
  },
  {
   "cell_type": "code",
   "execution_count": null,
   "id": "309d1417",
   "metadata": {},
   "outputs": [],
   "source": [
    "a = np.array([[1,0],[1,1],[0,2]])\n",
    "np.sum(np.power(a,2))"
   ]
  },
  {
   "cell_type": "code",
   "execution_count": null,
   "id": "ab79a01e",
   "metadata": {},
   "outputs": [],
   "source": [
    "%matplotlib inline\n",
    "import numpy as np\n",
    "import matplotlib.pyplot as plt\n",
    "plt.rc('font', size=16)\n",
    "\n",
    "\n",
    "\n",
    "fig, ax = plt.subplots(figsize=(6,6))\n",
    "\n",
    "pot_ene = []\n",
    "print(solution.y.T.shape)\n",
    "kin_ene = []\n",
    "for vals in solution.y.T:\n",
    "    atoms.set_positions(vals[:6].reshape((3,2)))\n",
    "    pot_ene.append(atoms.get_potential_energy())\n",
    "    kin_ene.append(0.5*np.sum(np.power(vals[6:].reshape((3,2)),2)))\n",
    "\n",
    "\n",
    "ax.plot(solution.t,kin_ene,label='K')\n",
    "ax.plot(solution.t,pot_ene,label='P')\n",
    "ax.plot(solution.t,np.array(pot_ene) + np.array(kin_ene),label='K+P')\n",
    "ax.grid()\n",
    "\n",
    "ax.legend()\n",
    "fig.tight_layout()"
   ]
  },
  {
   "cell_type": "code",
   "execution_count": null,
   "id": "c65a51b4",
   "metadata": {},
   "outputs": [],
   "source": []
  }
 ],
 "metadata": {
  "kernelspec": {
   "display_name": "Python 3 (ipykernel)",
   "language": "python",
   "name": "python3"
  },
  "language_info": {
   "codemirror_mode": {
    "name": "ipython",
    "version": 3
   },
   "file_extension": ".py",
   "mimetype": "text/x-python",
   "name": "python",
   "nbconvert_exporter": "python",
   "pygments_lexer": "ipython3",
   "version": "3.9.7"
  }
 },
 "nbformat": 4,
 "nbformat_minor": 5
}
