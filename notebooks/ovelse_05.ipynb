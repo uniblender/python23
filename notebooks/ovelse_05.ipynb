{
 "cells": [
  {
   "cell_type": "markdown",
   "id": "3fe8732f",
   "metadata": {},
   "source": [
    "# TØ 5"
   ]
  },
  {
   "cell_type": "markdown",
   "id": "be467310",
   "metadata": {},
   "source": [
    "Til denne TØ skal du lære at løse differentialligninger med `solve_ivp`.\n",
    "\n",
    "Du kommer igennem forskellige ting:\n",
    "\n",
    "* integration af -kraf langs vej til bestemmelse af udført arbejde som funktion af vej\n",
    "\n",
    "* løsning af Newton II for én-dimensionelt problem\n",
    "\n",
    "* løsning af Newton II for to-dimensionelt problem"
   ]
  },
  {
   "cell_type": "markdown",
   "id": "e2c363de",
   "metadata": {},
   "source": [
    "Kør den næste celle for at få installeret den nødvendige pakke"
   ]
  },
  {
   "cell_type": "code",
   "execution_count": null,
   "id": "bb41df77",
   "metadata": {},
   "outputs": [],
   "source": [
    "%load_ext autoreload\n",
    "%autoreload 2\n",
    "\n",
    "import os\n",
    "if not os.path.exists('python23'):\n",
    "    !git clone https://github.com/uniblender/python23.git/ > git_output.txt\n",
    "else:\n",
    "    os.chdir('python23')\n",
    "    !git pull \n",
    "    os.chdir('../')\n",
    "!pip install python23/utils_package/ > pip_output.txt\n",
    "\n",
    "from utils.lennard_jones import Atom, Atoms"
   ]
  },
  {
   "cell_type": "markdown",
   "id": "fbb8bdc2",
   "metadata": {},
   "source": [
    "Importér NumPy og Matplotlib"
   ]
  },
  {
   "cell_type": "code",
   "execution_count": null,
   "id": "b82c45a1",
   "metadata": {},
   "outputs": [],
   "source": [
    "import numpy as np\n",
    "import matplotlib.pyplot as plt"
   ]
  },
  {
   "cell_type": "markdown",
   "id": "611bf145",
   "metadata": {},
   "source": [
    "Importér den funktion der skal bruges til at løse differentialligninger"
   ]
  },
  {
   "cell_type": "code",
   "execution_count": null,
   "id": "078efb2b",
   "metadata": {},
   "outputs": [],
   "source": [
    "from scipy.integrate import solve_ivp"
   ]
  },
  {
   "cell_type": "markdown",
   "id": "b42a32a1",
   "metadata": {},
   "source": [
    "### Delopgave 1"
   ]
  },
  {
   "cell_type": "markdown",
   "id": "50cdaa62",
   "metadata": {},
   "source": [
    "Løs for $-5.426\\le x\\le 10$ differentialligningen:\n",
    "\\begin{equation*}                                                                                                                        \n",
    "\\frac{dy}{dx}=-1-\\frac{1}{10}xy                                                                                                          \n",
    "\\end{equation*}\n",
    "idet det oplyses at $y(x=10)=\\displaystyle\\frac{1}{100}$.\n",
    "\n",
    "Bestem $y(-5.426)$."
   ]
  },
  {
   "cell_type": "code",
   "execution_count": null,
   "id": "4ec1e060",
   "metadata": {},
   "outputs": [],
   "source": []
  },
  {
   "cell_type": "markdown",
   "id": "7cce01fd",
   "metadata": {},
   "source": [
    "### Delopgave 2"
   ]
  },
  {
   "cell_type": "markdown",
   "id": "e2c9ab9e",
   "metadata": {},
   "source": [
    "Kør næste celle for at få et koordinatsystem tegnet"
   ]
  },
  {
   "cell_type": "code",
   "execution_count": null,
   "id": "4d573f75",
   "metadata": {},
   "outputs": [],
   "source": [
    "def grid_med_mere(ax):\n",
    "    ax.set_aspect('equal', adjustable='box')\n",
    "    ax.set_xlim([-1,11])\n",
    "    ax.set_ylim([-5.5,5.5])\n",
    "    ax.grid()\n",
    "\n",
    "def ny_figur():\n",
    "    fig, ax = plt.subplots()\n",
    "    grid_med_mere(ax)\n",
    "    return fig, ax\n",
    "fig, ax = ny_figur()"
   ]
  },
  {
   "cell_type": "markdown",
   "id": "a3c2cb4f",
   "metadata": {},
   "source": [
    "Kør næste celle for at få tre atomer defineret"
   ]
  },
  {
   "cell_type": "code",
   "execution_count": null,
   "id": "22f46823",
   "metadata": {},
   "outputs": [],
   "source": [
    "r0 = 2**(1/6)\n",
    "p = [0, r0/2]\n",
    "atom1 = Atom(p)\n",
    "p = [0, -r0/2]\n",
    "atom2 = Atom(p)\n",
    "p = [10, 0]\n",
    "atom3 = Atom(p,color='C2')"
   ]
  },
  {
   "cell_type": "markdown",
   "id": "0fd3c694",
   "metadata": {},
   "source": [
    "Saml de tre atomer som et `Atoms`-objekt og plot atomerne."
   ]
  },
  {
   "cell_type": "code",
   "execution_count": null,
   "id": "08aee05d",
   "metadata": {},
   "outputs": [],
   "source": [
    "klynge = Atoms([atom1, atom2, # din kode her\n",
    "\n",
    "for atom in # din kode her\n",
    "    atom.plot(ax)\n",
    "fig"
   ]
  },
  {
   "cell_type": "markdown",
   "id": "5a39bc6c",
   "metadata": {},
   "source": [
    "Arbejdet som kraften fra de blå atomer udfører på det grønne atom, når dette flyttes fra $x=10$ til et vilkårligt $x$ kan beregnes med differentialligningen:\n",
    "$$\n",
    "\\frac{dW}{dx}=f(x)\n",
    "$$"
   ]
  },
  {
   "cell_type": "markdown",
   "id": "d577e7e6",
   "metadata": {},
   "source": [
    "Skriv en funktion, der modtager den uafhængige variable, $x$, og den afhængige variable, $W$, som argumenter og returnerer minus kraften på det grønne atom, når det placeres i $(x,0)$."
   ]
  },
  {
   "cell_type": "code",
   "execution_count": null,
   "id": "365672a5",
   "metadata": {},
   "outputs": [],
   "source": [
    "def dWdx(x,W):\n",
    "    klynge[2]. # din kode her (se en tidligere øvelse, hvor du gjorde det)\n",
    "    f = klynge. # din kode her (se en tidligere øvelse, hvor du gjorde det)\n",
    "    return f"
   ]
  },
  {
   "cell_type": "markdown",
   "id": "02a85fb1",
   "metadata": {},
   "source": [
    "Beregn `-100 * dWdx(0.9771765,0)`"
   ]
  },
  {
   "cell_type": "code",
   "execution_count": null,
   "id": "32a621e0",
   "metadata": {},
   "outputs": [],
   "source": [
    "-100 * dWdx(0.9771765,0)"
   ]
  },
  {
   "cell_type": "markdown",
   "id": "cb4d6465",
   "metadata": {},
   "source": [
    "Bestem med `solve_ivp` W(x) for $0.8 \\le x\\le 10$ idet W(x=10) = 0"
   ]
  },
  {
   "cell_type": "code",
   "execution_count": null,
   "id": "eec7e330",
   "metadata": {},
   "outputs": [],
   "source": [
    "W0 = # din kode\n",
    "x0 = # din kode\n",
    "x1 = # din kode\n",
    "\n",
    "steps = 1000\n",
    "x_eval = np.linspace(x0,x1,steps)\n",
    "\n",
    "solution = solve_ivp(# din kode\n",
    "                     max_step=1e-2, t_eval=x_eval)\n",
    "xs = solution. # din kode\n",
    "Ws = solution. # din kode"
   ]
  },
  {
   "cell_type": "markdown",
   "id": "a76bd119",
   "metadata": {},
   "source": [
    "Ændringen i den potentielle energi er minus det udførte arbejde. Sæt den potentielle energi, $U(x)$, til $0$ for $x=10$. Benyt $W(x)$ til at bestemme $U(x)$. Plot den potentielle energi som funktion af $x$."
   ]
  },
  {
   "cell_type": "code",
   "execution_count": null,
   "id": "e6068d54",
   "metadata": {},
   "outputs": [],
   "source": [
    "fig, ax = plt.subplots()\n",
    "Us = # din kode til at få U-værdier ud fra de W-værdier du lige har beregnet\n",
    "ax.plot(xs, Us)"
   ]
  },
  {
   "cell_type": "markdown",
   "id": "d0250409",
   "metadata": {},
   "source": [
    "Du skal se at $U$ har minimumsværdien $-2$. Bestem nu det sted, $x_1$, hvor $U$ antager sin minimumsværdi, som jo er dér hvor $W$ har sin maksimumsværdi. Dvs. bestem med `fsolve` $x_1$ så:\n",
    "\n",
    "$$\n",
    "\\left.\\frac{dW}{dx}\\right|_{x_1}=0,\n",
    "$$\n",
    "dvs. $x$-værdien for hvilken hældningen af $W$ er nul.\n",
    "\n",
    "Hint: lav en funktion, der kun tager $x$ som argument og kalder den funktion, du lavede til løsning af differentialligningen. Den sidstnævnte tager to argumenter, men andet argument indgår slet ikke i udtrykket for $\\displaystyle\\frac{dW}{dx}$, så det kan bare sættes til noget arbitrært, fx $0$."
   ]
  },
  {
   "cell_type": "code",
   "execution_count": null,
   "id": "320a3394",
   "metadata": {},
   "outputs": [],
   "source": [
    "\n",
    "x1 = fsolve( # dine kode\n",
    "x1"
   ]
  },
  {
   "attachments": {},
   "cell_type": "markdown",
   "id": "a899a23d",
   "metadata": {},
   "source": [
    "Indsæt en lodret streg for $x=x_1$ (fx for $-3\\le y\\le 1$) og zoom på $x$-aksen til $0.5 \\le x \\le 1.5$"
   ]
  },
  {
   "cell_type": "code",
   "execution_count": null,
   "id": "d84be2aa",
   "metadata": {},
   "outputs": [],
   "source": [
    "ax.plot( # din kode her"
   ]
  },
  {
   "cell_type": "markdown",
   "id": "938096c5",
   "metadata": {},
   "source": [
    "Beregn afstanden, $d$, fra det grønne atom i $(x_1,0)$ til et af de blå atomer"
   ]
  },
  {
   "cell_type": "code",
   "execution_count": null,
   "id": "474d6597",
   "metadata": {},
   "outputs": [],
   "source": [
    "d_vektor = # din kode her\n",
    "d = # din kode her\n",
    "d"
   ]
  },
  {
   "cell_type": "markdown",
   "id": "1300e501",
   "metadata": {},
   "source": [
    "Bestem forholdet $d/r_0$"
   ]
  },
  {
   "cell_type": "code",
   "execution_count": null,
   "id": "b22327a2",
   "metadata": {},
   "outputs": [],
   "source": [
    "d/r0"
   ]
  },
  {
   "cell_type": "markdown",
   "id": "8719d889",
   "metadata": {},
   "source": [
    "Forklar nu hvorfor $W$ antog netop minimumsværdien $-2$ for $x_1$"
   ]
  },
  {
   "cell_type": "markdown",
   "id": "13c63416",
   "metadata": {},
   "source": []
  },
  {
   "cell_type": "markdown",
   "id": "e2509766",
   "metadata": {},
   "source": [
    "### Delopgave 3"
   ]
  },
  {
   "cell_type": "markdown",
   "id": "37e1a1f2",
   "metadata": {},
   "source": [
    "Det grønne atom oplyses at have masse $m=1/10$ samt start-hastighed $0$ i positionen $(2.5,0)$.\n",
    "Pga symmetri kan du sætte $y=0$ i denne delopgave.\n",
    "\n",
    "Løs nu Newton II for det grønne atom i tidsrummet $0\\le t\\le 6.15$:\n",
    "\n",
    "$$\n",
    "m\\frac{d^2 x}{dt^2}=f_x(x)\n",
    "$$"
   ]
  },
  {
   "cell_type": "code",
   "execution_count": null,
   "id": "ebeb0c22",
   "metadata": {},
   "outputs": [],
   "source": [
    "m = 0.1\n",
    "def dqdt(t,q):\n",
    "    x = q[0]\n",
    "    v = # din kode herfra"
   ]
  },
  {
   "cell_type": "code",
   "execution_count": null,
   "id": "e4130c46",
   "metadata": {},
   "outputs": [],
   "source": [
    "x0 = # din kode her og de næste linier\n",
    "v0 = \n",
    "t0 = \n",
    "t1 = \n",
    "klynge[2].set_position([x0,0])\n",
    "\n",
    "steps = 200\n",
    "t_eval = np.linspace(t0,t1,steps)\n",
    "\n",
    "solution = solve_ivp(# din kode\n",
    "                     max_step=1e-2, t_eval=t_eval)\n",
    "ts = solution. # din kode\n",
    "xs = solution. # din kode"
   ]
  },
  {
   "cell_type": "markdown",
   "id": "e5a8714f",
   "metadata": {},
   "source": [
    "Kør denne celle for at få plottet atomerne i et koordinatsystem:"
   ]
  },
  {
   "cell_type": "code",
   "execution_count": null,
   "id": "07336b6d",
   "metadata": {},
   "outputs": [],
   "source": [
    "fig, ax = ny_figur()\n",
    "for atom in klynge:\n",
    "    atom.plot(ax)\n",
    "ax.set_xlim([-1.5,3.5])\n",
    "ax.set_ylim([-2.5,2.5])"
   ]
  },
  {
   "cell_type": "markdown",
   "id": "6a24dcbc",
   "metadata": {},
   "source": [
    "Skriv en update-funktion til brug for en animation. Funktionen skal modtage et index, `i`, og flytte det grønne atom til den `i`'t løsning som du har beregnet med `solve_ivp`. (Lad bare update-funktionen returnere en tom liste - den kan fortsat bruges til at animere med)."
   ]
  },
  {
   "cell_type": "code",
   "execution_count": null,
   "id": "5bf521b6",
   "metadata": {},
   "outputs": [],
   "source": [
    "def update # din kode\n",
    "    # din kode\n",
    "    return [] # det skulle virke med tom liste"
   ]
  },
  {
   "cell_type": "markdown",
   "id": "fc2d6fac",
   "metadata": {},
   "source": [
    "Test din update-funktion, fx:"
   ]
  },
  {
   "cell_type": "code",
   "execution_count": null,
   "id": "efb6ef2c",
   "metadata": {},
   "outputs": [],
   "source": [
    "update(50)\n",
    "fig"
   ]
  },
  {
   "cell_type": "markdown",
   "id": "3b728e29",
   "metadata": {},
   "source": [
    "Animér hele løsningen fra `solve_ivp`."
   ]
  },
  {
   "cell_type": "code",
   "execution_count": null,
   "id": "e1409319",
   "metadata": {},
   "outputs": [],
   "source": [
    "# din kode\n",
    "\n",
    "anim"
   ]
  },
  {
   "cell_type": "markdown",
   "id": "c5738819",
   "metadata": {},
   "source": [
    "### Delopgave 4"
   ]
  },
  {
   "cell_type": "markdown",
   "id": "428f92f0",
   "metadata": {},
   "source": [
    "Nu løses samme opgave som i delopgave 3, men uden symmetrien. Det betyder at $y$ ikke længere er lig 0. Der bliver dermed tale om fire afhængige variable:\n",
    "$x$, $y$, $v_x$ og $v_y$.\n",
    "\n",
    "Med $\\mathbf{r}=(x,y)$ og $\\mathbf{v}=(v_x,v_y)$ ser Newton II således ud:\n",
    "\n",
    "$$\n",
    "m \\frac{d^2}{dt^2}\\mathbf{r}= \\mathbf{F}_{res}\n",
    "$$\n",
    "\n",
    "hvilket kan foldes ud som to koblede 1. ordens differentialligninger:\n",
    "\n",
    "$$\n",
    "\\begin{array}{rcl}\n",
    "\\displaystyle\\frac{d}{dt}\\mathbf{r}&=&\\mathbf{v}\\\\\n",
    "&&\\\\\n",
    "\\displaystyle\\frac{d}{dt}\\mathbf{v}&=&\\mathbf{F}_{res}/m\n",
    "\\end{array}\n",
    "$$\n",
    "\n",
    "\n",
    "Saml de fire afhængige variable i en \"beholder\", fx `rv` og skriv en `drvdt`-funktion til at bruge sammen med `solve_ivp`:"
   ]
  },
  {
   "cell_type": "code",
   "execution_count": null,
   "id": "e34c200b",
   "metadata": {},
   "outputs": [],
   "source": [
    "def drvdt(t,rv):\n",
    "    r = # din kode\n",
    "    v ="
   ]
  },
  {
   "cell_type": "markdown",
   "id": "942ae601",
   "metadata": {},
   "source": [
    "Tjek at funktionen kan kaldes således:"
   ]
  },
  {
   "cell_type": "code",
   "execution_count": null,
   "id": "b7e8ed60",
   "metadata": {},
   "outputs": [],
   "source": [
    "drvdt(0,[1.73139246, 2.20680611, 0, 0]) # du skal få: [0, 0, -0.42, -0.42]"
   ]
  },
  {
   "cell_type": "markdown",
   "id": "f2bcc221",
   "metadata": {},
   "source": [
    "Start ud med $\\mathbf{r}=(2,2)$ og $\\mathbf{v}=(0,0)$ og løs for $0\\le t\\le 10$"
   ]
  },
  {
   "cell_type": "code",
   "execution_count": null,
   "id": "4c69d392",
   "metadata": {},
   "outputs": [],
   "source": [
    "t_end = 15\n",
    "steps=50*t_end\n",
    "times=np.linspace(0,t_end,steps)\n",
    "\n",
    "rv0 = [2, 2, 0, 0]"
   ]
  },
  {
   "cell_type": "code",
   "execution_count": null,
   "id": "981c72d6",
   "metadata": {},
   "outputs": [],
   "source": [
    "solution = solve_ivp(# din kode\n",
    "                     max_step=1e-2, t_eval=times)\n",
    "xs = solution. # din kode\n",
    "ys = solution. # din kode"
   ]
  },
  {
   "cell_type": "markdown",
   "id": "ae12ca9e",
   "metadata": {},
   "source": [
    "Skriv en ny update-funktion"
   ]
  },
  {
   "cell_type": "code",
   "execution_count": null,
   "id": "01553c30",
   "metadata": {},
   "outputs": [],
   "source": [
    "def update(i):\n",
    "    klynge[2].set_position( # din kode\n",
    "    return []"
   ]
  },
  {
   "cell_type": "markdown",
   "id": "8a42ad26",
   "metadata": {},
   "source": [
    "Tjek at update-funktionen virker"
   ]
  },
  {
   "cell_type": "code",
   "execution_count": null,
   "id": "9e8ad298",
   "metadata": {},
   "outputs": [],
   "source": [
    "update(300)\n",
    "fig"
   ]
  },
  {
   "cell_type": "markdown",
   "id": "e15feaae",
   "metadata": {},
   "source": [
    "Foretage en animation"
   ]
  },
  {
   "cell_type": "code",
   "execution_count": null,
   "id": "c65a51b4",
   "metadata": {},
   "outputs": [],
   "source": [
    "anim = animation.FuncAnimation(fig,\n",
    "                               update,\n",
    "                               frames= # din kode her\n",
    "                               interval=10,\n",
    "                               blit=True,\n",
    "                               repeat_delay=0)\n",
    "anim"
   ]
  },
  {
   "cell_type": "code",
   "execution_count": null,
   "id": "84027c4e",
   "metadata": {},
   "outputs": [],
   "source": []
  },
  {
   "cell_type": "code",
   "execution_count": null,
   "id": "aa08211f",
   "metadata": {},
   "outputs": [],
   "source": []
  },
  {
   "cell_type": "code",
   "execution_count": null,
   "id": "aa071f66",
   "metadata": {},
   "outputs": [],
   "source": []
  }
 ],
 "metadata": {
  "kernelspec": {
   "display_name": "Python 3 (ipykernel)",
   "language": "python",
   "name": "python3"
  },
  "language_info": {
   "codemirror_mode": {
    "name": "ipython",
    "version": 3
   },
   "file_extension": ".py",
   "mimetype": "text/x-python",
   "name": "python",
   "nbconvert_exporter": "python",
   "pygments_lexer": "ipython3",
   "version": "3.9.7"
  }
 },
 "nbformat": 4,
 "nbformat_minor": 5
}
