{
 "cells": [
  {
   "cell_type": "markdown",
   "id": "e542f2ab",
   "metadata": {
    "id": "e542f2ab"
   },
   "source": [
    "# TØ 1"
   ]
  },
  {
   "cell_type": "markdown",
   "id": "f44164d5",
   "metadata": {
    "id": "f44164d5"
   },
   "source": [
    "Til denne TØ skal du lære at benytte\n",
    "\n",
    "* `numpy` til at håndtere vektorer, matricer, tallister\n",
    "\n",
    "* `matplotlib` til at plotte forskellige objekter\n",
    "\n",
    "* `for` til at lave loops\n",
    "\n",
    "* `Atom` og `Atoms` fra kursets program-pakke (simulerer Lennard-Jones atomer)"
   ]
  },
  {
   "cell_type": "markdown",
   "id": "b095202d",
   "metadata": {
    "id": "b095202d"
   },
   "source": [
    "## Opgave 1\n",
    "Lær noget om `numpy`"
   ]
  },
  {
   "cell_type": "code",
   "execution_count": null,
   "id": "00683906",
   "metadata": {},
   "outputs": [],
   "source": [
    "import numpy as np\n",
    "min_liste = [1, 2, 3]\n",
    "mit_numpy_array = np.array(min_liste)"
   ]
  },
  {
   "cell_type": "markdown",
   "id": "3234e0cc",
   "metadata": {},
   "source": [
    "Kør cellen ovenfor således at du har to variable, `min_liste` og `mit_numpy_array` udskriv indholdet af de to variable (ved at skrive deres navn et ad gangen i de næste to celler)"
   ]
  },
  {
   "cell_type": "code",
   "execution_count": null,
   "id": "231d76b7",
   "metadata": {},
   "outputs": [],
   "source": [
    "min_liste"
   ]
  },
  {
   "cell_type": "code",
   "execution_count": null,
   "id": "afbaaa1f",
   "metadata": {},
   "outputs": [],
   "source": [
    "mit_numpy_array"
   ]
  },
  {
   "cell_type": "markdown",
   "id": "d8300404",
   "metadata": {},
   "source": [
    "Find ud af hvad `min_liste + min_liste`, `3 * min_liste`, `mit_numpy_array + mit_numpy_array` og `3 * mit_numpy_array` giver"
   ]
  },
  {
   "cell_type": "code",
   "execution_count": null,
   "id": "615252e1",
   "metadata": {},
   "outputs": [],
   "source": [
    "print(min_liste + min_liste)\n",
    "print(3 * min_liste)\n",
    "print(mit_numpy_array + mit_numpy_array)\n",
    "print(3 * mit_numpy_array)"
   ]
  },
  {
   "cell_type": "markdown",
   "id": "e8f3ac91",
   "metadata": {},
   "source": [
    "Overbevis dig selv om at du forstår forskellen på lister og numpy-arrays i python"
   ]
  },
  {
   "cell_type": "markdown",
   "id": "cbbba4da",
   "metadata": {},
   "source": [
    "## Opgave 2\n",
    "Lær noget om `matplotlib`"
   ]
  },
  {
   "cell_type": "markdown",
   "id": "add66c39",
   "metadata": {
    "id": "add66c39"
   },
   "source": [
    "Kør denne celle for at få sat et \"lærred\" op"
   ]
  },
  {
   "cell_type": "code",
   "execution_count": null,
   "id": "7878a942",
   "metadata": {
    "colab": {
     "base_uri": "https://localhost:8080/",
     "height": 262
    },
    "id": "7878a942",
    "outputId": "3d60571b-8303-4a09-cbe6-654682c20083"
   },
   "outputs": [],
   "source": [
    "%matplotlib inline\n",
    "import numpy as np\n",
    "import matplotlib.pyplot as plt\n",
    "plt.rc('font', size=16)\n",
    "fig, ax = plt.subplots()\n",
    "ax.set_aspect('equal', adjustable='box')\n",
    "ax.set_xlim([-4,4])\n",
    "ax.set_ylim([-1,4])\n",
    "ax.set_xticks([-2,0,2])\n",
    "ax.set_yticks([-1,1,3])\n",
    "ax.grid()"
   ]
  },
  {
   "cell_type": "markdown",
   "id": "811a6007",
   "metadata": {
    "id": "811a6007"
   },
   "source": [
    "Læg mærke til at nettet har inddelinger der er 2x2. Skriv nye argumenter til `set_xticks()` og `set_yticks()` så nettet bliver til 1x1 i stedet. Benyt `range` til at gøre det."
   ]
  },
  {
   "cell_type": "code",
   "execution_count": null,
   "id": "168de7c4",
   "metadata": {
    "colab": {
     "base_uri": "https://localhost:8080/",
     "height": 268
    },
    "id": "168de7c4",
    "outputId": "3306f41d-aedb-4342-adea-6a906b5e4688"
   },
   "outputs": [],
   "source": [
    "ax.set_xticks(range(-4,5))\n",
    "ax.set_yticks(range(-1,5))\n",
    "fig"
   ]
  },
  {
   "cell_type": "markdown",
   "id": "ccec9efe",
   "metadata": {},
   "source": [
    "Nu indsættes en vektor, $\\mathbf{p}$, i punktet $\\mathbf{p}_0$:"
   ]
  },
  {
   "cell_type": "code",
   "execution_count": null,
   "id": "c4c8421a",
   "metadata": {},
   "outputs": [],
   "source": [
    "p0 = [-2, 0]\n",
    "p = [3, 2]\n",
    "ax.arrow(p0[0], p0[1], p[0], p[1], width=.1, length_includes_head=True, color=\"C0\")\n",
    "fig"
   ]
  },
  {
   "cell_type": "markdown",
   "id": "cc358b04",
   "metadata": {},
   "source": [
    "Indsæt en vektor, $\\mathbf{q}=\\left[\\begin{array}{c}2\\\\-1\\end{array}\\right]$, i punktet $\\mathbf{q}_0=\\left[\\begin{array}{c}1\\\\2\\end{array}\\right]$"
   ]
  },
  {
   "cell_type": "code",
   "execution_count": null,
   "id": "cbf7699e",
   "metadata": {},
   "outputs": [],
   "source": [
    "q0 = [1, 2]\n",
    "q = [2, -1]\n",
    "ax.arrow(q0[0], q0[1], q[0], q[1], width=.1, length_includes_head=True, color=\"C1\")\n",
    "fig"
   ]
  },
  {
   "cell_type": "markdown",
   "id": "7bfa7b11",
   "metadata": {},
   "source": [
    "Lav dine erklæringer af $\\mathbf{p}$, $\\mathbf{q}$ og $\\mathbf{q}_0$ om til numpy-arrays (hvis du ikke allerede har gjort det) og beregn nu $\\mathbf{r}=-\\mathbf{p}-\\mathbf{q}$. Plot $\\mathbf{r}$ ud fra punktet $\\mathbf{r}_0=\\mathbf{q}_0+\\mathbf{q}$"
   ]
  },
  {
   "cell_type": "code",
   "execution_count": null,
   "id": "de800529",
   "metadata": {},
   "outputs": [],
   "source": [
    "p = np.array(p)\n",
    "q = np.array(q)\n",
    "r = -p - q\n",
    "q0 = np.array(q0)\n",
    "r0 = q0 + q\n",
    "ax.arrow(r0[0], r0[1], r[0], r[1], width=.1, length_includes_head=True, color=\"C2\")\n",
    "fig"
   ]
  },
  {
   "cell_type": "markdown",
   "id": "85337c3b",
   "metadata": {},
   "source": [
    "## Opgave 3"
   ]
  },
  {
   "cell_type": "markdown",
   "id": "e328dd30",
   "metadata": {},
   "source": [
    "### Load kursets kode\n",
    "Kør den næste celle for at få installeret de nødvendige pakker til at komme videre i opgaven"
   ]
  },
  {
   "cell_type": "code",
   "execution_count": null,
   "id": "d1fb7234",
   "metadata": {},
   "outputs": [],
   "source": [
    "%load_ext autoreload\n",
    "%autoreload 2\n",
    "\n",
    "import os\n",
    "if not os.path.exists('python23'):\n",
    "    !git clone https://github.com/uniblender/python23.git/ > git_output.txt\n",
    "else:\n",
    "    os.chdir('python23')\n",
    "    !git pull \n",
    "    os.chdir('../')\n",
    "!pip install --use-feature=in-tree-build python23/utils_package/ > pip_output.txt"
   ]
  },
  {
   "cell_type": "markdown",
   "id": "e0f98bbe",
   "metadata": {},
   "source": [
    "Lav et nyt lærred"
   ]
  },
  {
   "cell_type": "code",
   "execution_count": null,
   "id": "317eb6ef",
   "metadata": {},
   "outputs": [],
   "source": [
    "%matplotlib inline\n",
    "import numpy as np\n",
    "import matplotlib.pyplot as plt\n",
    "plt.rc('font', size=16)\n",
    "fig, ax = plt.subplots()\n",
    "ax.set_aspect('equal', adjustable='box')\n",
    "ax.set_xlim([-2,3])\n",
    "ax.set_ylim([0,3])\n",
    "ax.set_xticks(range(-2,4))\n",
    "ax.set_yticks(range(0,4))\n",
    "ax.grid()"
   ]
  },
  {
   "cell_type": "markdown",
   "id": "47dd777f",
   "metadata": {
    "id": "47dd777f"
   },
   "source": [
    "### Manipulér atomer\n",
    "Ovenfor har du hentet og installeret en python-pakken som er skrevet til kurset. Den hjælper med at lave simuleringer for vekselvirkende atomer. Vi starter med at hente klassen `Atom` fra pakken:"
   ]
  },
  {
   "cell_type": "code",
   "execution_count": null,
   "id": "6323350d",
   "metadata": {
    "colab": {
     "base_uri": "https://localhost:8080/",
     "height": 268
    },
    "id": "6323350d",
    "outputId": "8c01738e-a82f-48e5-87df-7ee99fb9a44e"
   },
   "outputs": [],
   "source": [
    "from utils.lennard_jones import Atom"
   ]
  },
  {
   "cell_type": "markdown",
   "id": "dbe6a210",
   "metadata": {},
   "source": [
    "Sådan sættes et atom i positionen $\\mathbf{p}=\\left[\\begin{array}{c}-1\\\\\\frac{1}{2}\\end{array}\\right]$"
   ]
  },
  {
   "cell_type": "code",
   "execution_count": null,
   "id": "2b48bac1",
   "metadata": {},
   "outputs": [],
   "source": [
    "p = [-1, 1/2]\n",
    "atom1 = Atom(p)\n",
    "atom1"
   ]
  },
  {
   "cell_type": "markdown",
   "id": "a990b0c4",
   "metadata": {},
   "source": [
    "og sådan plottes det (dette er altså ikke alminde python, men noget vi kan gøre i dette kursus pga den pakke, der er hentet)"
   ]
  },
  {
   "cell_type": "code",
   "execution_count": null,
   "id": "16ed442a",
   "metadata": {},
   "outputs": [],
   "source": [
    "atom1.plot(ax)\n",
    "fig"
   ]
  },
  {
   "cell_type": "markdown",
   "id": "2342052d",
   "metadata": {},
   "source": [
    "Ændrer farven"
   ]
  },
  {
   "cell_type": "code",
   "execution_count": null,
   "id": "d3ba76a3",
   "metadata": {},
   "outputs": [],
   "source": [
    "atom1.set_color('pink')\n",
    "atom1.plot(ax)\n",
    "fig"
   ]
  },
  {
   "cell_type": "markdown",
   "id": "02b03ddb",
   "metadata": {},
   "source": [
    "Indsæt et atom i positionen $\\mathbf{p}=\\left[\\begin{array}{c}0\\\\2\\end{array}\\right]$ og plot nu de to atomer sammen."
   ]
  },
  {
   "cell_type": "code",
   "execution_count": null,
   "id": "6b1ab8a2",
   "metadata": {},
   "outputs": [],
   "source": [
    "atom2 = Atom([0,2])\n",
    "atom2.plot(ax)\n",
    "fig"
   ]
  },
  {
   "cell_type": "markdown",
   "id": "f9d4a3e9",
   "metadata": {},
   "source": [
    "Flyt det sidste atom til $\\mathbf{p}=\\left[\\begin{array}{c}0\\\\1\\frac{3}{4}\\end{array}\\right]$"
   ]
  },
  {
   "cell_type": "code",
   "execution_count": null,
   "id": "bd5dd96a",
   "metadata": {},
   "outputs": [],
   "source": [
    "atom2.set_position([0,1.75])\n",
    "fig"
   ]
  },
  {
   "cell_type": "markdown",
   "id": "f18f760c",
   "metadata": {},
   "source": [
    "Da vi nu har to atomer kan vi lave en list med dem:"
   ]
  },
  {
   "cell_type": "code",
   "execution_count": null,
   "id": "d865e203",
   "metadata": {},
   "outputs": [],
   "source": [
    "liste_af_atomer = [atom1,atom2]"
   ]
  },
  {
   "cell_type": "markdown",
   "id": "69e2c738",
   "metadata": {},
   "source": [
    "og løbe gennem listen og \"printe\" atomerne:"
   ]
  },
  {
   "cell_type": "code",
   "execution_count": null,
   "id": "dce3b881",
   "metadata": {},
   "outputs": [],
   "source": [
    "for atom in liste_af_atomer:\n",
    "    print(atom)"
   ]
  },
  {
   "cell_type": "markdown",
   "id": "2ce65a7d",
   "metadata": {},
   "source": [
    "Nu hentes endnu en klasse, `Atoms`, der håndterer flere end et atom ad gangen"
   ]
  },
  {
   "cell_type": "code",
   "execution_count": null,
   "id": "0e81ce8e",
   "metadata": {},
   "outputs": [],
   "source": [
    "from utils.lennard_jones import Atoms"
   ]
  },
  {
   "cell_type": "markdown",
   "id": "6fac4e89",
   "metadata": {},
   "source": [
    "Nu kan de to atom atomer sættes sammen til et Atoms-objekt (læg mærke til flertals-s'et)."
   ]
  },
  {
   "cell_type": "code",
   "execution_count": null,
   "id": "23bd08d0",
   "metadata": {},
   "outputs": [],
   "source": [
    "molecule = Atoms(liste_af_atomer)"
   ]
  },
  {
   "cell_type": "markdown",
   "id": "b9e60d91",
   "metadata": {},
   "source": [
    "og vi kan løbe over atomer i en for-løkken:"
   ]
  },
  {
   "cell_type": "code",
   "execution_count": null,
   "id": "830e37f1",
   "metadata": {},
   "outputs": [],
   "source": [
    "for atom in molecule:\n",
    "    print(atom)"
   ]
  },
  {
   "cell_type": "markdown",
   "id": "a57f5f18",
   "metadata": {},
   "source": [
    "Fordelen ved at have de to atomer samlet i et Atoms-objekt fremfor i en liste er at vi kan få mere at vide om de to atomer. Man kan få den potentielle energi af atomerne at vide:"
   ]
  },
  {
   "cell_type": "code",
   "execution_count": null,
   "id": "1b69c75c",
   "metadata": {},
   "outputs": [],
   "source": [
    "molecule.get_potential_energy()"
   ]
  },
  {
   "cell_type": "markdown",
   "id": "db5b11e7",
   "metadata": {},
   "source": [
    "samt kræfterne med hvilke de to atomer påvirker hinanden:"
   ]
  },
  {
   "cell_type": "code",
   "execution_count": null,
   "id": "23355295",
   "metadata": {},
   "outputs": [],
   "source": [
    "molecule.get_forces()"
   ]
  },
  {
   "cell_type": "code",
   "execution_count": null,
   "id": "473ba8b3",
   "metadata": {},
   "outputs": [],
   "source": [
    "molecule.get_positions()"
   ]
  },
  {
   "cell_type": "markdown",
   "id": "97918cac",
   "metadata": {},
   "source": [
    "Man kan loop'e over positioner og kræfter for at plotte kræfterne som pile ude fra atomerne:"
   ]
  },
  {
   "cell_type": "code",
   "execution_count": null,
   "id": "220ae4ee",
   "metadata": {},
   "outputs": [],
   "source": [
    "positions = molecule.get_positions()\n",
    "forces = molecule.get_forces()\n",
    "for pos,force in zip(positions,forces):\n",
    "    ax.arrow(pos[0], pos[1], force[0], force[1], width=.1, length_includes_head=True, color=\"k\", zorder=200)\n",
    "fig"
   ]
  },
  {
   "cell_type": "markdown",
   "id": "9755a63f",
   "metadata": {},
   "source": [
    "og hvad så med at indføre endnu et atom:"
   ]
  },
  {
   "cell_type": "code",
   "execution_count": null,
   "id": "f96c986f",
   "metadata": {},
   "outputs": [],
   "source": [
    "atom3 = Atom([1,0.5],color='C2')\n",
    "atom3.plot(ax)\n",
    "fig"
   ]
  },
  {
   "cell_type": "markdown",
   "id": "5014d67c",
   "metadata": {},
   "source": [
    "Og udvide molekylet:"
   ]
  },
  {
   "cell_type": "code",
   "execution_count": null,
   "id": "45ba5b32",
   "metadata": {},
   "outputs": [],
   "source": [
    "molecule = Atoms([atom1, atom2, atom3])"
   ]
  },
  {
   "cell_type": "markdown",
   "id": "50d090eb",
   "metadata": {},
   "source": [
    "Plot kræfterne igen:"
   ]
  },
  {
   "cell_type": "code",
   "execution_count": null,
   "id": "494751a1",
   "metadata": {},
   "outputs": [],
   "source": [
    "positions = molecule.get_positions()\n",
    "forces = molecule.get_forces()\n",
    "for pos,force in zip(positions,forces):\n",
    "    ax.arrow(pos[0], pos[1], force[0], force[1], width=.1, length_includes_head=True, color=\"C3\", zorder=200)\n",
    "fig"
   ]
  },
  {
   "cell_type": "code",
   "execution_count": null,
   "id": "08be7fd6",
   "metadata": {
    "id": "08be7fd6"
   },
   "outputs": [],
   "source": []
  },
  {
   "cell_type": "code",
   "execution_count": null,
   "id": "862886c2",
   "metadata": {
    "id": "862886c2"
   },
   "outputs": [],
   "source": [
    "%matplotlib inline\n",
    "import numpy as np\n",
    "import matplotlib.pyplot as plt\n",
    "plt.rc('font', size=16)\n",
    "plt.rcParams.update({\n",
    "    #\"text.usetex\": True,\n",
    "    \"font.family\": \"Times\"\n",
    "})\n",
    "\n",
    "\n",
    "fig, ax = plt.subplots()\n",
    "x_vals = np.linspace(0.9, 10, 100)\n",
    "y_vals = 4 * ((1/x_vals)**12 - (1/x_vals)**6)\n",
    "ax.plot(x_vals,y_vals)\n",
    "\n",
    "ax.grid()\n",
    "ax.set_xlim([0,5])\n",
    "ax.set_ylim([-1,2])\n",
    "#ax.set_yticks([-5,0,5])\n",
    "\n",
    "ax.set_xlabel('r [Å]')\n",
    "ax.set_ylabel(r'E [$\\varepsilon$]')\n",
    "\n",
    "fig.tight_layout()"
   ]
  },
  {
   "cell_type": "code",
   "execution_count": null,
   "id": "a9807326",
   "metadata": {
    "id": "a9807326"
   },
   "outputs": [],
   "source": [
    "x_ave = (x_vals[1:] + x_vals[:-1])/2\n",
    "delta_y = y_vals[1:] - y_vals[:-1]\n",
    "delta_x = x_vals[1] - x_vals[0]\n",
    "y_diff = delta_y / delta_x\n",
    "f = -y_diff\n",
    "ax.plot(x_ave,f)\n",
    "fig"
   ]
  },
  {
   "cell_type": "code",
   "execution_count": null,
   "id": "63e6503a",
   "metadata": {
    "id": "63e6503a"
   },
   "outputs": [],
   "source": [
    "from emo_utils.test_function import Atom, Atoms\n",
    "atoms = Atoms([Atom([0,0]),Atom([2**(1/6)+0.1,0]),Atom([0.1,0])])\n",
    "print(atoms.get_forces())"
   ]
  },
  {
   "cell_type": "code",
   "execution_count": null,
   "id": "c5a3bd12",
   "metadata": {
    "id": "c5a3bd12"
   },
   "outputs": [],
   "source": [
    "forces = []\n",
    "for x in x_vals:\n",
    "    atoms = Atoms([Atom([0,0]),Atom([x,0])])\n",
    "    forces.append(atoms.get_forces()[1][0])\n",
    "ax.plot(x_vals,forces)\n",
    "fig"
   ]
  },
  {
   "cell_type": "code",
   "execution_count": null,
   "id": "ed458070",
   "metadata": {
    "id": "ed458070"
   },
   "outputs": [],
   "source": []
  },
  {
   "cell_type": "code",
   "execution_count": null,
   "id": "f9c4e503",
   "metadata": {
    "id": "f9c4e503"
   },
   "outputs": [],
   "source": []
  },
  {
   "cell_type": "code",
   "execution_count": null,
   "id": "7560c5cc",
   "metadata": {
    "id": "7560c5cc"
   },
   "outputs": [],
   "source": []
  }
 ],
 "metadata": {
  "colab": {
   "provenance": []
  },
  "kernelspec": {
   "display_name": "Python 3 (ipykernel)",
   "language": "python",
   "name": "python3"
  },
  "language_info": {
   "codemirror_mode": {
    "name": "ipython",
    "version": 3
   },
   "file_extension": ".py",
   "mimetype": "text/x-python",
   "name": "python",
   "nbconvert_exporter": "python",
   "pygments_lexer": "ipython3",
   "version": "3.9.7"
  }
 },
 "nbformat": 4,
 "nbformat_minor": 5
}
