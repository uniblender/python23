{
 "cells": [
  {
   "cell_type": "markdown",
   "id": "e542f2ab",
   "metadata": {
    "id": "e542f2ab"
   },
   "source": [
    "# TØ 1"
   ]
  },
  {
   "cell_type": "markdown",
   "id": "f44164d5",
   "metadata": {
    "id": "f44164d5"
   },
   "source": [
    "Til denne TØ skal du lære at benytte\n",
    "* numpy til at håndtere vektorer, matricer, tallister\n",
    "* matplotlib til at plotte forskellige objekter"
   ]
  },
  {
   "cell_type": "markdown",
   "id": "b095202d",
   "metadata": {
    "id": "b095202d"
   },
   "source": [
    "Kør den næste celle for at få installeret de nødvendige pakker"
   ]
  },
  {
   "cell_type": "code",
   "execution_count": null,
   "id": "96a61d31",
   "metadata": {
    "colab": {
     "base_uri": "https://localhost:8080/"
    },
    "id": "96a61d31",
    "outputId": "b9d79c53-cd57-4e1a-c28a-f8d85489aab2"
   },
   "outputs": [],
   "source": [
    "%load_ext autoreload\n",
    "%autoreload 2\n",
    "\n",
    "import os\n",
    "if not os.path.exists('python23'):\n",
    "    !git clone https://github.com/uniblender/python23.git/ > git_output.txt\n",
    "else:\n",
    "    os.chdir('python23')\n",
    "    !git pull \n",
    "    os.chdir('../')\n",
    "!pip install --use-feature=in-tree-build python23/utils_package/ > pip_output.txt"
   ]
  },
  {
   "cell_type": "markdown",
   "id": "add66c39",
   "metadata": {
    "id": "add66c39"
   },
   "source": [
    "Kør denne celle for at få sat et \"lærred\" op"
   ]
  },
  {
   "cell_type": "code",
   "execution_count": null,
   "id": "7878a942",
   "metadata": {
    "colab": {
     "base_uri": "https://localhost:8080/",
     "height": 262
    },
    "id": "7878a942",
    "outputId": "3d60571b-8303-4a09-cbe6-654682c20083"
   },
   "outputs": [],
   "source": [
    "%matplotlib inline\n",
    "import numpy as np\n",
    "import matplotlib.pyplot as plt\n",
    "plt.rc('font', size=16)\n",
    "fig, ax = plt.subplots()\n",
    "ax.set_aspect('equal', adjustable='box')\n",
    "ax.set_xlim([-4,4])\n",
    "ax.set_ylim([-1,4])\n",
    "ax.set_xticks([-2,0,2])\n",
    "ax.set_yticks([-1,1,3])\n",
    "ax.grid()"
   ]
  },
  {
   "cell_type": "markdown",
   "id": "811a6007",
   "metadata": {
    "id": "811a6007"
   },
   "source": [
    "Læg mærke til at nettet har inddelinger der er 2x2. Skriv nye argumenter til `set_xticks()` og `set_yticks()` så nettet bliver til 1x1 i stedet. Benyt `range` til at gøre det."
   ]
  },
  {
   "cell_type": "code",
   "execution_count": null,
   "id": "168de7c4",
   "metadata": {
    "colab": {
     "base_uri": "https://localhost:8080/",
     "height": 268
    },
    "id": "168de7c4",
    "outputId": "3306f41d-aedb-4342-adea-6a906b5e4688"
   },
   "outputs": [],
   "source": [
    "ax.set_xticks(range(-4,5))\n",
    "ax.set_yticks(range(-1,5))\n",
    "fig"
   ]
  },
  {
   "cell_type": "markdown",
   "id": "47dd777f",
   "metadata": {
    "id": "47dd777f"
   },
   "source": [
    "### Opsæt nogle atomer"
   ]
  },
  {
   "cell_type": "code",
   "execution_count": null,
   "id": "6323350d",
   "metadata": {
    "colab": {
     "base_uri": "https://localhost:8080/",
     "height": 268
    },
    "id": "6323350d",
    "outputId": "8c01738e-a82f-48e5-87df-7ee99fb9a44e"
   },
   "outputs": [],
   "source": [
    "from utils.lennard_jones import Atom\n",
    "atom1 = Atom([-2**(1/6),0])\n",
    "atom2 = Atom([0.1,0])\n",
    "atom3 = Atom([2**(1/6),0.1])\n",
    "atom1.plot(ax)\n",
    "atom2.plot(ax)\n",
    "atom3.plot(ax)\n",
    "fig"
   ]
  },
  {
   "cell_type": "code",
   "execution_count": null,
   "id": "08be7fd6",
   "metadata": {
    "id": "08be7fd6"
   },
   "outputs": [],
   "source": [
    "from emo_utils.test_function import Atoms\n",
    "atoms = Atoms([,,])\n",
    "print(atoms.get_forces().shape)"
   ]
  },
  {
   "cell_type": "code",
   "execution_count": null,
   "id": "862886c2",
   "metadata": {
    "id": "862886c2"
   },
   "outputs": [],
   "source": [
    "%matplotlib inline\n",
    "import numpy as np\n",
    "import matplotlib.pyplot as plt\n",
    "plt.rc('font', size=16)\n",
    "plt.rcParams.update({\n",
    "    #\"text.usetex\": True,\n",
    "    \"font.family\": \"Times\"\n",
    "})\n",
    "\n",
    "\n",
    "fig, ax = plt.subplots()\n",
    "x_vals = np.linspace(0.9, 10, 100)\n",
    "y_vals = 4 * ((1/x_vals)**12 - (1/x_vals)**6)\n",
    "ax.plot(x_vals,y_vals)\n",
    "\n",
    "ax.grid()\n",
    "ax.set_xlim([0,5])\n",
    "ax.set_ylim([-1,2])\n",
    "#ax.set_yticks([-5,0,5])\n",
    "\n",
    "ax.set_xlabel('r [Å]')\n",
    "ax.set_ylabel(r'E [$\\varepsilon$]')\n",
    "\n",
    "fig.tight_layout()"
   ]
  },
  {
   "cell_type": "code",
   "execution_count": null,
   "id": "a9807326",
   "metadata": {
    "id": "a9807326"
   },
   "outputs": [],
   "source": [
    "x_ave = (x_vals[1:] + x_vals[:-1])/2\n",
    "delta_y = y_vals[1:] - y_vals[:-1]\n",
    "delta_x = x_vals[1] - x_vals[0]\n",
    "y_diff = delta_y / delta_x\n",
    "f = -y_diff\n",
    "ax.plot(x_ave,f)\n",
    "fig"
   ]
  },
  {
   "cell_type": "code",
   "execution_count": null,
   "id": "63e6503a",
   "metadata": {
    "id": "63e6503a"
   },
   "outputs": [],
   "source": [
    "from emo_utils.test_function import Atom, Atoms\n",
    "atoms = Atoms([Atom([0,0]),Atom([2**(1/6)+0.1,0]),Atom([0.1,0])])\n",
    "print(atoms.get_forces())"
   ]
  },
  {
   "cell_type": "code",
   "execution_count": null,
   "id": "c5a3bd12",
   "metadata": {
    "id": "c5a3bd12"
   },
   "outputs": [],
   "source": [
    "forces = []\n",
    "for x in x_vals:\n",
    "    atoms = Atoms([Atom([0,0]),Atom([x,0])])\n",
    "    forces.append(atoms.get_forces()[1][0])\n",
    "ax.plot(x_vals,forces)\n",
    "fig"
   ]
  },
  {
   "cell_type": "code",
   "execution_count": null,
   "id": "ed458070",
   "metadata": {
    "id": "ed458070"
   },
   "outputs": [],
   "source": []
  },
  {
   "cell_type": "code",
   "execution_count": null,
   "id": "f9c4e503",
   "metadata": {
    "id": "f9c4e503"
   },
   "outputs": [],
   "source": []
  },
  {
   "cell_type": "code",
   "execution_count": null,
   "id": "7560c5cc",
   "metadata": {
    "id": "7560c5cc"
   },
   "outputs": [],
   "source": []
  }
 ],
 "metadata": {
  "colab": {
   "provenance": []
  },
  "kernelspec": {
   "display_name": "Python 3 (ipykernel)",
   "language": "python",
   "name": "python3"
  },
  "language_info": {
   "codemirror_mode": {
    "name": "ipython",
    "version": 3
   },
   "file_extension": ".py",
   "mimetype": "text/x-python",
   "name": "python",
   "nbconvert_exporter": "python",
   "pygments_lexer": "ipython3",
   "version": "3.9.7"
  }
 },
 "nbformat": 4,
 "nbformat_minor": 5
}
