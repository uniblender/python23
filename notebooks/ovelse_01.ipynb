{
 "cells": [
  {
   "cell_type": "markdown",
   "id": "e542f2ab",
   "metadata": {
    "id": "e542f2ab"
   },
   "source": [
    "# TØ 1"
   ]
  },
  {
   "cell_type": "markdown",
   "id": "f44164d5",
   "metadata": {
    "id": "f44164d5"
   },
   "source": [
    "Til denne TØ skal du lære at benytte\n",
    "\n",
    "* `numpy` til at håndtere vektorer, matricer, tallister\n",
    "\n",
    "* `matplotlib` til at plotte forskellige objekter\n",
    "\n",
    "* `for` til at lave loops\n",
    "\n",
    "* `Atom` og `Atoms` fra kursets program-pakke (simulerer Lennard-Jones atomer)"
   ]
  },
  {
   "cell_type": "markdown",
   "id": "b095202d",
   "metadata": {
    "id": "b095202d"
   },
   "source": [
    "## Opgave 1\n",
    "Lær noget om `numpy`"
   ]
  },
  {
   "cell_type": "markdown",
   "id": "ae9646ff",
   "metadata": {},
   "source": [
    "Kør cellen nedenfor:"
   ]
  },
  {
   "cell_type": "code",
   "execution_count": null,
   "id": "d207aa2a",
   "metadata": {},
   "outputs": [],
   "source": [
    "import numpy as np\n",
    "min_liste = [1, 2, 3]\n",
    "mit_numpy_array = np.array(min_liste)"
   ]
  },
  {
   "cell_type": "markdown",
   "id": "21f95ec1",
   "metadata": {},
   "source": [
    "Du har nu to variable, `min_liste` og `mit_numpy_array`.\n",
    "Udskriv indholdet af de to variable (ved at skrive deres navn et ad gangen i de næste to celler)"
   ]
  },
  {
   "cell_type": "code",
   "execution_count": null,
   "id": "ac346c7d",
   "metadata": {},
   "outputs": [],
   "source": [
    "# skriv noget her"
   ]
  },
  {
   "cell_type": "code",
   "execution_count": null,
   "id": "1758d85e",
   "metadata": {},
   "outputs": [],
   "source": []
  },
  {
   "cell_type": "markdown",
   "id": "56bfab68",
   "metadata": {},
   "source": [
    "Find ud af hvad `min_liste + min_liste`, `3 * min_liste`, `mit_numpy_array + mit_numpy_array` og `3 * mit_numpy_array` giver"
   ]
  },
  {
   "cell_type": "code",
   "execution_count": null,
   "id": "5231faea",
   "metadata": {},
   "outputs": [],
   "source": []
  },
  {
   "cell_type": "markdown",
   "id": "89c9d801",
   "metadata": {},
   "source": [
    "Overbevis dig selv om at du forstår forskellen på lister og numpy-arrays i python"
   ]
  },
  {
   "cell_type": "markdown",
   "id": "c7ba6e10",
   "metadata": {},
   "source": [
    "## Opgave 2\n",
    "Lær noget om `matplotlib`"
   ]
  },
  {
   "cell_type": "markdown",
   "id": "add66c39",
   "metadata": {
    "id": "add66c39"
   },
   "source": [
    "Kør denne celle for at få sat et \"lærred\" op"
   ]
  },
  {
   "cell_type": "code",
   "execution_count": null,
   "id": "7878a942",
   "metadata": {
    "colab": {
     "base_uri": "https://localhost:8080/",
     "height": 262
    },
    "id": "7878a942",
    "outputId": "3d60571b-8303-4a09-cbe6-654682c20083"
   },
   "outputs": [],
   "source": [
    "%matplotlib inline\n",
    "import numpy as np\n",
    "import matplotlib.pyplot as plt\n",
    "plt.rc('font', size=16)\n",
    "fig, ax = plt.subplots()\n",
    "ax.set_aspect('equal', adjustable='box')\n",
    "ax.set_xlim([-4,4])\n",
    "ax.set_ylim([-1,4])\n",
    "ax.set_xticks([-2,0,2])\n",
    "ax.set_yticks([-1,1,3])\n",
    "ax.grid()"
   ]
  },
  {
   "cell_type": "markdown",
   "id": "811a6007",
   "metadata": {
    "id": "811a6007"
   },
   "source": [
    "Læg mærke til at nettet har inddelinger der er 2x2. Skriv nye argumenter til `set_xticks()` og `set_yticks()` så nettet bliver til 1x1 i stedet. Benyt `range` til at gøre det."
   ]
  },
  {
   "cell_type": "code",
   "execution_count": null,
   "id": "168de7c4",
   "metadata": {
    "colab": {
     "base_uri": "https://localhost:8080/",
     "height": 268
    },
    "id": "168de7c4",
    "outputId": "3306f41d-aedb-4342-adea-6a906b5e4688"
   },
   "outputs": [],
   "source": [
    "ax.set_xticks( # skriv noget her\n",
    "# og her\n",
    "fig"
   ]
  },
  {
   "cell_type": "markdown",
   "id": "c7a10479",
   "metadata": {},
   "source": [
    "Nu indsættes en vektor, $\\mathbf{p}$, i punktet $\\mathbf{p}_0$:"
   ]
  },
  {
   "cell_type": "code",
   "execution_count": null,
   "id": "ab9eeef2",
   "metadata": {},
   "outputs": [],
   "source": [
    "p0 = [-2, 0]\n",
    "p = [3, 2]\n",
    "ax.arrow(p0[0], p0[1], p[0], p[1], width=.1, length_includes_head=True, color=\"C0\")\n",
    "fig"
   ]
  },
  {
   "cell_type": "markdown",
   "id": "d57c1043",
   "metadata": {},
   "source": [
    "Indsæt en vektor, $\\mathbf{q}=\\left[\\begin{array}{c}2\\\\-1\\end{array}\\right]$, i punktet $\\mathbf{q}_0=\\left[\\begin{array}{c}1\\\\2\\end{array}\\right]$"
   ]
  },
  {
   "cell_type": "code",
   "execution_count": null,
   "id": "c675c079",
   "metadata": {},
   "outputs": [],
   "source": []
  },
  {
   "cell_type": "markdown",
   "id": "207d5fee",
   "metadata": {},
   "source": [
    "Lav dine erklæringer af $\\mathbf{p}$, $\\mathbf{q}$ og $\\mathbf{q}_0$ om til numpy-arrays (hvis du ikke allerede har gjort det) og beregn nu $\\mathbf{r}=-\\mathbf{p}-\\mathbf{q}$. Plot $\\mathbf{r}$ ud fra punktet $\\mathbf{r}_0=\\mathbf{q}_0+\\mathbf{q}$"
   ]
  },
  {
   "cell_type": "code",
   "execution_count": null,
   "id": "9abe99fe",
   "metadata": {},
   "outputs": [],
   "source": [
    "# skriv noget her\n",
    "\n",
    "r = -p - q\n",
    "\n",
    "# og her"
   ]
  },
  {
   "cell_type": "markdown",
   "id": "a7ce3b29",
   "metadata": {},
   "source": [
    "## Opgave 3"
   ]
  },
  {
   "cell_type": "markdown",
   "id": "b4f94f7e",
   "metadata": {},
   "source": [
    "### Load kursets kode\n",
    "Kør den næste celle for at få installeret de nødvendige pakker til at komme videre i opgaven"
   ]
  },
  {
   "cell_type": "code",
   "execution_count": null,
   "id": "91db75fb",
   "metadata": {},
   "outputs": [],
   "source": [
    "%load_ext autoreload\n",
    "%autoreload 2\n",
    "\n",
    "import os\n",
    "if not os.path.exists('python23'):\n",
    "    !git clone https://github.com/uniblender/python23.git/ > git_output.txt\n",
    "else:\n",
    "    os.chdir('python23')\n",
    "    !git pull \n",
    "    os.chdir('../')\n",
    "!pip install python23/utils_package/ > pip_output.txt"
   ]
  },
  {
   "cell_type": "markdown",
   "id": "11842522",
   "metadata": {},
   "source": [
    "Lav et nyt lærred"
   ]
  },
  {
   "cell_type": "code",
   "execution_count": null,
   "id": "fbbe10fa",
   "metadata": {},
   "outputs": [],
   "source": [
    "%matplotlib inline\n",
    "import numpy as np\n",
    "import matplotlib.pyplot as plt\n",
    "plt.rc('font', size=16)\n",
    "fig, ax = plt.subplots()\n",
    "ax.set_aspect('equal', adjustable='box')\n",
    "ax.set_xlim([-2,3])\n",
    "ax.set_ylim([0,3])\n",
    "ax.set_xticks(range(-2,4))\n",
    "ax.set_yticks(range(0,4))\n",
    "ax.grid()"
   ]
  },
  {
   "cell_type": "markdown",
   "id": "47dd777f",
   "metadata": {
    "id": "47dd777f"
   },
   "source": [
    "### Manipulér atomer\n",
    "Ovenfor har du hentet og installeret en python-pakken som er skrevet til kurset. Den hjælper med at lave simuleringer for vekselvirkende atomer. Vi starter med at hente klassen `Atom` fra pakken:"
   ]
  },
  {
   "cell_type": "code",
   "execution_count": null,
   "id": "6323350d",
   "metadata": {
    "colab": {
     "base_uri": "https://localhost:8080/",
     "height": 268
    },
    "id": "6323350d",
    "outputId": "8c01738e-a82f-48e5-87df-7ee99fb9a44e"
   },
   "outputs": [],
   "source": [
    "from utils.lennard_jones import Atom"
   ]
  },
  {
   "cell_type": "markdown",
   "id": "878d9913",
   "metadata": {},
   "source": [
    "Sådan sættes et atom i positionen $\\mathbf{p}=\\left[\\begin{array}{c}0\\\\\\frac{1}{2}\\end{array}\\right]$"
   ]
  },
  {
   "cell_type": "code",
   "execution_count": null,
   "id": "7381a2cb",
   "metadata": {},
   "outputs": [],
   "source": [
    "p = [0, 1/2]\n",
    "atom1 = Atom(p)\n",
    "atom1"
   ]
  },
  {
   "cell_type": "markdown",
   "id": "a7f7ef4e",
   "metadata": {},
   "source": [
    "og sådan plottes det (dette er altså ikke almindelig python, men noget vi kan gøre i dette kursus pga den pakke, der er hentet)"
   ]
  },
  {
   "cell_type": "code",
   "execution_count": null,
   "id": "4aa584d1",
   "metadata": {},
   "outputs": [],
   "source": [
    "atom1.plot(ax)\n",
    "fig"
   ]
  },
  {
   "cell_type": "markdown",
   "id": "d7413116",
   "metadata": {},
   "source": [
    "Man kan flytte atomet til positionen $\\mathbf{p}=\\left[\\begin{array}{c}-1\\\\\\frac{1}{2}\\end{array}\\right]$ således:"
   ]
  },
  {
   "cell_type": "code",
   "execution_count": null,
   "id": "2a7c845c",
   "metadata": {},
   "outputs": [],
   "source": [
    "atom1.set_position([-1,1/2])\n",
    "fig"
   ]
  },
  {
   "cell_type": "markdown",
   "id": "645fad50",
   "metadata": {},
   "source": [
    "Man kan ændre farven således:"
   ]
  },
  {
   "cell_type": "code",
   "execution_count": null,
   "id": "c22cdeb1",
   "metadata": {},
   "outputs": [],
   "source": [
    "atom1.set_color('pink')\n",
    "fig"
   ]
  },
  {
   "cell_type": "markdown",
   "id": "eb142b94",
   "metadata": {},
   "source": [
    "Indsæt et atom i positionen $\\mathbf{p}=\\left[\\begin{array}{c}0\\\\2\\end{array}\\right]$ og plot nu de to atomer sammen."
   ]
  },
  {
   "cell_type": "code",
   "execution_count": null,
   "id": "bc5ee86d",
   "metadata": {},
   "outputs": [],
   "source": []
  },
  {
   "cell_type": "markdown",
   "id": "3754511a",
   "metadata": {},
   "source": [
    "Flyt det sidste atom til $\\mathbf{p}=\\left[\\begin{array}{c}0\\\\1\\frac{3}{4}\\end{array}\\right]$"
   ]
  },
  {
   "cell_type": "code",
   "execution_count": null,
   "id": "f529c0b7",
   "metadata": {},
   "outputs": [],
   "source": []
  },
  {
   "cell_type": "markdown",
   "id": "28462776",
   "metadata": {},
   "source": [
    "Da vi nu har to atomer kan vi lave en liste med dem:"
   ]
  },
  {
   "cell_type": "code",
   "execution_count": null,
   "id": "81c7897a",
   "metadata": {},
   "outputs": [],
   "source": [
    "liste_af_atomer = [atom1,atom2]"
   ]
  },
  {
   "cell_type": "markdown",
   "id": "e40388c2",
   "metadata": {},
   "source": [
    "og løbe gennem listen og \"printe\" atomerne:"
   ]
  },
  {
   "cell_type": "code",
   "execution_count": null,
   "id": "682fd01d",
   "metadata": {},
   "outputs": [],
   "source": [
    "for atom in liste_af_atomer:\n",
    "    print(atom)"
   ]
  },
  {
   "cell_type": "markdown",
   "id": "09ca9852",
   "metadata": {},
   "source": [
    "Nu hentes endnu en klasse, `Atoms`, der håndterer flere end et atom ad gangen"
   ]
  },
  {
   "cell_type": "code",
   "execution_count": null,
   "id": "fd4ab246",
   "metadata": {},
   "outputs": [],
   "source": [
    "from utils.lennard_jones import Atoms"
   ]
  },
  {
   "cell_type": "markdown",
   "id": "fbe38d4d",
   "metadata": {},
   "source": [
    "Med den nye klasse kan de to atomer sættes sammen til et Atoms-objekt (læg mærke til flertals-s'et)."
   ]
  },
  {
   "cell_type": "code",
   "execution_count": null,
   "id": "eb52200a",
   "metadata": {},
   "outputs": [],
   "source": [
    "molecule = Atoms(liste_af_atomer)"
   ]
  },
  {
   "cell_type": "markdown",
   "id": "4e1e29d7",
   "metadata": {},
   "source": [
    "og vi kan løbe over atomer i en for-løkken:"
   ]
  },
  {
   "cell_type": "code",
   "execution_count": null,
   "id": "b5213910",
   "metadata": {},
   "outputs": [],
   "source": [
    "for atom in molecule:\n",
    "    print(atom)"
   ]
  },
  {
   "cell_type": "markdown",
   "id": "589cdd16",
   "metadata": {},
   "source": [
    "Vi har nu samlet atomerne på to forskellige måder:\n",
    "\n",
    "* i en liste i `liste_af_atomer`\n",
    "\n",
    "* som et Atoms objekt i `molecule`\n",
    "\n",
    "Ligesom det var tilfældet når man samlede tal på to forskellige måder:\n",
    "\n",
    "* i en liste\n",
    "\n",
    "* som et Numpy Array\n",
    "\n",
    "så vil de to måder opføre sig forskelligt.\n",
    "\n",
    "Fordelen ved at have de to atomer samlet i et Atoms-objekt fremfor i en liste er at Atoms-klassen giver nogle metoder som en liste ikke har. Fx kan vi få den potentielle energi af atomerne at vide ved hjælp af `get_potential_energy`-metoden:"
   ]
  },
  {
   "cell_type": "code",
   "execution_count": null,
   "id": "c29bd14c",
   "metadata": {},
   "outputs": [],
   "source": [
    "molecule.get_potential_energy()"
   ]
  },
  {
   "cell_type": "markdown",
   "id": "a86c775e",
   "metadata": {},
   "source": [
    "samt kræfterne med hvilke de to atomer påvirker hinanden ved hjælp af `get_forces`-metoden:"
   ]
  },
  {
   "cell_type": "code",
   "execution_count": null,
   "id": "a148955d",
   "metadata": {},
   "outputs": [],
   "source": [
    "molecule.get_forces()"
   ]
  },
  {
   "cell_type": "code",
   "execution_count": null,
   "id": "8cc61938",
   "metadata": {},
   "outputs": [],
   "source": [
    "molecule.get_positions()"
   ]
  },
  {
   "cell_type": "markdown",
   "id": "8d8cf865",
   "metadata": {},
   "source": [
    "Man kan loop'e over positioner og kræfter for at plotte kræfterne som pile ude fra atomerne:"
   ]
  },
  {
   "cell_type": "code",
   "execution_count": null,
   "id": "30da2f35",
   "metadata": {},
   "outputs": [],
   "source": [
    "positions = molecule.get_positions()\n",
    "forces = molecule.get_forces()\n",
    "for pos,force in zip(positions,forces):\n",
    "    ax.arrow(pos[0], pos[1], force[0], force[1], width=.1, length_includes_head=True, color=\"k\", zorder=200)\n",
    "fig"
   ]
  },
  {
   "cell_type": "markdown",
   "id": "3ee6744e",
   "metadata": {},
   "source": [
    "og hvad så med at indføre endnu et atom:"
   ]
  },
  {
   "cell_type": "code",
   "execution_count": null,
   "id": "a28615ee",
   "metadata": {},
   "outputs": [],
   "source": [
    "atom3 = Atom([1,0.5],color='C2')\n",
    "atom3.plot(ax)\n",
    "fig"
   ]
  },
  {
   "cell_type": "markdown",
   "id": "cdb8c9ab",
   "metadata": {},
   "source": [
    "Og udvide molekylet:"
   ]
  },
  {
   "cell_type": "code",
   "execution_count": null,
   "id": "edd40f6b",
   "metadata": {},
   "outputs": [],
   "source": [
    "molecule = # skriv noget her så du får alle atomer med i molekylet"
   ]
  },
  {
   "cell_type": "markdown",
   "id": "f2418f0c",
   "metadata": {},
   "source": [
    "Plot kræfterne igen:"
   ]
  },
  {
   "cell_type": "code",
   "execution_count": null,
   "id": "907c2873",
   "metadata": {},
   "outputs": [],
   "source": [
    "# din kode"
   ]
  },
  {
   "cell_type": "markdown",
   "id": "30e216e3",
   "metadata": {
    "id": "08be7fd6"
   },
   "source": [
    "Bestem summen af de tre kræfter"
   ]
  },
  {
   "cell_type": "code",
   "execution_count": null,
   "id": "96b7ec55",
   "metadata": {},
   "outputs": [],
   "source": []
  },
  {
   "cell_type": "markdown",
   "id": "9b35be60",
   "metadata": {},
   "source": [
    "Flyt det første af atomerne opad, plot igen kræfterne og bestem igen summen af dem"
   ]
  },
  {
   "cell_type": "code",
   "execution_count": null,
   "id": "418dd953",
   "metadata": {},
   "outputs": [],
   "source": []
  },
  {
   "cell_type": "markdown",
   "id": "adad530b",
   "metadata": {},
   "source": [
    "Tænk over hvordan du kan beregne arbejdet de to af atomerne udfører på det sidste atom, hvis dette trækkes helt ud af molekylet. Der kommer opgaver i dette senere, men måske du allerede nu kan gennemskue hvad der skal gøres."
   ]
  },
  {
   "cell_type": "code",
   "execution_count": null,
   "id": "62278178",
   "metadata": {},
   "outputs": [],
   "source": []
  },
  {
   "cell_type": "code",
   "execution_count": null,
   "id": "ed458070",
   "metadata": {
    "id": "ed458070"
   },
   "outputs": [],
   "source": []
  },
  {
   "cell_type": "code",
   "execution_count": null,
   "id": "27f68108",
   "metadata": {},
   "outputs": [],
   "source": []
  }
 ],
 "metadata": {
  "colab": {
   "provenance": []
  },
  "kernelspec": {
   "display_name": "Python 3 (ipykernel)",
   "language": "python",
   "name": "python3"
  },
  "language_info": {
   "codemirror_mode": {
    "name": "ipython",
    "version": 3
   },
   "file_extension": ".py",
   "mimetype": "text/x-python",
   "name": "python",
   "nbconvert_exporter": "python",
   "pygments_lexer": "ipython3",
   "version": "3.9.7"
  }
 },
 "nbformat": 4,
 "nbformat_minor": 5
}
