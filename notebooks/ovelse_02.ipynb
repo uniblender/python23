{
 "cells": [
  {
   "cell_type": "code",
   "execution_count": null,
   "id": "bb41df77",
   "metadata": {},
   "outputs": [],
   "source": [
    "!mv tmp_numfys_23 tmp_numfys_23e2\n",
    "!git clone https://github.com/uniblender/tmp_numfys_23.git > git_output.txt\n",
    "!pip install --use-feature=in-tree-build tmp_numfys_23/utils_package/ > pip_output.txt"
   ]
  },
  {
   "cell_type": "code",
   "execution_count": null,
   "id": "42429831",
   "metadata": {},
   "outputs": [],
   "source": [
    "from emo_utils.test_function import Atom, Atoms\n",
    "import numpy as np\n",
    "\n",
    "N = 5\n",
    "t_vals = np.linspace(0,np.pi,N)\n",
    "x_vals = 2 * np.cos(t_vals)\n",
    "y_vals = 2 * np.sin(t_vals)\n",
    "\n",
    "atoms = Atoms([Atom([x,y]) for x,y in zip(x_vals,y_vals)])\n",
    "print(atoms.get_forces())"
   ]
  },
  {
   "cell_type": "code",
   "execution_count": null,
   "id": "ab79a01e",
   "metadata": {},
   "outputs": [],
   "source": [
    "%matplotlib inline\n",
    "import numpy as np\n",
    "import matplotlib.pyplot as plt\n",
    "plt.rc('font', size=16)\n",
    "\n",
    "\n",
    "\n",
    "fig, ax = plt.subplots(figsize=(6,6))\n",
    "\n",
    "# plot the atoms\n",
    "for atom in atoms:\n",
    "    atom.plot(ax)\n",
    "\n",
    "ax.set_aspect('equal', adjustable='box')\n",
    "ax.grid()\n",
    "ax.set_xlim([-5,5])\n",
    "ax.set_ylim([-2,4])\n",
    "#ax.set_yticks([-5,0,5])\n",
    "\n",
    "\n",
    "\n",
    "fig.tight_layout()"
   ]
  },
  {
   "cell_type": "code",
   "execution_count": null,
   "id": "3bdb07b6",
   "metadata": {},
   "outputs": [],
   "source": [
    "atoms.get_potential_energy()"
   ]
  },
  {
   "cell_type": "code",
   "execution_count": null,
   "id": "c65a51b4",
   "metadata": {},
   "outputs": [],
   "source": [
    "atoms4 = Atoms([a for i,a in enumerate(atoms) if i<4])"
   ]
  },
  {
   "cell_type": "code",
   "execution_count": null,
   "id": "63a7e5ba",
   "metadata": {},
   "outputs": [],
   "source": [
    "atoms4.get_potential_energy()"
   ]
  },
  {
   "cell_type": "code",
   "execution_count": null,
   "id": "fb328012",
   "metadata": {},
   "outputs": [],
   "source": [
    "atoms.get_forces()[0]"
   ]
  },
  {
   "cell_type": "code",
   "execution_count": null,
   "id": "d13c7ba0",
   "metadata": {},
   "outputs": [],
   "source": [
    "f = lambda x: Atoms([a for i,a in enumerate(atoms) if i>0] + [Atom([x,0])]).get_forces()[4][0]"
   ]
  },
  {
   "cell_type": "code",
   "execution_count": null,
   "id": "ef94fe2e",
   "metadata": {},
   "outputs": [],
   "source": [
    "f(2)"
   ]
  },
  {
   "cell_type": "code",
   "execution_count": null,
   "id": "1ed25080",
   "metadata": {},
   "outputs": [],
   "source": [
    "from scipy.integrate import quad\n",
    "quad(f,2,10)[0] + atoms4.get_potential_energy()"
   ]
  },
  {
   "cell_type": "code",
   "execution_count": null,
   "id": "cf86d6ab",
   "metadata": {},
   "outputs": [],
   "source": []
  }
 ],
 "metadata": {
  "kernelspec": {
   "display_name": "Python 3 (ipykernel)",
   "language": "python",
   "name": "python3"
  },
  "language_info": {
   "codemirror_mode": {
    "name": "ipython",
    "version": 3
   },
   "file_extension": ".py",
   "mimetype": "text/x-python",
   "name": "python",
   "nbconvert_exporter": "python",
   "pygments_lexer": "ipython3",
   "version": "3.9.7"
  }
 },
 "nbformat": 4,
 "nbformat_minor": 5
}
