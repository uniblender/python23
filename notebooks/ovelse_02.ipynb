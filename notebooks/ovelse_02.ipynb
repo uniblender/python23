{
 "cells": [
  {
   "cell_type": "markdown",
   "id": "b038b5c1",
   "metadata": {},
   "source": [
    "## TØ2\n",
    "I denne notebook skal du lære\n",
    "\n",
    "* selv at skrive nogle funktioner\n",
    "\n",
    "* at arbejde med vektorer og regne på arbejdet en konservativ kraft udfører på et legeme, der bevæger sig ad en vej"
   ]
  },
  {
   "cell_type": "markdown",
   "id": "17d4a46f",
   "metadata": {},
   "source": [
    "### Load kursets Lennard-Jones modul"
   ]
  },
  {
   "cell_type": "code",
   "execution_count": null,
   "id": "bb41df77",
   "metadata": {},
   "outputs": [],
   "source": [
    "%load_ext autoreload\n",
    "%autoreload 2\n",
    "\n",
    "import os\n",
    "if not os.path.exists('python23'):\n",
    "    !git clone https://github.com/uniblender/python23.git/ > git_output.txt\n",
    "else:\n",
    "    os.chdir('python23')\n",
    "    !git pull \n",
    "    os.chdir('../')\n",
    "!pip install --upgrade pip    \n",
    "!pip install python23/utils_package/ > pip_output.txt"
   ]
  },
  {
   "cell_type": "markdown",
   "id": "7f4054ff",
   "metadata": {},
   "source": [
    "### Øvelse 1\n",
    "Her er kode til at lave et lærred:"
   ]
  },
  {
   "cell_type": "code",
   "execution_count": null,
   "id": "42429831",
   "metadata": {},
   "outputs": [],
   "source": [
    "%matplotlib inline\n",
    "import numpy as np\n",
    "import matplotlib.pyplot as plt\n",
    "plt.rc('font', size=16)\n",
    "fig, ax = plt.subplots()\n",
    "ax.set_aspect('equal', adjustable='box')\n",
    "ax.set_xlim([-1,5])\n",
    "ax.set_ylim([0,3])\n",
    "ax.set_xticks(range(-2,6))\n",
    "ax.set_yticks(range(0,4))\n",
    "ax.grid()"
   ]
  },
  {
   "cell_type": "markdown",
   "id": "435461f6",
   "metadata": {},
   "source": [
    "Skriv en funktion, der modtager \"Axes\"-objektet, `ax`, som argument og udfører:\n",
    "\n",
    "    ax.set_aspect('equal', adjustable='box')\n",
    "    ax.set_xlim([-1,5])\n",
    "    ax.set_ylim([0,3])\n",
    "    ax.set_xticks(range(-2,6))\n",
    "    ax.set_yticks(range(0,4))\n",
    "    ax.grid()\n"
   ]
  },
  {
   "cell_type": "code",
   "execution_count": null,
   "id": "7b33eb7e",
   "metadata": {},
   "outputs": [],
   "source": [
    "def grid_med_mere(ax):\n",
    "    # din kode her\n",
    "\n",
    "fig, ax = plt.subplots()\n",
    "grid_med_mere(ax)"
   ]
  },
  {
   "cell_type": "markdown",
   "id": "d5f00bd6",
   "metadata": {},
   "source": [
    "Skriv en funktion, der opretter et nyt figur-objekt med et sæt akser (sådan som det gøres i cellerne ovenfor). Funktionen skal returnere figur-objektet og akse-objektet."
   ]
  },
  {
   "cell_type": "code",
   "execution_count": null,
   "id": "06b87a0b",
   "metadata": {},
   "outputs": [],
   "source": [
    "def ny_figur():\n",
    "    # din kode her\n",
    "    grid_med_mere(ny_ax)\n",
    "    return ny_fig, ny_ax\n",
    "fig, ax = ny_figur()"
   ]
  },
  {
   "cell_type": "markdown",
   "id": "23e8d790",
   "metadata": {},
   "source": [
    "Dan et molekyle med tre atomer. Brug fx positionerne:\n",
    "$\\left[\\begin{array}{c}-0.5\\\\1.5\\end{array}\\right],\n",
    "\\left[\\begin{array}{c}1\\\\2.5\\end{array}\\right]\\>\\mathrm{og}\\>\n",
    "\\left[\\begin{array}{c}1\\\\0.5\\end{array}\\right].\n",
    "$\n",
    "Saml atomerne til et molekyle."
   ]
  },
  {
   "cell_type": "code",
   "execution_count": null,
   "id": "e22a97a2",
   "metadata": {},
   "outputs": [],
   "source": [
    "from utils.lennard_jones import Atom, Atoms\n",
    "p = [-0.5, 1.5]\n",
    "atom1 = Atom(p, color='pink')\n",
    "p = [1, 2.5]\n",
    "atom2 = Atom(p, color='C0')\n",
    "p = [1, 0.5]\n",
    "atom3 = Atom(p,color='C1')\n",
    "molecule = Atoms([atom1, atom2, atom3])"
   ]
  },
  {
   "cell_type": "markdown",
   "id": "0aa6b6f2",
   "metadata": {},
   "source": [
    "Skriv en funktion, der plotter alle atomer i et molekyle. Funktionen skal modtage `Axes`-objektet samt `Atoms`-objektet."
   ]
  },
  {
   "cell_type": "code",
   "execution_count": null,
   "id": "41f8b14b",
   "metadata": {},
   "outputs": [],
   "source": [
    "def plot_atoms(ax, molecule):\n",
    "    for atom in molecule:\n",
    "        atom.plot(ax)\n",
    "fig, ax = ny_figur()\n",
    "plot_atoms(ax, molecule)"
   ]
  },
  {
   "cell_type": "markdown",
   "id": "85dfbe25",
   "metadata": {},
   "source": [
    "Skriv en funktion, der plotter kræfterne for alle atomer. Funktionen skal modtage `Axes`-objektet samt `Atoms`-objektet."
   ]
  },
  {
   "cell_type": "code",
   "execution_count": null,
   "id": "640c2920",
   "metadata": {},
   "outputs": [],
   "source": [
    "def plot_kraefter(ax, molecule, color='k'):\n",
    "    positions = molecule.get_positions()\n",
    "    forces = molecule.get_forces()\n",
    "    arrows = []\n",
    "    for pos,force in zip(positions,forces):\n",
    "        arrow = ax.arrow(pos[0], pos[1], force[0], force[1], width=.05, length_includes_head=True, color=color, zorder=200)\n",
    "        arrows.append(arrow)\n",
    "    return arrows\n",
    "\n",
    "kraft_pile = plot_kraefter(ax, molecule)\n",
    "fig"
   ]
  },
  {
   "cell_type": "code",
   "execution_count": null,
   "id": "38f45f8b",
   "metadata": {},
   "outputs": [],
   "source": [
    "fig, ax = ny_figur()"
   ]
  },
  {
   "cell_type": "markdown",
   "id": "557b8bb4",
   "metadata": {},
   "source": [
    "### Øvelse 2\n",
    "Nu skal vi tjekke hvad vekselvirkningen mellem to atomer i Lennard-Jones modulet faktisk er.\n",
    "\n",
    "Start med at skrive en funktion, der:\n",
    "\n",
    "* modtager en afstand `r` som argument\n",
    "\n",
    "* opsætter et molekyle bestående af to atomer i afstanden `r`\n",
    "\n",
    "* returnerer den potentielle energi af molekylet"
   ]
  },
  {
   "cell_type": "code",
   "execution_count": null,
   "id": "e68b4719",
   "metadata": {},
   "outputs": [],
   "source": [
    "def potentiel_energi(r):\n",
    "    system = # din kode her\n",
    "    return system.get_potential_energy()"
   ]
  },
  {
   "cell_type": "markdown",
   "id": "8919c7c8",
   "metadata": {},
   "source": [
    "Kald din funktion for forskellige værdier af `r` og plot energien som funktion af netop `r`"
   ]
  },
  {
   "cell_type": "code",
   "execution_count": null,
   "id": "46f0c78c",
   "metadata": {},
   "outputs": [],
   "source": [
    "potentielle_energier = []\n",
    "afstande = # din kode her, der laver liste eller NumPy array af værdier fra 0.85 til 5\n",
    "for r in afstande:\n",
    "    # din kode her, der tilføjer den potentielle energi for denne\n",
    "    # afstand mellem atomerne til listen \"potentielle_energier\".\n",
    "    # husk at du lige har skrevet en funktion til at beregne det med\n",
    "\n",
    "fig, ax = plt.subplots()\n",
    "ax.plot(afstande, potentielle_energier)"
   ]
  },
  {
   "cell_type": "markdown",
   "id": "89498946",
   "metadata": {},
   "source": [
    "Omskriv funktionen du skrev ovenfor så den kan håndtere at argumentet `r` er en liste (eller et NumPy array) og ikke blot en skalar"
   ]
  },
  {
   "cell_type": "code",
   "execution_count": null,
   "id": "adb09dd2",
   "metadata": {
    "scrolled": true
   },
   "outputs": [],
   "source": [
    "def potentielle_energier(afstande):\n",
    "    res = []\n",
    "    stationaert_atom = Atom([0,0])\n",
    "    flytbart_atom = Atom([0,0])\n",
    "    system = Atoms([stationaert_atom, # færdiggør her\n",
    "    for r in afstande:\n",
    "        flytbart_atom.set_position # færdiggør her\n",
    "        res.append # færdiggør her\n",
    "    return res\n",
    "\n",
    "fig, ax = plt.subplots()\n",
    "ax.plot(afstande, potentielle_energier(afstande))"
   ]
  },
  {
   "cell_type": "markdown",
   "id": "9aed14f3",
   "metadata": {},
   "source": [
    "### Øvelse 3\n",
    "Nu skal vi tjekke at arbejdet en konservativ kraft udfører er lig minus tilvæksten i potentiel energi. Du skal bruge funktionerne fra øvelse 1.\n",
    "\n",
    "I de næste celler opbygger vi et plot, der viser kræfterne på atomerne når et af dem trækkes væk fra de to andre. Senere beregner vi det arbejde de to andre atomer udfører på det atom, der flyttes og sammenligner det med tilvæksten i potentiel energi.\n",
    "\n",
    "Men først plottet, der skal ende med at se således:"
   ]
  },
  {
   "cell_type": "code",
   "execution_count": null,
   "id": "ab79a01e",
   "metadata": {},
   "outputs": [],
   "source": [
    "from utils.lennard_jones import Atom, Atoms\n",
    "p = [0, 0.65]\n",
    "atom1 = Atom(p)\n",
    "p = [0, 2.35]\n",
    "atom2 = Atom(p)\n",
    "p = [1.5,1.5]\n",
    "atom3 = Atom(p,color='C2')\n",
    "molecule = Atoms([atom1, atom2, atom3])\n",
    "\n",
    "fig, ax = ny_figur()\n",
    "plot_atoms(ax, molecule)\n",
    "kraft_pile = plot_kraefter(ax, molecule, color='k')"
   ]
  },
  {
   "cell_type": "markdown",
   "id": "c79d9faf",
   "metadata": {},
   "source": [
    "Flyt 3. atom 0.1 i x-retningen og plot igen kræfterne (jeg bruger funktionen fra øvelse 1 ovenfor til at plotte kræfterne med). "
   ]
  },
  {
   "cell_type": "code",
   "execution_count": null,
   "id": "91cfa984",
   "metadata": {},
   "outputs": [],
   "source": [
    "x0 = 1.6\n",
    "y0 = 1.5\n",
    "atom3.set_position([x0, y0])\n",
    "kraft_pile = plot_kraefter(ax, molecule, color='C1')\n",
    "fig"
   ]
  },
  {
   "cell_type": "markdown",
   "id": "c9bac669",
   "metadata": {},
   "source": [
    "Flyt endnu en gang 3. atom 0.1 i x-retningen og plot atter kræfterne"
   ]
  },
  {
   "cell_type": "code",
   "execution_count": null,
   "id": "b9673c29",
   "metadata": {},
   "outputs": [],
   "source": [
    "x0 = 1.7\n",
    "y0 = 1.5\n",
    "atom3.set_position([x0, y0])\n",
    "kraft_pile = plot_kraefter(ax, molecule, color='C3')\n",
    "fig"
   ]
  },
  {
   "cell_type": "markdown",
   "id": "ca32b9f6",
   "metadata": {},
   "source": [
    "Okay, nu har vi en god idé om hvordan kræfterne opfører sig. Kraften på 3. atom peger altid i -$x$-retningen når vi trækker atomer til højre.\n",
    "\n",
    "Vi kan dermed beregne arbejdet kraft fra de to andre atomer på det 3. atom når det flyttes til højre som:\n",
    "$$W=\\int\\vec{F}\\cdot d\\vec{s}=\\int F_x dx\\simeq \\sum F_x(x,y_0) \\Delta x$$\n",
    "Skriv nedenstående celle færdig så den beregner det udførte arbejde når tredje atom flyttes fra $x_0=1.5$ til $x_1=10$."
   ]
  },
  {
   "cell_type": "code",
   "execution_count": null,
   "id": "1262bd67",
   "metadata": {},
   "outputs": [],
   "source": [
    "x0 = 1.5\n",
    "y0 = 1.5\n",
    "atom3.set_position([x0, y0])\n",
    "\n",
    "e0 = # din kode til at beregne den potentielle energi før flytningen\n",
    "\n",
    "x1 = 10\n",
    "Delta_x = 0.001\n",
    "xs = np.arange(x0, x1, Delta_x)\n",
    "W = 0\n",
    "\n",
    "for x in xs:\n",
    "    atom3.set_position([x, y0])\n",
    "    forces = molecule.get_forces()\n",
    "    force_last_atom = # din kode til at få krafter\n",
    "    fx = # din kode til at få x-komposanten af denne kraft\n",
    "    W += fx * Delta_x\n",
    "\n",
    "e1 = # din kode til at beregne den potentielle energi efter flytningen\n",
    "aendring_i_potentiel_energi = e1 - e0\n",
    "\n",
    "W, aendring_i_potentiel_energi"
   ]
  },
  {
   "cell_type": "markdown",
   "id": "7e2170b0",
   "metadata": {},
   "source": [
    "Lad os starte forfra"
   ]
  },
  {
   "cell_type": "code",
   "execution_count": null,
   "id": "12a12ae2",
   "metadata": {},
   "outputs": [],
   "source": [
    "p = [0, 0.65]\n",
    "atom1 = Atom(p)\n",
    "p = [0, 2.35]\n",
    "atom2 = Atom(p)\n",
    "p = [1.5,1.5]\n",
    "atom3 = Atom(p,color='C2')\n",
    "molecule = Atoms([atom1, atom2, atom3])\n",
    "\n",
    "fig, ax = ny_figur()\n",
    "plot_atoms(ax, molecule)\n",
    "kraft_pile = plot_kraefter(ax, molecule)"
   ]
  },
  {
   "cell_type": "markdown",
   "id": "b774e94c",
   "metadata": {},
   "source": [
    "Denne gang flyttes det 3. atom i y-retningen.\n",
    "\n",
    "Du skal få dette plot:"
   ]
  },
  {
   "cell_type": "code",
   "execution_count": null,
   "id": "5a227b4d",
   "metadata": {},
   "outputs": [],
   "source": [
    "x0 = 1.5\n",
    "for y0 in np.arange(1.75,3,0.25):\n",
    "\n",
    "    # din kode her\n",
    "fig"
   ]
  },
  {
   "cell_type": "markdown",
   "id": "fbce56d4",
   "metadata": {},
   "source": [
    "Denne gang når vi trækker 3. atom opad er kraften på det primært i -$x$-retningen men der er også komposanter i $y$-retningen\n",
    "\n",
    "Da bevægelsen sker i $y$-retningen bliver arbejdet de to andre atomer udfører på det 3. atom når det flyttes opad til:\n",
    "$$W=\\int\\vec{F}\\cdot d\\vec{s}=\\int F_y dy\\simeq \\sum F_y(x_0,y) \\Delta y$$\n",
    "Skriv nedenstående celle færdig så den beregner det udførte arbejde når tredje atom flyttes fra $y_0=1.5$ til $y_1=10$."
   ]
  },
  {
   "cell_type": "code",
   "execution_count": null,
   "id": "ef4a0212",
   "metadata": {},
   "outputs": [],
   "source": [
    "x0 = 1.5\n",
    "y0 = 1.5\n",
    "atom3.set_position([x0, y0])\n",
    "\n",
    "e0 = molecule.get_potential_energy()\n",
    "\n",
    "y1 = 10\n",
    "Delta_y = 0.001\n",
    "ys = np.arange(y0, y1, Delta_y)\n",
    "sum_fy_dy = 0\n",
    "for y in ys:\n",
    "    atom3.set_position([x0, y])\n",
    "    # dine kode\n",
    "    fy = # dine kode\n",
    "    sum_fy_dy +=  fy * Delta_y\n",
    "    \n",
    "e1 = molecule.get_potential_energy()\n",
    "sum_fy_dy, e1 - e0"
   ]
  },
  {
   "cell_type": "markdown",
   "id": "274c32e6",
   "metadata": {},
   "source": [
    "Vi starter forfra en sidste gang:"
   ]
  },
  {
   "cell_type": "code",
   "execution_count": null,
   "id": "80926bf0",
   "metadata": {},
   "outputs": [],
   "source": [
    "p = [0, 0.65]\n",
    "atom1 = Atom(p)\n",
    "p = [0, 2.35]\n",
    "atom2 = Atom(p)\n",
    "p = [1.5,1.5]\n",
    "atom3 = Atom(p,color='C2')\n",
    "molecule = Atoms([atom1, atom2, atom3])\n",
    "\n",
    "fig, ax = ny_figur()\n",
    "plot_atoms(ax, molecule)\n",
    "kraft_pile = plot_kraefter(ax, molecule)"
   ]
  },
  {
   "cell_type": "markdown",
   "id": "3fa7ee91",
   "metadata": {},
   "source": [
    "Men denne gang skal det sidste atom flyttes skråt opad i en vinkel på 75$^\\circ$ til $x$-aksen. Således at du får dette plot:"
   ]
  },
  {
   "cell_type": "code",
   "execution_count": null,
   "id": "0a19b7f4",
   "metadata": {},
   "outputs": [],
   "source": [
    "theta = 75 / 180 * np.pi\n",
    "dx = np.cos(theta)\n",
    "dy = np.sin(theta)\n",
    "ds_vector = np.array([dx,dy])\n",
    "x0 = 1.5\n",
    "y0 = 1.5\n",
    "for s in np.arange(0,1.5,0.25):\n",
    "    p = np.array([x0, y0]) + # din kode her\n",
    "    atom3.set_position(p)\n",
    "\n",
    "    plot_kraefter(ax, molecule, color='C3')\n",
    "\n",
    "fig"
   ]
  },
  {
   "cell_type": "markdown",
   "id": "771c11ce",
   "metadata": {},
   "source": [
    "Da bevægelsen nu sker i en generel retning, $d\\vec{s}$, må vi finde kraftens projektion på denne regning (det er ikke længere blot en af komposanterne).\n",
    "\n",
    "Vi har:\n",
    "$$F_s=\\vec{F}\\cdot \\hat{s}$$\n",
    "hvor $\\hat{s}$ er retningsvektoren i $d\\vec{s}$'s retning.\n",
    "\n",
    "Derefter har vi:\n",
    "$$W=\\int\\vec{F}\\cdot d\\vec{s}=\\int F_s ds\\simeq \\sum F_s \\Delta s$$\n",
    "Skriv nedenstående celle færdig så den beregner det udførte arbejde når tredje atom flyttes fra i alt 10 længdeenheder i $\\hat{s}$-retningen."
   ]
  },
  {
   "cell_type": "code",
   "execution_count": null,
   "id": "fe934040",
   "metadata": {},
   "outputs": [],
   "source": [
    "x0 = 1.5\n",
    "y0 = 1.5\n",
    "atom3.set_position([x0, y0])\n",
    "\n",
    "e0 = molecule.get_potential_energy()\n",
    "\n",
    "integral_of_fs_ds = 0\n",
    "ds = 0.001\n",
    "for s in np.arange(0,10,ds):\n",
    "    p = np.array([x0, y0]) + # din kode her\n",
    "    atom3.set_position(p)\n",
    "\n",
    "    forces = molecule.get_forces()\n",
    "    force_atom3 = # færdiggør her\n",
    "    \n",
    "    integral_of_fs_ds += # din kode her\n",
    "\n",
    "e1 = molecule.get_potential_energy()\n",
    "\n",
    "integral_of_fs_ds, e1 - e0    "
   ]
  },
  {
   "cell_type": "code",
   "execution_count": null,
   "id": "c96cd0bc",
   "metadata": {},
   "outputs": [],
   "source": []
  }
 ],
 "metadata": {
  "kernelspec": {
   "display_name": "Python 3 (ipykernel)",
   "language": "python",
   "name": "python3"
  },
  "language_info": {
   "codemirror_mode": {
    "name": "ipython",
    "version": 3
   },
   "file_extension": ".py",
   "mimetype": "text/x-python",
   "name": "python",
   "nbconvert_exporter": "python",
   "pygments_lexer": "ipython3",
   "version": "3.9.7"
  }
 },
 "nbformat": 4,
 "nbformat_minor": 5
}
