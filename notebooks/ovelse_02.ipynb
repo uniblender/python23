{
 "cells": [
  {
   "cell_type": "markdown",
   "id": "b038b5c1",
   "metadata": {
    "id": "b038b5c1"
   },
   "source": [
    "## TØ2\n",
    "I denne notebook skal du lære\n",
    "\n",
    "* selv at skrive nogle funktioner\n",
    "\n",
    "* at arbejde med vektorer og regne på arbejdet en konservativ kraft udfører på et legeme, der bevæger sig ad en vej"
   ]
  },
  {
   "cell_type": "markdown",
   "id": "17d4a46f",
   "metadata": {
    "id": "17d4a46f"
   },
   "source": [
    "### Load kursets Lennard-Jones modul"
   ]
  },
  {
   "cell_type": "code",
   "execution_count": null,
   "id": "bb41df77",
   "metadata": {
    "id": "bb41df77"
   },
   "outputs": [],
   "source": [
    "%load_ext autoreload\n",
    "%autoreload 2\n",
    "\n",
    "import os\n",
    "if not os.path.exists('python23'):\n",
    "    !git clone https://github.com/uniblender/python23.git/ > git_output.txt\n",
    "else:\n",
    "    os.chdir('python23')\n",
    "    !git pull \n",
    "    os.chdir('../')\n",
    "!pip install --upgrade pip    \n",
    "!pip install python23/utils_package/ > pip_output.txt"
   ]
  },
  {
   "cell_type": "markdown",
   "id": "7f4054ff",
   "metadata": {
    "id": "7f4054ff"
   },
   "source": [
    "### Øvelse 1\n",
    "Her er kode til at lave et lærred:"
   ]
  },
  {
   "cell_type": "code",
   "execution_count": null,
   "id": "42429831",
   "metadata": {
    "id": "42429831"
   },
   "outputs": [],
   "source": [
    "%matplotlib inline\n",
    "import numpy as np\n",
    "import matplotlib.pyplot as plt\n",
    "plt.rc('font', size=16)\n",
    "fig, ax = plt.subplots()\n",
    "ax.set_aspect('equal', adjustable='box')\n",
    "ax.set_xlim([-1,5])\n",
    "ax.set_ylim([0,3])\n",
    "ax.set_xticks(range(-2,6))\n",
    "ax.set_yticks(range(0,4))\n",
    "ax.grid()"
   ]
  },
  {
   "cell_type": "markdown",
   "id": "435461f6",
   "metadata": {
    "id": "435461f6"
   },
   "source": [
    "For at kunne slippe nemt om med alle de ekstra settings ovenfor skal du nu skrive en funktion, der modtager matplotlibs `Axes` objekt, `ax`, som argument og udfører følgende kommandoer:\n",
    "\n",
    "    ax.set_aspect('equal', adjustable='box')\n",
    "    ax.set_xlim([-1,5])\n",
    "    ax.set_ylim([0,3])\n",
    "    ax.set_xticks(range(-2,6))\n",
    "    ax.set_yticks(range(0,4))\n",
    "    ax.grid()\n"
   ]
  },
  {
   "cell_type": "code",
   "execution_count": null,
   "id": "7b33eb7e",
   "metadata": {
    "id": "7b33eb7e"
   },
   "outputs": [],
   "source": [
    "def grid_med_mere(ax):\n",
    "    # din kode her\n",
    "\n",
    "fig, ax = plt.subplots()\n",
    "grid_med_mere(ax)"
   ]
  },
  {
   "cell_type": "markdown",
   "id": "d5f00bd6",
   "metadata": {
    "id": "d5f00bd6"
   },
   "source": [
    "Skriv en funktion, der opretter et nyt lærred. Her tænkes på matplotlibs `Figure`-objekt, med et sæt akser, matplotlibs `Axes`-objekt (sådan som det gøres i cellerne ovenfor, hver gang der står `fig, ax =`). Funktionen skal returnere de to objekter."
   ]
  },
  {
   "cell_type": "code",
   "execution_count": null,
   "id": "06b87a0b",
   "metadata": {
    "id": "06b87a0b"
   },
   "outputs": [],
   "source": [
    "def ny_figur():\n",
    "    # din kode her\n",
    "    grid_med_mere(ny_ax)\n",
    "    return ny_fig, ny_ax\n",
    "fig, ax = ny_figur()"
   ]
  },
  {
   "cell_type": "markdown",
   "id": "23e8d790",
   "metadata": {
    "id": "23e8d790"
   },
   "source": [
    "Kør næste celle for at danne et molekyle med tre atomer. Der bruges positionerne:\n",
    "$\\left[\\begin{array}{c}-0.5\\\\1.5\\end{array}\\right],\n",
    "\\left[\\begin{array}{c}1\\\\2.5\\end{array}\\right]\\>\\mathrm{og}\\>\n",
    "\\left[\\begin{array}{c}1\\\\0.5\\end{array}\\right].\n",
    "$"
   ]
  },
  {
   "cell_type": "code",
   "execution_count": null,
   "id": "e22a97a2",
   "metadata": {
    "id": "e22a97a2"
   },
   "outputs": [],
   "source": [
    "from utils.lennard_jones import Atom, Atoms\n",
    "p = [-0.5, 1.5]\n",
    "atom1 = Atom(p, color='pink')\n",
    "p = [1, 2.5]\n",
    "atom2 = Atom(p, color='C0')\n",
    "p = [1, 0.5]\n",
    "atom3 = Atom(p,color='C1')\n",
    "molecule = Atoms([atom1, atom2, atom3])"
   ]
  },
  {
   "cell_type": "markdown",
   "id": "0aa6b6f2",
   "metadata": {
    "id": "0aa6b6f2"
   },
   "source": [
    "Skriv en funktion, der plotter alle atomer i et molekyle. Funktionen skal modtage `Axes`-objektet samt `Atoms`-objektet. Kig i Notebook 1 hvis du har glemt hvordan man plotter atomer."
   ]
  },
  {
   "cell_type": "code",
   "execution_count": null,
   "id": "41f8b14b",
   "metadata": {
    "id": "41f8b14b"
   },
   "outputs": [],
   "source": [
    "def plot_atoms(ax, molecule):\n",
    "    for atom # din kode her\n",
    "        # mere af din kode her\n",
    "fig, ax = ny_figur()\n",
    "plot_atoms(ax, molecule)"
   ]
  },
  {
   "cell_type": "markdown",
   "id": "85dfbe25",
   "metadata": {
    "id": "85dfbe25"
   },
   "source": [
    "Skriv en funktion, der plotter kræfterne for alle atomer. Funktionen skal modtage `Axes`-objektet samt `Atoms`-objektet. Den skal endvidere holde styr på alle pile, der tegnes og returnere en liste med dem."
   ]
  },
  {
   "cell_type": "code",
   "execution_count": null,
   "id": "640c2920",
   "metadata": {
    "id": "640c2920"
   },
   "outputs": [],
   "source": [
    "def plot_kraefter(<DIN_KODE_HER>, color='k'):\n",
    "    positions = molecule.get_positions()\n",
    "    forces = molecule.get_forces()\n",
    "    arrows = # færdiggør så der laves en tom liste\n",
    "    for pos,force in zip(positions,forces):\n",
    "        arrow = ax.arrow(pos[0], pos[1], force[0], force[1], width=.05, length_includes_head=True, color=color, zorder=200)\n",
    "        arrows. # færdiggør koden med append-metoden så listen forlænges med arrow\n",
    "    return arrows\n",
    "\n",
    "kraft_pile = plot_kraefter(ax, molecule)\n",
    "fig"
   ]
  },
  {
   "cell_type": "markdown",
   "id": "6b1997f4",
   "metadata": {
    "id": "38f45f8b"
   },
   "source": [
    "Da vi har holdt styr på alle kraft-pilene kan vi loope over dem og fjern dem med denne kode:"
   ]
  },
  {
   "cell_type": "code",
   "execution_count": null,
   "id": "f34f7a0d",
   "metadata": {},
   "outputs": [],
   "source": [
    "for kraft_pil in kraft_pile:\n",
    "    kraft_pil.remove()\n",
    "fig"
   ]
  },
  {
   "cell_type": "markdown",
   "id": "557b8bb4",
   "metadata": {
    "id": "557b8bb4"
   },
   "source": [
    "### Øvelse 2\n",
    "Nu skal vi tjekke hvad vekselvirkningen mellem to atomer i Lennard-Jones modulet faktisk er.\n",
    "\n",
    "Start med at skrive en funktion, der:\n",
    "\n",
    "* modtager en afstand `r` som argument\n",
    "\n",
    "* opsætter et molekyle bestående af to atomer i afstanden `r`\n",
    "\n",
    "* returnerer den potentielle energi af molekylet"
   ]
  },
  {
   "cell_type": "code",
   "execution_count": null,
   "id": "e68b4719",
   "metadata": {
    "id": "e68b4719"
   },
   "outputs": [],
   "source": [
    "def potentiel_energi(r):\n",
    "    system = # din kode her\n",
    "    return system.get_potential_energy()"
   ]
  },
  {
   "cell_type": "markdown",
   "id": "8919c7c8",
   "metadata": {
    "id": "8919c7c8"
   },
   "source": [
    "Kald din funktion for forskellige værdier af `r` og plot energien som funktion af netop `r`"
   ]
  },
  {
   "cell_type": "code",
   "execution_count": null,
   "id": "46f0c78c",
   "metadata": {
    "id": "46f0c78c"
   },
   "outputs": [],
   "source": [
    "potentielle_energier = []\n",
    "afstande = # din kode her, der laver liste eller NumPy array af værdier fra 0.85 til 5\n",
    "for r in afstande:\n",
    "    # din kode her, der tilføjer den potentielle energi for denne\n",
    "    # afstand mellem atomerne til listen \"potentielle_energier\".\n",
    "    # husk at du lige har skrevet en funktion til at beregne det med\n",
    "\n",
    "fig, ax = plt.subplots()\n",
    "ax.plot(afstande, potentielle_energier)"
   ]
  },
  {
   "cell_type": "markdown",
   "id": "c2f9cd96",
   "metadata": {},
   "source": [
    "Slå Lennard-Jones potentialet op i Wikipedia og sammenlign med dit plot. "
   ]
  },
  {
   "cell_type": "markdown",
   "id": "89498946",
   "metadata": {
    "id": "89498946"
   },
   "source": [
    "Omskriv funktionen du skrev ovenfor så den kan håndtere at argumentet `r` er en liste (eller et NumPy array) og ikke blot en skalar. Når du har omskrevet funktionen skal man kunne plotte hele potentialet således: `ax.plot(afstande, potentielle_energier(afstande))`, hvor `afstande` er en liste (eller et NumPy-array)."
   ]
  },
  {
   "cell_type": "code",
   "execution_count": null,
   "id": "adb09dd2",
   "metadata": {
    "id": "adb09dd2",
    "scrolled": true
   },
   "outputs": [],
   "source": [
    "def potentielle_energier(afstande):\n",
    "    liste_af_potentielle_energier = []\n",
    "    stationaert_atom = Atom([0,0])\n",
    "    flytbart_atom = Atom([0,0])\n",
    "    system = Atoms([stationaert_atom, # færdiggør her\n",
    "    for r in afstande:\n",
    "        flytbart_atom.set_position # færdiggør her\n",
    "        liste_af_potentielle_energier.append # færdiggør her\n",
    "    return liste_af_potentielle_energier\n",
    "\n",
    "fig, ax = plt.subplots()\n",
    "ax.plot(afstande, potentielle_energier(afstande))"
   ]
  },
  {
   "cell_type": "markdown",
   "id": "9aed14f3",
   "metadata": {
    "id": "9aed14f3"
   },
   "source": [
    "### Øvelse 3\n",
    "Nu skal vi tjekke at arbejdet en konservativ kraft udfører er lig minus tilvæksten i potentiel energi. Du skal bruge funktionerne fra øvelse 1.\n",
    "\n",
    "I de næste celler opbygger vi et plot, der viser kræfterne på atomerne når et af dem trækkes væk fra de to andre. Senere beregner vi det arbejde de to andre atomer udfører på det atom, der flyttes og sammenligner det med tilvæksten i potentiel energi.\n",
    "\n",
    "Men først plottet, der skal ende med at se således ud:\n",
    "\n",
    "![Screenshot 2023-02-13 at 15.15.56.png](data:image/png;base64,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)"
   ]
  },
  {
   "cell_type": "code",
   "execution_count": null,
   "id": "ab79a01e",
   "metadata": {
    "id": "ab79a01e"
   },
   "outputs": [],
   "source": [
    "from utils.lennard_jones import Atom, Atoms\n",
    "p = [0, 0.65]\n",
    "atom1 = Atom(p)\n",
    "p = [0, 2.35]\n",
    "atom2 = Atom(p)\n",
    "p = [1.5,1.5]\n",
    "atom3 = Atom(p,color='C2')\n",
    "molecule = Atoms([atom1, atom2, atom3])\n",
    "\n",
    "fig, ax = ny_figur()\n",
    "plot_atoms(ax, molecule)\n",
    "kraft_pile = plot_kraefter(ax, molecule, color='k')"
   ]
  },
  {
   "cell_type": "markdown",
   "id": "c79d9faf",
   "metadata": {
    "id": "c79d9faf"
   },
   "source": [
    "Flyt 3. atom 0.1 i x-retningen og plot igen kræfterne (jeg bruger funktionen fra øvelse 1 ovenfor til at plotte kræfterne med). "
   ]
  },
  {
   "cell_type": "code",
   "execution_count": null,
   "id": "91cfa984",
   "metadata": {
    "id": "91cfa984"
   },
   "outputs": [],
   "source": [
    "x0 = # skriv værdi\n",
    "y0 = # skriv værdi\n",
    "atom3.set_position([x0, y0])\n",
    "kraft_pile = plot_kraefter(ax, molecule, color='C1')\n",
    "fig"
   ]
  },
  {
   "cell_type": "markdown",
   "id": "c9bac669",
   "metadata": {
    "id": "c9bac669"
   },
   "source": [
    "Flyt endnu en gang 3. atom 0.1 i x-retningen og plot atter kræfterne"
   ]
  },
  {
   "cell_type": "code",
   "execution_count": null,
   "id": "b9673c29",
   "metadata": {
    "id": "b9673c29"
   },
   "outputs": [],
   "source": [
    "atom3.set_position( # færdiggør\n",
    "kraft_pile = plot_kraefter(ax, molecule, color='C3')\n",
    "fig"
   ]
  },
  {
   "cell_type": "markdown",
   "id": "ca32b9f6",
   "metadata": {
    "id": "ca32b9f6"
   },
   "source": [
    "Okay, nu har vi en god idé om hvordan kræfterne opfører sig. Kraften på 3. atom peger altid i -$x$-retningen når vi trækker atomer til højre.\n",
    "\n",
    "Vi kan dermed beregne arbejdet kraft fra de to andre atomer på det 3. atom når det flyttes til højre som:\n",
    "$$W=\\int\\vec{F}\\cdot d\\vec{s}=\\int F_x dx\\simeq \\sum F_x(x,y_0) \\Delta x$$\n",
    "Skriv nedenstående celle færdig så den beregner det udførte arbejde når tredje atom flyttes fra $x_0=1.5$ til $x_1=10$."
   ]
  },
  {
   "cell_type": "code",
   "execution_count": null,
   "id": "1262bd67",
   "metadata": {
    "id": "1262bd67"
   },
   "outputs": [],
   "source": [
    "x0 = 1.5\n",
    "y0 = 1.5\n",
    "atom3.set_position([x0, y0])\n",
    "\n",
    "e0 = # din kode til at beregne den potentielle energi før flytningen\n",
    "\n",
    "x1 = 10\n",
    "Delta_x = 0.001\n",
    "xs = np.arange(x0, x1, Delta_x)\n",
    "W = 0\n",
    "\n",
    "for x in xs:\n",
    "    atom3.set_position([x, y0])\n",
    "    forces = molecule.get_forces()\n",
    "    force_last_atom = # din kode til at få krafter\n",
    "    fx = # din kode til at få x-komposanten af denne kraft\n",
    "    W += fx * Delta_x\n",
    "\n",
    "e1 = # din kode til at beregne den potentielle energi efter flytningen\n",
    "aendring_i_potentiel_energi = e1 - e0\n",
    "\n",
    "W, aendring_i_potentiel_energi"
   ]
  },
  {
   "cell_type": "markdown",
   "id": "7e2170b0",
   "metadata": {
    "id": "7e2170b0"
   },
   "source": [
    "Lad os starte forfra"
   ]
  },
  {
   "cell_type": "code",
   "execution_count": null,
   "id": "12a12ae2",
   "metadata": {
    "id": "12a12ae2"
   },
   "outputs": [],
   "source": [
    "p = [0, 0.65]\n",
    "atom1 = Atom(p)\n",
    "p = [0, 2.35]\n",
    "atom2 = Atom(p)\n",
    "p = [1.5,1.5]\n",
    "atom3 = Atom(p,color='C2')\n",
    "molecule = Atoms([atom1, atom2, atom3])\n",
    "\n",
    "fig, ax = ny_figur()\n",
    "plot_atoms(ax, molecule)\n",
    "kraft_pile = plot_kraefter(ax, molecule)"
   ]
  },
  {
   "cell_type": "markdown",
   "id": "b774e94c",
   "metadata": {
    "id": "b774e94c"
   },
   "source": [
    "Denne gang flyttes det 3. atom i y-retningen.\n",
    "\n",
    "Du skal få dette plot:\n",
    "\n",
    "![Screenshot 2023-02-13 at 15.15.38.png](data:image/png;base64,iVBORw0KGgoAAAANSUhEUgAAAb8AAADkCAYAAAAILSryAAAYTGlDQ1BJQ0MgUHJvZmlsZQAAWIWVeQk4lV3X/77PfI75HPM8z2Se53meZxKO6ZjiGEOJJGOiQkglGSuVQiUiDUoZekiSSIZKoaJC9d2Gep73ef/X/7u+fV373r+z9tprrb3WHu51bgC4qnwjI8MQjACER8RQHUwN+N3cPfixswACREAAaEDyJUdH6tvZWQG4/G7/s6wMw9xweSqzIeu/+/+/hck/IJoMAGQHYz//aHI4jK8CgConR1JjAMBs0IXiYyI3MFwBMxU2EMaZGzhoC5dvYL8tfGmTx8nBEMbdAOBofX2pQQDQ98N0/jhyECyDfhHuI0b4UyIAYEHBWCc8fLc/AFxGMI84zBMJ4415qPn9Q07Qf8j0+yPT1zfoD96ay2bBGVGiI8N89/wf3fG/l/Cw2N86ROFKG0w1c9iYM+y3kdDdlhuYFsbzEX42tjAmwvgbxX+TH8YIQnCsmfMWP4KbHG0I+wywwljO39fIEsbcMDaJCLOx2qb7BVJMzGEMrxBEAiXG3AnG7DDODIg2dtzmOU3d7bCtC9EcSDXU36Y/8KVu6t3QNR4b6qy/Lf9TcID5tnwkfWKwkyuMCTAWjqO42MCYHsay0aGOlts8WonBhja/eaixDhv2C8PYISDC1GBLPjIukGrisM2fHR79e77I08EUc5ttfCUm2Mlsyz/IbrLvpv3wXJD9ARH6zr/lBES7Wf2ei3+AkfHW3JFzARHOjttyvkXGGDhsjUURIsPstvlRggFhpht0QRgrRcc5bo9FucTAC3JLPiowMsbOactOVGKIr4Xdlj2oI8AKGAIjwA9i4eoHdoMQQHky3zIP/9rqMQG+gAqCQACQ2ab8HuG62RMBPx1BIvgAowAQ/WecwWZvAIiD6T/+ULeeMiBwszduc0QomIFxOLAEYfDv2M1REX+0uYA3MIXyX9p94UqG7Q2D60b//5v+m/o3RR+mWG1TYn9r5Gf4zYkxxhhhzDAmGAkUJ0oHpYmygp96cFVAqaHUf8/jb370DHoA/Ro9hJ5AP99FSaP+y0prMAHLN9n2hd8/fYEShWUqowxQ2rB0WDKKFcUJZFBKsB59lC6sWRmmGm7bveEV/n/J/o8Z/CMa23x4OTwCz4bXw4v/eyS9JL3yHykbvv6nf7Zs9fvjb8M/Pf/Wb/gP7/vDreW/OZGZyCbkfWQnsgfZhmwB/MgOZCuyF3lrA/9ZXW82V9dvbQ6b9oTCcij/pe93ZDc8GS3XIPdWbn2rLyYgYeOMBoa7I/dQKUHBMfz68I0QwG8eQZaV5leQU1AEYON+2Tq+Pjts3hsQa9/fNPJBAFTh8xm/+jct/DMAl+C9z2/9N03EG95+GABqZ8ix1LgtGmrjgYZPCQZ4p3EAXiAExOH5KAAVoAn0gDGwALbACbgDb9j6YHidU0E8SAapIAPkgCPgOCgFp8BZUAsugCugBbSBTnAPPAL9YAi8gFfPNHgPFsEKWIMgCAvRQSSIA+KDRCApSAFSg3QgY8gKcoDcIR8oCIqAYqFk6ACUAxVCpdAZqA66DF2HOqEeaAB6Dk1Cb6FP0CoCiaBFMCN4EKKIHQg1hD7CEuGE2IkIQkQhEhHpiMOIEkQl4jyiGdGJeIQYQkwg3iOWkQBJg2RFCiBlkGpIQ6Qt0gMZiKQi9yGzkUXISuRF5A04zk+RE8h55HcUBkVC8aNk4BVshnJGkVFRqH2oXFQpqhbVjOpGPUVNohZRP9F0aG60FFoDbY52Qweh49EZ6CJ0Nfoa+i68l6bRKxgMhhUjhlGF96I7JgSThMnFnMQ0Ym5jBjBTmGUsFsuBlcJqY22xvtgYbAb2BPY8tgM7iJ3GfsPR4PhwCjgTnAcuApeGK8LV49pxg7hZ3BqeES+C18Db4v3xe/D5+Cr8DXwffhq/RmAiiBG0CU6EEEIqoYRwkXCXMEb4TENDI0ijTmNPQ6HZT1NCc4nmAc0kzXdaIq0krSGtF20s7WHaGtrbtM9pP9PR0YnS6dF50MXQHaaro7tDN073jZ5EL0tvTu9Pn0JfRt9MP0j/kQHPIMKgz+DNkMhQxNDE0Mcwz4hnFGU0ZPRl3MdYxnid8RnjMhOJSZ7JlimcKZepnqmHaY6IJYoSjYn+xHTiWeId4hQJSRIiGZLIpAOkKtJd0jQzhlmM2Zw5hDmH+QLzE+ZFFiKLEosLSwJLGcstlglWJKsoqzlrGGs+6xXWYdZVNh42fbYAtiy2i2yDbF/Zudj12APYs9kb2YfYVzn4OYw5QjkKOFo4XnKiOCU57TnjOSs473LOczFzaXKRubK5rnCNciO4JbkduJO4z3L3ci/z8PKY8kTynOC5wzPPy8qrxxvCe4y3nfctH4lPh4/Cd4yvg+8dPwu/Pn8Yfwl/N/+iALeAmUCswBmBJwJrgmKCzoJpgo2CL4UIQmpCgULHhLqEFoX5hK2Fk4UbhEdF8CJqIsEixSL3Rb6Kiom6ih4SbRGdE2MXMxdLFGsQGxOnE9cVjxKvFP9LAiOhJhEqcVKiXxIhqSwZLFkm2SeFkFKRokidlBqQRkurS0dIV0o/k6GV0ZeJk2mQmZRllbWSTZNtkf24Q3iHx46CHfd3/JRTlguTq5J7IU+Ut5BPk78h/0lBUoGsUKbwlyKdooliimKr4pKSlFKAUoXSiDJJ2Vr5kHKX8g8VVRWqykWVt6rCqj6q5arP1JjV7NRy1R6oo9UN1FPU29S/a6hoxGhc0VjQlNEM1azXnNMS0wrQqtKa0hbU9tU+oz2hw6/jo3NaZ0JXQNdXt1L3tZ6Qnr9etd6svoR+iP55/Y8GcgZUg2sGXw01DPca3jZCGpkaZRs9MSYaOxuXGo+bCJoEmTSYLJoqmyaZ3jZDm1maFZg9M+cxJ5vXmS9aqFrstei2pLV0tCy1fG0laUW1umGNsLawPmo9ZiNiE2HTYgtszW2P2r60E7OLsrtpj7G3sy+zn3GQd0h2uO9IctzlWO+44mTglO/0wlncOda5y4XBxculzuWrq5FroeuE2w63vW6P3DndKe6tHlgPF49qj2VPY8/jntNeyl4ZXsM7xXYm7Ozx5vQO8761i2GX764mH7SPq0+9z7qvrW+l77KfuV+53yLZkFxMfu+v53/M/22AdkBhwGygdmBh4FyQdtDRoLfBusFFwfMUQ0opZSnELORUyNdQ29Ca0F9hrmGN4bhwn/DrEcSI0Iju3by7E3YPREpFZkRORGlEHY9apFpSq6Oh6J3RrTHM8It8b6x47MHYyTiduLK4b/Eu8U0JTAkRCb17JPdk7ZlNNEk8l4RKIid1JQskpyZP7tXfe2YftM9vX1eKUEp6yvR+0/21qYTU0NTHaXJphWlfDrgeuJHOk74/feqg6cGGDPoMasazQ5qHTmWiMimZT7IUs05k/cz2z36YI5dTlLOeS859mCefV5L363Dg4Sf5KvkVRzBHIo4MF+gW1BYyFSYWTh21Ptp8jP9Y9rEvx3cd7ylSKjpVTCiOLZ4osSppPSF84siJ9dLg0qEyg7LGcu7yrPKvJ/1PDlboVVw8xXMq59TqacrpkTOmZ5orRSuLzmLOxp2dqXKpun9O7VxdNWd1TvWPmoiaiVqH2u461bq6eu76/AZEQ2zD2/Ne5/svGF1ovShz8Uwja2POJXAp9tK7yz6Xh69YXulqUmu6eFXkavk10rXsZqh5T/NiS3DLRKt768B1i+tdNzRvXLspe7OmTaCt7BbLrfx2Qnt6+6+OxI7l25G35zuDOqe6dnW9uON2569u++4ndy3vPrhncu/Off37HQ+0H7T1aPRcf6j2sOWRyqPmXuXea4+VH197ovKkuU+1r7Vfvf/GgNZA+6DuYOdTo6f3/jL/69GQzdDAsPPwyDOvZxMj/iNzz8OeL43Gja692D+GHst+yfiyaJx7vPKVxKvGCZWJW5NGk72vHV+/mCJPvX8T/WZ9On2GbqZolm+2bk5hru2tydv+d57vpt9Hvl+bz/jA9KH8o/jHqwt6C72LbovTS9SlX59yP3N8rvmi9KVr2W55fCV8Ze1r9jeOb7Xf1b7fX3VdnV2LX8eul/yQ+HHjp+XPsV/hv35F+lJ9N18FkHBFBAYC8KkGADp3AEhwfkbw3Mr/tgsSfvlAwK0LJAu9R6TDN2ofKgNtgkFiHmFLcBF4K4IEDZZmnnaQroW+hqGasZGpldhFesTczzLC+optjv09xxLnKtcPHgQvlo/ATydAFCQKsQqzi7CJsotxi/NI8EvySwlKC8uIyortkJaTk1dUUFHUUNJVNlYxVzVXM1E30TDRNNTS19bS0dBV0pPVFzXgMWQ2Ihj9Mv5sMmP63KzXvM2i1vKoVYp1iI2brbGdsr2YA5cjoxPOGekCuSLcUO54D0ZPDi/hnTLeEruEffh8Of1YyCR/YgApkDWIK1iQIh2iGmoS5hJOiUjeXRhZFXWaWhJdEJMbmxWXHX84oWRPbWJ70ou9YJ90yq79J1JfHBBM332w8xAmUyhLIdsgxzE3MC/xcEF+7ZHbBaOFy8eYjssUWRQHlhw4UVF6vWyw/M3J5VPY0xxnJCu1ztpW+Z2LqT5YU1RbW3e9/mHD6Pl3F7434i6xXRa/otvkfjXqWlbzyZbG1o7rPTf6bva3PbrV1X65o+x2SueuLo07xDsz3dfv1t8rv5/zIKHH76H5I9le+t75x3eflPdF9hsMkAamBq88Tf3LfkhkGDX89lnvSOPzwtGYFy5jai85X66Pj7/qnDg3mfV695TzG61pYXiVrcz+NXf1bfG7lPdh8+QP5I+RCzmL15YWPut9ObNC+lryXWr1yXrKT41fv/4RfwXkHKoQbYlhwbzENuFy8UEEIxpJWgbadbpZ+hGGEcZXTG+IH0ifmVdYfrCusf1g/8nxg3OF6zP3As8M7xjfIP9dgeuC1UI5wmEiVqKSYnixd+I9EnWS2VIUaUsZGVk62YUdA3JX5YsVkhXJSvbKBioKqgJqRLVf6h81xjR7tJq1K3VydeP1fPQtDBQMOY0QRm+Nn5hcMi0wizZ3slCxZLNcs3plfcem3rbALsk+0MHRUd9J3lnAheSKdV11e+8+5tHrecurcedp76O7Dvkk+1L9KGRff48Ap0D7IJtgS4pliFmoZphsuEAEy26aSETketQ36vfoH7HoOGK8UILGHqfE6KSi5La9Myk0+/lSZdK0D9ik+x2Mz8g7VJ3ZkTWa/TWXOU/hsH1+xJG8gobCB0ffHPtVxFmsXGJ3IrT0YNmp8taT/RVzp36eYa6UOKtdZXeOXB1bc6i2BD7nehsWLhAvKjY6Xoq6nH+loan76ti1Ty2YVo7rkjc0blq0ud0KbI/pSLmd2nmg6+CdjO5DdzPvZd/PfZDXk/cw71Feb+7jnCdZfYf60wdSB/c+jfsramj3cOSzmJGk5wdHj76oHGt6eW/8+asPk+A1cUrwjfy0zoz5rN/c6bcf3ivPJ31o//hzUXMp7tPFz2+W2Vcsv6Z8a/o+u8a97vAj+2f3dvyNEfrIHciPqE70IYwjVhy7hLuOzyA40HDTjNOepQunV2dAMHQypjNZEBmI/aQjzLYsDCyPWbPZTNgh9laOCE4hzhGuHG4d7g88ZbxmvF/4KvjN+D8KHBPUEBwT2ivML9wu4i2yLloipiTWKx4gvi5xVFJKskPKUWpGOlVGRGZENneHwY4vcjXyngp0Ch2KkUoCSoPKaSoKKpOq+Wraah/UyzTMNZY1z2rZa/3UbtBx18XqXtMj6xP1bxtEGvIb9hulGSsZz5qUmtrC7x03zaMspCzeWFZYeVizWj+1KbR1sCPZDdufcPB2FHZ853TZOdHF2JXBddSt2j3aw8CT1nPY69TOYG8F77Vdd30KfL38JPxWyN3+RwN8AxWDUEHDwfWUlBCnUOkwdNir8BsRJbvjI12jNKi80ajo+Zih2M64xviKhPw9qYnxSaHJ/nt37nNLcdrvkGqfZn/AId3poHvGzkMBmaFZ0dkpOZm5hXkVh+vym4/cKRgoHD/68TiqSKLYq+TIibula+WyJ/0qjp96eHq9UuFsQFXpub4aVK1WXXx9Y8P7C5IXQxrrLy1cUWnaf7W3maMlrLX7Bt/NlLbX7VYdbZ3yXee7pe5evm/wYPRhQi/f4/6+vAGnp6JDYPj9yJvRdy/BK5HJXVP1M+i5xPfgQ9Ui+bPuitp35/WSjfhv/Q+4UTAqABw/BMDG/zwOdQDkngdAbA8AbHDuaUcHgJM6QAiYAmi5C0AW2n/uDwhOPAmABHiAJFADZnB+GQbnlMWgEfSAKfADYoeUIUcoGjoOtUIv4ZxPGuGCSEU0IsaRDEgDZDzyAnIGztK8UGWoF3Am5oM+h/6AUcGkYp5gebDh2A4cCUfBdeI58bH4QYIioZiwTkOmeUyrTltLx06XS4+gT6L/yhDLsMKYyAQxZRNZiVUkNVI/cwgLluUcqzHrDFsmuxR7P0cMJwdnO5c/Nw33FR4PXiTvBT5POCMYEMgXtBViEnoqXCziKSogOiN2XjxaQkMSkuyRKpD2hFfnouzgjja5avlChX2KFCVHZQ0VPlVIdUKtTf2YRoimtha91ph2nU6Mrq4eTm9Av8ngqmGL0Q3jdpM7pj1mfebDFuOWs1ZL1mu2ODtWe1EHNUcrJ7JzskuJa7vbnAfJU98rcmel95APwVffL4nc6v81UC0oKbgzhBDqHFYVvrzbLLIiaiFaKyYndjxeKeHInqUk1+R7+7RT2lMt06bSszK0M0HWQM6lvPL8wgKzo8hjd4sKSgJKDculKwRPi1QqVdlUR9WW1T+6ABpVL9s0uV8Lbkm+fvzmlVuDHStdvN1m92IenH74pPdHn8zAzqeHh26PkEbJYxfG5ye5p9Sm9Wbl39K/ezZ/+OOOhc4ls0/dXxSWS1dWv9l/P7e6tK7xI+Xn7c3zYyv+RDj+EkAVmABXEAL2gWOgAXSDcfANIkFykA0UAR2BmqDnCICQgLP8NMRlxGs4j7dCpiM7kGsobdQBVC+aHR2IbsbgMd6YZiwjNgz7CCeNy8ct473w9wiyhGIaJE0UzSStM+1DOkO6dnot+ltwFvuA0Z5xHM5TfxGPkWRJj5kj4MyzldWXjYatlT2Qg5XjPuceLmmuSe5iHlteHG8X335+AwGMwGPBIiFfYVnhdZFe0QqxKHFjCS6JT5IPpc5Kp8h4ymrukJBjl8fLryssKE4pPVN+qHJT9bxaqfohDaqmp5ahtqQOo86y7qheu36jwWXDJqMW45smHabdZg/N+y2eWb6ymrVeslmzw9mzOog5qjtZO/u77HUtdbvuPurxw0twp4V3zK7TPn1+EFnFPyKgLnAmWJQSEnI5dDXcNKJo91yUFnVvdEcsKs4qvjhhJlE96XDy7D7jlNpU+rQ9B2bh86Q/0yLrfo5Zbu9hh/yJgpSjvMduFwWW0J9oLfM/Saq4d3pvpcrZT+cu18TWaTVgzg9dPHcp+YrXVZVm+pap61dvHrhl08F+e7Krrpt6T+sBtmf4Ud3j/X1eAzpPRYaYhh+MOD+ffpH4knn8yoTT5PpU7bT7LMNcz7vMecuPjAvPlk5/DllW+Yr41rdath70U3E7/kiAAbSbJ4A4UIFXgBsIBwfBKXATjML7XxCygGKhKmgYQYMwgnd+FxKHtEeeQn5CWaBq0Hg0Ff0K4wTvdhvsEI6M+44vIqgTpmlO0OrRjtEl0fPT9zDEM0oyTjGdIvqRJEhfme+zVLAmsXmy63FIcbJz0XAjuNd5VnnX+YEAFn4D5RGWFdEWdRALEt8vcULyGpx3L8oy7lCQc5Xfp1Cl2Ke0piKh6q5WqD6oyazlrl2ls6CnrZ9n8MpI0TjHZNJMy7zI4pOVnfUFW1q7MPuHjpJOOc7vXC3c6j3wnhSv+96iuw76TPsZkqsDkIH+QXcooiEZoXPhVhGNkSxRCdSJGKPYi/HsCfv2vE9yg/epSkpNKkfa4XTUweSMT5keWZezf+U65dUcXj3iWHDxKOEY5fi9YqmS3BMLZa7ltypETxXAZ7//2d5zmtU1tUx1ifUz5x0vtDWKXsq/vNLkffVes0zLkdbFG/Y3L94itAd2tHcSuwLuNN9F3bO7X/Zg6qHEI0pv9ePJPs5++4GDg1efvh4iDMs9cxihPj88WvfiztjQy5nxpVfrk9Br7BTmDWYaTK/OfJgdn3v8tvVd5fvM+YgP1h+lFrALrxZbl7I+eXyW+PzpS9ty2orRV8zX7m8p3zW/L62eW/NYJ6w3/yD/pPt55Zf7Rvy3vh1t3h+MAJzm2kADl5b/67vN1nelf+Qm/27B5u2yUTZul80WvmnA/wBds8/GhwsADwAAAFZlWElmTU0AKgAAAAgAAYdpAAQAAAABAAAAGgAAAAAAA5KGAAcAAAASAAAARKACAAQAAAABAAABv6ADAAQAAAABAAAA5AAAAABBU0NJSQAAAFNjcmVlbnNob3TrVejQAAAB1mlUWHRYTUw6Y29tLmFkb2JlLnhtcAAAAAAAPHg6eG1wbWV0YSB4bWxuczp4PSJhZG9iZTpuczptZXRhLyIgeDp4bXB0az0iWE1QIENvcmUgNi4wLjAiPgogICA8cmRmOlJERiB4bWxuczpyZGY9Imh0dHA6Ly93d3cudzMub3JnLzE5OTkvMDIvMjItcmRmLXN5bnRheC1ucyMiPgogICAgICA8cmRmOkRlc2NyaXB0aW9uIHJkZjphYm91dD0iIgogICAgICAgICAgICB4bWxuczpleGlmPSJodHRwOi8vbnMuYWRvYmUuY29tL2V4aWYvMS4wLyI+CiAgICAgICAgIDxleGlmOlBpeGVsWURpbWVuc2lvbj4yMjg8L2V4aWY6UGl4ZWxZRGltZW5zaW9uPgogICAgICAgICA8ZXhpZjpQaXhlbFhEaW1lbnNpb24+NDQ3PC9leGlmOlBpeGVsWERpbWVuc2lvbj4KICAgICAgICAgPGV4aWY6VXNlckNvbW1lbnQ+U2NyZWVuc2hvdDwvZXhpZjpVc2VyQ29tbWVudD4KICAgICAgPC9yZGY6RGVzY3JpcHRpb24+CiAgIDwvcmRmOlJERj4KPC94OnhtcG1ldGE+Cl4cqKwAAEAASURBVHgB7b0HfFXXlTW+1AsgEF0ggSQ6plcbDMY22I6Ne4lbnNhJHCd2Ek+SmXEyiZMpmcw/ieNxnO9L/omTOO6OjXHvBmMwmN6rKAIVUEEVNdS+tc7TI7KQQEjvwXtPe/84XL1bzj1n3bLu3mfvfcIaKTAxBAwBQ8AQMAS6EALhXaiv1lVDwBAwBAwBQ8AhYORnN4IhYAgYAoZAl0PAyK/LXXLrsCFgCBgChoCRn90DhoAhYAgYAl0OASO/LnfJrcOGgCFgCBgCRn52DxgChoAhYAh0OQSM/LrcJbcOGwKGgCFgCBj52T1gCBgChoAh0OUQMPLrcpfcOmwIGAKGgCEQ6SsIlCimeVG9YWFhrvrw8PATf/vqfFaPIWAIGAKGgCHQUQR8Rn6bN2/GK6+8glWrVuHIkSOoq6tD3759MX78eNxzzz0YO3Ys4uPjO9pOO84QMAQMAUPAEPAZAj4jv+LiYkjDmzp1Kvr06YOIiAjk5+djyZIl2L59Ox5++GHMmjULcXFxPmu8VWQIGAKGgCFgCHQEAZ+R36hRoxzpRUZGokePHo4IRYhDhw7Ff/zHf+DTTz/FsGHDkJqa2pF22jGGgCFgCBgChoDPEPAZ+Q0aNAgqzWXAgAFISEjAL37xC+Tl5eHYsWPNN9vfhoAhYAgYAobAOUHAZ+Tnbb13hiSN+ZWUlGDbtm1OCxw8eLAjQu9+tjQEDAFDwBAwBM4VAj4nPzm7ZGVlobS0FIcOHcLLL7+MESNGYM6cOZAm2JocPXoUhYWFqKmpcY4yIs6oqKjWdg3qdd4PA68XbFB3pkXjQ7lv6qr619Z10zaV48ePo1FPlAKIPI7OOvTciGbpbGAz6oDo6GjX9lO1v61t56bxvjnrqa6Zb85w7mpR3ySheN3q6+vdcFm/fv38CrDPye/dd9/Fb3/7W0d8armcX371q19h3Lhx7iFsrTcrV67E4sWLkZOTg9zcXBQVFYXk2GBDQ4Mjd72MQk3Ut9raWsTExIRa104Qm5dEWnZQfdfHW3Z+Nmp6kwi7k/nOdQSt3o0VjYjOb0TKwBT06d0HGo9vTfTR2VbfWts/WNaFar+Evz60dD3lZBhqIg74+c9/jttvv92vXQvjF4RPZ3L3an4isN27d+PJJ59EeXm5I8D58+eje/fuJ3VITC9tT0156qmnsHHjRjz66KMn7RfsK+T9KoKfPHlysHflpPbLxK3rPWPGjJD7Gq2srMT69etd31qSu+7Z/IJ83Hn3l7AiMQOYTVWr37lW+5ouTwkf7WVhmFk0HH9+/E9IT0s/6dro2VuzZo37OJWjWqiIPsTUr4kTJ7b6zgn2fq5btw7p6eno3bt3sHflpPZ/5zvfwVVXXYVrr732pG2+XNH6p2AnzqDYvl69ekEP1bRp0zB37lzccccdeO2115CSkuJCIVpWr7AIFYm+ZlRiY2Nb7hb0v9UnvTxDtW/SHtS3UDPFSLPz9q0l+RUUFODd99/DnoJ9wGUkm/4kPp8/VR289XuzLReGIeNvB/DBkg9w8/U3Q2PvzUXPqfoWavel3ifeaxaKz1so983LBc3vU3/87fPH1EteaqyC2uXtmZSUhOzsbGfO9EcnrE5D4FwgIK0vOycbf/n7X5E/+3hgEZ8A0fckzbBF1EafefN5TJk4xXlkh9rHybm49nbO4EfArwZjvRyqq6tRUVFxQqMLfsisB4aABwHnzbxrO3YWUuubyHWBaKyQ39gEYEfpAWzfswNyLjMxBAwBHxpoFMQuE4ps0BrXE/HJCUB2dw1gXnjhhU4DNNANgVBBIPPQQSxduwzlaTR39gwAJ5fWgNXwY0IYqlIbsGLrSkwaN9GlHWxtV1tnCHQlBHxm9ly2bJnz8JSZ0ztwLvLTwOyECRNw5ZVXYsiQIV0JW+trCCMgh4q9+/bi463LOa6mmALPmHXAdvm8BixftRqX7r4Y06ZMC8lQooDF3hoWkAj4jPxEcPJmVIJrmYM0aKmxvssuuwy33nqrC11o6SwQkIhYowyBdiCgONbMrEwcqMgD0vkYScMKZEmLQNbHBcg8lOnG3tuKuQ3kLljbDAFfIuAz8lu4cCFUTAyBroDA4cOHkV2UAyQzrjGKml+gSyTZeVAMjhzLc85nRn6BfsGsff5GwK8OL/5uvNVvCJwrBA7nHca+o5lA39pz1YQzP2/icWSWZSMnl6RtYgh0cQSM/Lr4DWDd7xgCuUdIfoUHGdDu0xwRHWtMe4/qCxwozcahnKz2HmH7GQIhi4CRX8heWuuYPxE4WniUWhTH+/r68BGqZ6xgbSVzcjJLjD+kTxj2VRa4sXl/VG91GgLBhIDPxvyCqdPW1o4hoEwncvTQeFeuK3lQhpNjx8pRwaK/32Fu18ioaPTslYiBA/pjUNJAliT079//hBdwx84eWEdVVVahuqYC6K5Aug5KfR3G1JVj5vE6jKL1NImlG4cPF/eowHPdqKaF+diLplsYGusqUXmMBGtiCHRxBIz8uvgNcLruK15T8zBqho7dGXtx4EAmcgpLcSCvmKUEh4vKUVJVzRjPBjRw3/D1RxAVGYE+3eOR0jcBaQMTMbR/L6QM6ONyS44aNcKRYbB7/jYwppWdprPLGZBfg46pxgISUDqJLpkK3vAaYHwVMJolgpslpYyaeC6WGyJ9HDWvpvIDpp55dE0Mga6OgJFfV78DTtH/oqJil75r1+4MfLpuE95buREH84sR0W8oKroPBHqMAcZwmqr4XnxRc6YKZpiv5wu+vrYGOeUFyKFZcE1GHmLX7UNM1VEMH9wf18ybiamTxmM4k/IOGpSEbt26naIFgbtJHwWc6OjUszc0Uo1rqMVgEt4ImjTTyDkTq4GZVLzGsXSnldOFSHidRaXosfQnMU6nRrjW1+TnFEm2OYiGKQP3DrCWBTsCRn7BfgX90H5l6ikqLsZHHy3F315chM+2ZaCm1xBUDZ0NTB1PFUUqRBsmOU2xEsPtMZy9o2+appRDJUmgsqoUaw9txK5n3kLkH/+GG6+4GLfdfAOmTJ6EHswIdLaS2foKLjeVjPoqJerEDFVkFWpWaKQK11iHC+oqMI9kN5fW0QvLSHbaV8TjLd7GNJFeNZ/GGv5dxWrbQNd7RMeW0izDwhEe4cNxyo61xI4yBM45AkZ+5/wSBFYDNK6nMb0f/uRnWLZmIw73m4S6eQ8yRZZ3IuIOvJb5wnXa4eiLUc6Cwkw8t+o1rFj1EO68+Trc+7V74O+JK32NckQUH51wknwNmSy6CZO6any56hgWlpPsjgEDabl0oi8AEV5L0WFNPLSNCvC7CcCrXH4aQ01adfta1NawSH672GPva2itvuBDwJ6C4LtmfmuxnFneeutt/OYxTkYclYyCiZxMsncqX+7xPGcHSO9zLW12fO9kVJ5/F/bkbsUfXluGDRs24Fv33YtLL730c0cE8o8+vXthekIikvP24RJqd3NIdjJXxpHoEqhhhUvLaqnhNRFdA5f74khyVI6XEdoPYqKRE071kcREtcxpZ37pe1Ej+sX1Qd9+ffxSvVVqCAQTAkZ+wXS1/NjWbE6y+8riV2nmfAWbe5+P+gGjmaw5iQ4dcrpoRly+aIO0mvhENCRPRnZ8b1QX7kDV4/8XxSTfqzmJZaA6w4RVlwKaty9nNW6qeQEzU/Yhlo4q8tLsKZOmNDyJV8trptkdJtmtpla3kcsMdj+TT96qCP6IIL7hZ+kxLGQmtoRBGDwo2dNO+98Q6MIInKWnrgsjHARdP5CZidfefBvPvP4hNnTn3DxpM6nC9CTnUQvxm5AZYmnnGzAKhRwfXJm7Acf/8hS9+8Mx/5KL0bMnz38uRQ4tx2m/LMlEfO5mjNn/FqJJHqjOAYpWoE8x0EcKsTQ8FYnIronwCqnI7SS37SC3HSTZ5bBsiwzHhkiqexHS8rTjWZaiSKQlJCPFyO8sA2+nC0QEjPwC8aqcxTZpfO+99z/EC+9+gg1hKcCIuT4yc7azEyKCxBSURsZg5Z6PEPnU8+jGSZAvOH+mbwlQnpfluSSuvczKMpYBdf1PbiDH7FBOcive70gPZVmMO+Df+UvRP5vHiuTEWazKFa9Zk98IVexGhoiOqT6P8KkS4W3jutdkMo5kORdk17yHanN+A2dyH4TkZNP8mkNjf3dNBIz8uuZ1d72uqanBJ8uX4+X3P8HaygQ0jruYxEfb3NkWmf3oUFM19gtYuuZ59Pn7YiT26oUpUyZ3fuodaXC1HJDL38HcXh8A2R8DM/4FGDLXQ0jVRQCTPePYYUAzNBTuAnK5z+HVXEcgRHBeshPxeQthqqa5cwcPz6cCe4jDaGuo6b3N8bvDUdTu/Ko1sx1nKkUN6F4Zi+S+g2FJrc8UPNs/FBEw8gvFq9rOPu3Zk4FX3/kIyw7XoWHCpSQ+vrTPlYgsuvXG8ak3YfHyP2HMyE+QxDjAISnURjsqjLFDJW2VOWuBDY8Bu5Z4iIwerM6bUiEJBdvAuX44CPcatTyeSOQmDU+Ep7+9oielB4tMnTFsU99ZyCzpiT8f3oz/e3Q3I9Wp6jXf33tcoCx3NmDigBEYMWx40MZWBgqU1o7QQMDILzSu4xn3QlrfX556BisyS1E3ZLojnjOuxOcH0A0yIQlVw+fg2XeWY/DAAbjz9ls7pv0pT6bMlttfAFb8mFodG1vHIo/LDY8Aa1kUiiDNTmSnIvESmPaj2dIbw1fH2MXIqawnfYHHbBrbEz3oJDSs8u+Ie+YXqJrDfQP1aSKRR2yLxBUL5+O8MeexoSaGgCEQqI+rXRk/I/DOO+9i7ZadyFGWliSWQJJhs3Bo7QEsWbEKo0cOxwUXXHBmrVMasf00ca77DbCH2p6X5FSLNLqSFtWJACVUPh05ivg0JDjs23T+WYCanmOwbvteTJ92AaLjaO9sMmkOHDgQU8ZPQVxxGKoO8ZwpPJAKYECJSD2bJs+SCEwYMx4pndGkA6pj1hhDoHMIGPl1Dr+gPFoZXP72zLPYjkFoHEDiO1uu9u1Fi6nSKtNm4+OM5RjBLDMzZ85k5jQxUjtETi2rH6X3ya+Bo9y/OfF5D29JdtL2erOk3kkCm0uT5miaN8l+MT1YEpShDHUROWhUurFmWCkrTerQofjK9V/C42/+DbU8HIksXu2Rf55e2BiSdV/m+5xSX4PuJOfXGV5S50zQZ1TRyadSP+nDg7cacceCWzBy+Migy6RzcqdsjSHgGwSM/HyDY9DUUltbi82bNyPzSBFKkjj21b0v297Jl6zPe8/29BmCgsM9kXEwGxkZGRg1atSpz1LLgLvMpcCWP1Lr4/gdoxScmdNLdM2PFo9SgcPgKSS8hSS+kcRhAEuSxwtUGVZcCjfPQZoJoS0ZOGAgvnjDLfhw+UfYsi2PyTtpW20epeHyex7HyLoqDOMsDsnUxAZzF8UG9uXfPVhiSHhRbGcslzFcjkmsxs8j4z5HtG2d/5Tr1exNYRjbMBg3LrzetL5TgmUbuxoCRn5d7IpXV9fgpVcWoyBmIN+81G4UahCIEhWHmsQh2FV4AB9/sqJt8pPTSmnT2F7Gc4wx2Nq6tteyj3JcSbuaZHU3CY9YMNTijIXnjg2vw7jkBDx49UV4f/2ziDlSiP5sEp0/XaaXeBJaLAmtG9f1ZOmtQuLT3/EkQWeGbX5i8v5otU1jls20zOa7tOtvngO5jUjcEIWv3XoPJo6byBASMb6JIWAICAEjvy50H7iE1UVFjOv7CDlDr+AbWba+AJbeqdh3KAerPlvtHF9anQFCoQwKUdjxf2jmzPbc0dLsSDonCnc5EbIgJdf7O5Y2yp5DuaINaZpcNvJYAXpUHkRULituoDpVQ7fQ4/SgqWU5fgzx1cW4a+hhjMgoRHdqnAN47t48RwwJzrVB5/SK99ze31o2386f0gKTmBibwRcdE52XxBexoxvmD5npNNNeDB0xMQQMgX8gYOT3DyxC/i95eO4/cIDz8TE9yYRkvp0DXBPo0RfFUb2QdWQnsrKyMHo0x+JOCBmihoF4x454ypDrOV7Ht74C1TmFEDh+5inUoBr4d0PTUuQjRoqh1hvNMb1qer/oGJolHaHJxCkTah2PEblVFSG6NAdDctYjvJSqWsUOepFmerxHuYsjUjrKRLDeC1ml+631XvGSrX7r3Potcmap5HHHuCzjU1jJZS231bNs59DiYeX67IiI+I7wRLu64fLj4/CtB77pJhIOtlkzOtJ1O8YQOBMEjPzOBK0g37eiogLbduxEWL90vvxlW+MbN5DFxf4loqIqATt37mwiP77Ya0lQVSTwI5uBvW+QwOjZMu9/qG4N+0dvZA6V16e8VepZnNcKCdBpayQ1EZ7q2f++J6tL6UF6ge5hdpflZCOSKndxY4YkKEnfNkyUbqO0TK94IeX+OqSS1lRNVSRSC1fTub2Yv/PoFZrFkkmOO8jfe/n3pxG8JhE8QMmtW6qD3vpPtRTxFfIkG2NxWeUY3HPnPZg3b96pjrBthkCXRcDIrwtd+oqKSmzZsQvF3QfxBdtBzeJs40Wvx8Jjcdixcxeuv44sU0cCO7CE6VR+QeZYRTZhg/qxFNwBcM5BRxqaU6+GGp08P0sPsWSScfaSGDZ5yI1WS+cFysUJ/hdTiTxaSst1JLETIo7SEyTC037kHVBrq+PfW6mQrmdT9w9jczkAuJXTHm2PZCoYJfX2R6oznbuQ/X4HuCzmPHzznm/gumuu40oTQ8AQaA0BI7/WUAnRdRWVldi8fTfqes74nDdjQHeXya+Lw+Kxc/MaMsizDE7/CTU0amlUzhyBiYxEZiu5fsNvqbWtp7pV5iEjbRMpiCBJRG78zUtSWn8q0bEiNxXtK3LU0yJLcU+aS3vPZVjDKHq1pLIk03loMJOB03OWjjOR1NoiqWHvfP5ZPPPsy8i/gAfOJkOGs1J/EJ/6tKoBESvrccukK/HVO+7BrAtmcaWJIWAItIWAkV9byITg+urqKmRmHgQuuoEvaWogvpSwGowPL8LWhv6slS/6RrFHJyWsHhO6V+DaoYfwxcZXOfkdC7OVnQhhECmp0HqJQ9s8lkKvBqf13iZ49+OqEyJSk8amfagwucLoAnRnSaC61nMcl2n8PYgeKInYlVWEUROmIiyOO8gzVKEIrlDV029NTdRstob08T1xd48BGDp2Mv64+M/YnkktdDYbMpT1c1efiAg9m3V+zPCIsMG4+ytfwoK58zEsfRji4tQZE0PAEGgLASO/tpAJwfX1tMeVl1FNiqP5zYeJl8dGHMHNEatwSdinKAlLRB7To3zcMAlL60fgcAOD3s6UCMPqMCfyEBZEbMKMxg0YFb0GqSIwmhIdSbW8NiIvDuGdEBGayE1LHaftutPFB9Lcuo+hpjacS2prCmaPS/Q4v2j2hSju0BTc7hximOi7ui4cBRU7kZYyi3MNto+55Jk6etRo9OnTBylJyXj/4w/wxuoPkbOZ+A9hg1JZ+rGRaueZiPpylP9lsnMHw9G3vBuuGTkfl89bgAtmXgDFHUZF+fjD5kzaZ/saAkGCgJFfkFwoXzSzkQHXdbVUF5hBxWfmt9oyEtRWfDXi987ZUoRTxzIpfB0uC5+Ig0jC3oZBWFufhl0NHPxqh1Z4c9RW3BjxMeY1vOPCBhyJicj04m9LRCK0RrrE0/EjSHJUseJIbDEkX82yIFKTd6eITubJOIZ5xPbybGeeTredcwm2Jg00Fze4jwU1ov0SGRmJpIFJWPiFhRiaPBRjV43B7oN7sLFgO1Z/th/18fSq6c2G96C6yu8RJLB+XhpENJ2ngcwt7a6MS1pyUc7HtYg2zsp4zIhOxZSh4zEyZThmXzAbEyZMQGxs+4iZNZkYAl0eASO/LnYLNEoVOrN3+CkRGni8AKPqtiBFykZTvZE8xfS6A5gedsAR4faw/lgVdQl2Nw6hF34idjcMxOaG3mhopLmw8WTCGRhWjF6NpShlfcpq1pukFyHiE8HpHKzfFS5OCKvC9H8lkXD8TZla4ukFE0+yFdGJ5DoSxH6i8s79IU1sypQpmDRpEg4w1GTV6lWYvnE9svKzUVp0DDlFhchAMeojj7GPHKAMa2J5YVPPR7SuG0Yy/9pghs73quuBwUmDMGXiZMw+fzaGDx/e/tRvneuGHW0IhBQCRn4hdTlP0xk6W0RyrK++jppGtBik8ywYH1GP8AbWJ6cSaS1eaUaEExvyMREvuNNl8X3+QeSNWN04Fgc4PnikMQEHG3pQuaFNstFjA3yidiY2hadiTMQlmIQ9mFH/Bs47XoVYjcepXjl4SLy8qa5I6bnwx00aXOf7pep9LcpPOmzYMFduuO4G5OTkYE/GHuzZm4FdGbuQnZWNymOVjMwgnuxTRFQEYrvFYXDyYIweMRqjmJtzxIgRbjLa7t0FhokhYAh0FAEjv44iF4THKdA5jimuampobhOTSK3qpOyPHYGlNedjRuFHmCdfl9buqGZclEKl5p7GRbgHi1DC06+ImIN3Gi/EyvqRnHygB4o4LUI1WW1bQz8UkxCraG7sXpeDwTWfYqDG67yiOqVtqgvkCifyAu1GTS+MjWh2zqatzRan3Ni0X9M+XITXVCG6rhzhzOQCaatOTlXHP45t2rnZwrMtnjw/YsgAV666dE7Tdm7TZsX6BWrauWY9sT8NgWBGoLVXVTD3x9p+CgTkrJEyZChKSrJpGuSYV2dyR544TxjerTsPZce/jl9m/wmzh3DD6Ti1iRt6UbtZWL8cC7HcBX/viOyDJbiKXBaOGdiAiQ1baP5kfdIoxTlN1kD+5SE+aXtyYvEojJwO4UqSB3+48Tk2wo3h6Xfzvx27NK3T39rGpQtBaDrWtU+d8GyLZbD8eJomowppTlXCa1dvU53ub+/xWnrXN/3t2MxTj+c83vY02+7OrX24TR6kaZcCyRd4zsVWmBgChoDvETDy8z2mAVtjt27xmHjeKGw/kI2GpNEkEDGHDyQ+EasqxuKhLan4W3wm0smrrWqApziV8llObDiKMXjK7eUsqCI+CXniJJG2xyEyl4nFuz3s0Em7nbTCu+9JG5qtaGWf7jK1Fm707NTK9mZHt97e5juc6njyH5RirVcqwy30JWFiCBgC/kDAyM8fqAZond3i4zFh7Ci8s+VDHFXKL18JNZZGBnlvSLoKD674P3h8LsPZ6GNyEgGKzE714uf25sOGp2ye6vKO/Z1yRx9u9CFkbbZKT+RxunYqHZuJIWAI+A0BIz+/QRt4FSv2bPzYMQgvfIIvWCZv7nY6NjqDPsR0R+Wgyfhoxxg8whnivz+BBCgNkNa8E3Iq4juxUzv/UF0yhUp51difV9Qlr3j/9i7bu177eY/RUkVc5D2PdxtXfU68+zZf2Xzf5n9792m+Tn/ridR8glGMOTQxBAwBvyFg5Oc3aAOvYsWBDR8+DH3iI1FQfoTkx1CAaB+9ZDV+2L0fKkcuwPOb8zEg+ijuHgsMYljdKbW9zsIkco0lE/a+nGUM28CMLN6JaDXdkYpmbsj9hOnI2KCEFBKybnsv62gfNUL/6W/3o+nvpvWMjczNOoRBKUNJTrRLNt9Hu3jr0sS1J362Uo93P7ePtjft4xZNv9W2oRd74g9dZfafIWAI+AMBIz9/oBqgdSroun+/fpg7ZzaKMvYiP4FE4SvyU58VSzdyLutegb/uqUBCVDXuJB8lKvhcmpre71p6pbXf3m3N9/Oua77UsQoAl+mzjj96MHOKNKYEjpMpzq8HSze6n8prMm8L04AtoZZIsh9Cm2z/cdzX26jmlbb+dyWD3DPC16LP+eczw4vUTRNDwBAIdgSM/IL9Cp5h+6X93f7Fm/HZj/4T+ZykFT0HkpDkZeEDkacjU6c1jJqL/RuK8LddmehOU+Ed9K1xHNuSAL2/dWr93ZzwRG5eaW46bb5eipYKeQ9lq4AMFm1nlzDs2yS6eWwPba9ZK4DdTeUwl1Me9HhTapubPoj7mxgChkCXQsDIr0tdbpJQdDRmz56N3gw0iyrJQm0izYAyf/pSRs9D2P7VWM9kzs/tPo4BjM+7chhP4L3bvATmJTzv7+Zt0DYRm8S7n0hQXp6t7a910gQlWSyHHyexsYjXNVYnDVH77FxKEyjLBf8DjL+LWiK1Q1+RP6s3MQQMgeBAoPk3dXC02FrZaQRk/vzKnXdiYt1BJoveyfq8LNPpqj0VMISiYdQ8hA8YgeW5EfgDrY7bC5tO4yUyLb3S7O+yZn87ZxndoSItiZopq6MIrfl+/HmSiOzkpKKE1+Us3jpEnoxVx9KHmGqG2mHuev4wMQQMga6GgJFfV7viTf1duPBKTB2TjqSy/RwTy/AxCmSmoZPR2DeVylg0VuQAP/+MOZkVl+clIf4pLmv207UhgSsKSVoFJC3nPyKi007aWUXaXWsHcvXnRMc0L96NWidiZJIb7FwEfPgNzhH4O2qUNVyhjSaGgCHQFRDwGqI63dcdO3Zgw4YN2LNnD/Lz81HH/JH96FwxceJELFiwAImJiZaAt9Mo+64CTbVz+y034vAfnsRbWRtRn8CBsjjObuAr4dhf49CpiCjORUnOVizJqsO/rwZ+eRGVt6ZgPn15lZAna1n6idCaJJG/G2Op3KUOk52WU/dQOxU3SXzFT6pHBJi5iWOG1ACzPgYGz+IYaJrHMUYzPWhGCJawBjGwiSFgCIQSAj4jv/fff9+RXyPdwDWRppL4Hjx4EKtXr+YEqpm44447kJKSEkrYBX1fpk2dgqvm7cKR15dizQGqZiPmcnxMgXO+EFLboDGoL9iPsPy9KKwqx9/3hGNIzwbcN57DjE2nUbrOLJa88ASMayhz5BYhVhTfHN9HMpoPjBvJaXyOAHvJnm2N+XH3MxYRoMyirBoF1AKzWHqMIuENIOkyRkPeo9HdEdcYidF5BbS4LiMxal0Pz0wRjhz5N/dx0yZpyfn/EM5BRpey7IxbZAcYAobAWULAZ+SnAOrJkycjPT0dQ4YMgZIoZ2Rk4IknnsBf//pXnHfeeW5iz3hmGTEJDAR0LRbMvxTFpWWofG8lth3ktUmd7glZOO2gWjv60I3elCTAsNwdqD+0CQXHGvDY+ggM6F2P64eQAKnUKa0ZU1Fzvr8kFOWVYTZ5J0J3pTRBkVLjh8DwexmeMIUxEySmvE/ozJIJVGkbS2tC7nHkKfOmxv1OJ6pHpKrz5e1mvSzUPt2Yo7axDNBvsXQMi4g7LpVTJqlQY46lw5AjShEhyS8y1oOhZndXsLqbS1AEyQPdhLlaqnB7s9nfWauJIWAInCUEfEZ+t912m/MklDehVzTXmEjwvvvuw/bt2x05Gvl50QmMZVpaGq69+ipUVlWh5t3lyFCsXtJYvsT50nZJmzvTTjIGnV4ahl1A7W8f6qvKkMWJWX+7bRB6JeTiin58/3MXjfNNqdmNJwqY33PaDPQ8vsYzeavG9/JYKv9IrfR6YOq3mfT5CwxbeIkE+IrHcaU1EhT5kYfcNEcRJKdGsmAlK5fjizS9JkLjXyeLtkm0FHl6Rb+ZctMVOcwgk/iwSEOVpirxHqPfegzIbW5y3W7j6VWazr+TWNhpxRvGUrP0TqIrAhTjuyUPUnyi9rEwDAJoYgj4BwGfkV9r84vJq3Do0KGcQy4SFRUVOH5cbzOTQENg9KhR+PKdt/Pl3YC/vvAyshpJNP1H8gXMMS/3Apba00GRmXDAcIT1H4ZGan86x9qMAvx1yAz06LEDF8XSC4bVJ1IR+mcqnbjsp/TAXE2Ce4yaWKlnrI/WUGxdDOSwXPkOsOC33OdOYMufgQNvebRA3VoiH4kIjkonxv4HSXOhR8s6so4OLs+SNN/1EJjGEKUV6hjvcfyzTREE3qdF+0sz1VIaY0t4tE5FZFnEgq2eouNFjNpfx4pctfRqk1Qa0eMCYMI3gFHXkhyJnYkhYAj4BQE9in6TmpoaN+an5eDBg5GQkOC3c1nFnUMgnRrgdx+4Hz/8zn3o/9mfEL2e2lVJDivV27mT0jcVDROosTl7Juuqr8Or63Lx7M7+2F6h3031i4zeuIpmTu576QsMVJ/tIQs1QeSWz/Ict+15HUiZBVz3InAjyVBjldLAvCJiymX54GHgpSnc/1Xuw3pvJlHeexS4+jnPMSIbEVJL8uKqk0T7DKH2ljqaZM6/dStTYXNkpjpEYCpa17wt/HlCRIjqh4hXS/VbbZX2KpKUWXX3KhL6e3TCOcQfJoaAIeAvBMLooOKDt9vJzZOWJw/QW2+91Xl6Pvroo5g+fbozg7bc++2338abb76J3NxcV0SUDz30UMvdgv63PgKqq6vRsyc1qgCU+vp6lJcfw759+/DCa29hR04xjg6aCqRTG+mukbmOCt/wRdkIX/YEGg5u4EufLEdz+NCBffDt84Hvjc9DmAhBQuJoTBqJvakPkBM4izm1vT5Zb3s0Kc8ezqR5LPlGZA+8BmWxyYioPorupXuQmvUoYopJbiIZ3dUiLBFRHAuJrmDw95Dbbx5qwmIRdrwC0VV56FW2DQMLXkRMYYFnf682xkM+J6qLxFY6aAFyBlyJitgknkOz2DOYo/YYourKEFNbgujjxSx0jqk5jNiabYiuofonUldR3arHW9RGFRGgV/g5WjrsGmSmfQXV8YO8a/221ONfXFzsPkxloQkVaWho4LyVJSHXL+/1Ud80hNR8mMm7LdiXjz32GL74xS/i2mtp/fCj+OVu10t0586d+OUvf4nS0lL8+Mc/xsiRI1slPvVt6tSpTjMUMbz11luOALV/qElRUREKCgocFoHaN70MJ02aiJnMY/nJipV49cMV2LT6r6jqmYzaQROYOozXxSWG1hv8DIRjiQ3UAHGI5Kc3PrW/ipp6VA69FmEXpXBK9595zIQkiLCCPUjvtRTV47+KqPH/xVCHC4E1P/KM8YlAysnFBxdhBAmmesxXUDtpITluFqKqLwOObqM59P9nLs/VnlAGESEtqwpr6Ff1GyQefgnHR30dtcOupCfp+YiqX4Co41/iPtRyl9zgGWMUUbUUkRS1tZ6FH9BTNQZVQ+5B3ZA5bGwYwhs5/W4DS2MtlyxNywgSI1S43RWR/nE2vprm3KpiLknUVVRnKw7z/Hu5ZCER9kybjrTzpqE+ik4yfhY9qxqP1/CEnNZCRRRqtW3bNqSlpTnv81Dpl7cfUiykJATqh7S3nR1Zni2/EJ+Tn764tmzZ4jw8t27digcffBCXXnrpKS/SgAEDoCLRg6gvUcUFhprU1ta6j4Fg6Ju7Jv37Y+zokdi2cxc27c7Ep7tWIWfvCjQmJqE2vg+1qaYSy5e0m+GchKjI9Dq+5CtL+DLny73yKKKZQzSWy6T4BnSfPBF7du1yY8BVdLLJLKrDnsiJGDnzn4Dlj3q0NvJFRO5idBs4gmT7ZaYhu5Pn6kdS+x1Ngps9JkOaCiPyVqJbJMkkktrVBO7TbzoLj0mkeTJ3DUMjXiFxfuYZA2wizciKLESGP8y2kSSHzvfMmt5vKskn2VMvm9+miABJopG5b6JHFBsZzTKSY4ry5myPCJt6qri1HJSsYwdq2W4tj3MpUqxl5XLO6TsGCb0H8SOjLftpe07Wvn1EftL4NCQRSsMSeta8/WrNH6F96ATuXlFRUe56BcO75ExRVN/OhviU/ER8Irznn38ea9euxVVXXYUvf/nLLthdXp8mwYVAcvJgfl0OwvRpU7GThDVtwyZnEj1a1YDcskLkluYi/0gDymsbPcN2Igfynzw4E6PDMLBbJAb1jMLA5O4Y2LO/+wqPiYrAL37xC+zfv9+ZgNesW4+3zxuDkXfcRY2O41xbFnlIiIoRdvyS42j0XJnAbWO/6PGU7PEMx8Ve9nhukitwYCv/fpDHlAHn3cYZ0IeS1C4iCY5lGcdQi6XUAj/kfhs9xCoSzGUp+DsdalgKvs19ZrDBwz3jd3S2PDEWJyJUn7xLr7IrTTLjfZ6ziJ3lAXJOaY/Ie9aFOMgOG3ofd+2BwPYxBAIFAZ+Rn8xlyu7ywgsvYOXKlW58TyEOAwcODJS+Wjs6gEAYzXq9e/fG7FmzcP7MmZDp9sCBA8hkAoP9mQeRk5OL0pJiVNGbt6S0hFMm9UdkdAz69uuLoUNSkEZzWmrqUJfgQCYajXsuXbrUafdHjx51saAfLVuBL3zhCxg168fUwEiAmWs92hqtgYj8KUmvD4ntVmpZ13jm41NM3a4n6JDD7TJRHmFZ/jAdSUiAo2m67D/eQ5RynBGxZdM82fN5Et1yEl/2PxxO+CfyHwdYPUaRQLunecI8YpqIqXgLc62xxFDhCxtPRZf3cjgZ0Glw1N4UCF9Oc6mJIWAIBB0CPiO/I0eO4Omnn8Z7772HcePGOY2vb9++OHZMn8m0DFGVVVHmF5PgREDau1LWqcyYQVJpJhqA1zjv+RwrFGG2JZpS6U4m1VbWn88++8ylwVMyhEWvvYl/+cH3EDn7v0ho36Tn436PBphFM2HYAx7SS7uU5DQFmPsfJLf+wLb/9nhJchc3rrfs1xwX3AVMvp/7TeVNR61MZsR+5wHTvkuNMYWESW2yjvtLA5RGp2OdJvi/3I9/n8dzaSxP9e97B9j4c5LpldgWezkmz7oY0ZrMtp7E53KBcn9ldTExBAyBoEPAZ+T35JNP4sUXX3Sa3qRJk1BYWOiKF5FBgwa5QfVQGlfw9s2WZ4bAJZdcgkWLFjmHBGmSe/fuxcsvv4y77roLg9LmI7z0X0mA9zGujzZHEVU2Ger9K4Bb91KDG0pvzyTgwh8zlm8EHWF+yNg9qn4cOnP7bn2T2hzL1Ee4fSQ1tx0ktxWs4w06w3Af8bJMmRLd/foW49CdK1Li8r7Puf7iSZ43MdB+H0k4m5rlH5GaXIHIhguoBQ5gHQnc0cQQMASCGQGfkd/GjRuRl5fnvujXr19/kmfn7bffjvvvv98lug5mwKztnUdAGqRyvR4+fBjvvvuu0/507zz++ON4+OGH0W3Cl6nJ0eZZ9TMPYUlLy2dZdAlwy6ckPzqDSKvTGF8iCW7tb6ihLfJoczKDSpMTiXnvbpGbCE+anlfIb+jfh5obTZn7t3u2absj20oS6lOedfrNOgdkPstYdZpTJ7Jt3XmMiSFgCAQ1At7XQ6c7obAGhTTI6aU10biRzGUmhoAQmDJlikt3t2bNGshkLkvBq6++ii996UsuFCR60tc8Y3jrSGyynIvADh8CPv4Rtb6fUqsbRnLjYFzSZDrE3EPPTpKfxgAlugW9RKbfIr6WIpIspCrYyKJ9m1tqRXgiXIn3WJ1/5UOec465mWbYwW6z/WcIGALBiYDPyC81NTU4EbBWnxMEFFOmqa52797tTKByTc/JycFf/vIXfO9730MyvUwhDVBenGuf8IzNcagNu572eGaO/xI9O9OoAdJzMnkmsPB5bnuR44Cvepxl1CsvcbXWQy/BeffxLr37tvZb5LrqnzgW+DrbMJoaIM2vysOp8UGXq5MOMErn5pJcM/zBxUN6K7SlIWAIBBICPiO/QOqUtSU4EBg/fjzmzJnjHF8OHTrkQh+U6Wf27NlYzS7k0zNzXMIQzBl/Pc2aiz3aGLkQm39KkulLz06uFwHF9aYnKMMNeqXTu3MOCfARmj5p+xRZtibS8sKbikjOqym2tm/zddovj+XoUhIcC3nXJa+O5dhjHNsh78+oHtQOaZJVSIOIWYHq0RwjjBMxsp1uGiT+1roY7iuHmQhqsKdwEmreBPvbEDAEfIOAkZ9vcLRaOoCAnJ+U8u6iiy7Cs88+68b+5AX6zDPPuJAKmUNvvvYLmPP1+2j6PMgcnRs8BHiYJ9vyWw+RKMhchCKiGTyDg3OTPGOCu/7OkAkSZhH3FcE1F5EfeciNCcqkSgdON/uCyLKMRVrhqUTbVSqadgrLYB0sqtdLptqkpyuahVzo6o+fyGUyf9P8r3CKGJEgyc+RpQiTA5H63WcUNcs01qmDTQwBQ8AfCBj5+QNVq7PdCIwZMwbz58/H66+/7nIxyvwp7U9xowqLOXy0HCWcYLbXBf9OYrqasXqsWsSzfzeJ4vcebSp1HkmHalnxfo836FiOyfUdTU2Q44Lbf+1xlhEpeUlQJNVjCAmTBFS9mX/z9+h/43YO9B16h+fhOhFhDYvG+rzjf/zTibce728ttY/q9Yr20bEqIlgnrDeCRVqn9pUmqSIRQaqQ+zCZbXZZbehZamIIGAJ+QcDIzy+wWqXtQUCptRQHqiToiglVHliRnvIySpSeStuzCsrQa+RcOrr8GVj21X94gO6m52f4L0liHF9T2rC1jwDT6eU5mGOAA6kByitT44Kf3u/RAGtZqUhJRFVwiATEQsdOp/klpHCM8U4S6B0ky63cvo0OMSSq4rXU8PI9oRRSxERmqkdN9BIXrZZulgeRmrd+7aOic6loX23T0nsc/zwhaodKKcvgTfz7Co4nGvmdwMf+MAR8jICRn48Bteraj4ByuP7pT3/CI4884jK/tPQU1m/FAWZlZUHjg5j0ZRLfDo75keSKeR6Ryp6PGYt3kYdoHJFRfUpI9pgURX6T7vEEub85z6M1irxEQl6TpYhIptEP7wNS53k0xv7juKJJSMY15UXYvuJNTElm3WV7GfdHQsx/zdMG1ZU+D7j+FRJWIeulTfbYEWZ+4bIsi2S2h4VEWnbAQ6A6v0SmVonO7yVS1SUCdSZRmnJNDAFDwG8IGPn5DVqr+HQIKN5P2p20vdYmOpYGeJixgMoD6iSMjDH7RyQXEsvO5zzmxObalchjF0lpCjW9PiOp2XF/hUNIE/ziTqZA+ym3cyxQZsjm2peOq2JZ9hPgEmqSvVL5o0noiNLAMbmK+BQcT5+C6KgreSxPqqIsL7U8UFmLNCu7HFh6DeE2srLMsG5JZvP+1jodU13C84koqVFW5JEoc0mOB1nYxjqyujLSaCZ3E0PAEPAbAkZ+foPWKj4dAj169MANN9zgiE8B7jJ7ek2eOlakqPyfJ8hPK+U1OYsEWF3AxNcfeDQ+kZeKRGSYu87NjOA0QA2uyaFEMz2c/6/MGkPy82p97gD+p2N13O6XOJHu1R4Sa0Y+jayjgUTaKKeaGJKpV9g+R3JiUiWtVpGXi1er8+7XfKljRJya3kjTHdU3FZGiTLciSIVPiLRNDAFDwG8IGPn5DVqr+HQISOtLT0/Hbbfd5vK+/u53v3NkJ6cXEZ9EhKhJjvXb5QzV+uJ9NDEe+gfheXb1nE4mxIznPdqezJ9e4Xx7LlenTKPN9z+xnX9II1z773SAGcyZIeZSozvN46HwBGmXp2Q77wmaljpGXpzOk7Nbi4320xAwBM4WAvpUNTEEzhkCSnY+bNgwl+z6gQceQGpqKpT82pscW+ZQEWB5ebmnjdKUFMyet5uaUyvN1rpcOqwc5XbNl+cVaVTeGRjEV63d+Tr2EIl1z6scB8zwHmlLQ8AQCEEETvNpG4I9ti4FHAIa+0tOTsa3vvUt1zYludZMD5WVlY4ENQ2Ssr94kqJTbes2yBMSQB503pctSVDjd3kbmO5srmf8TLVK0xp1vcecWExiPPouCY51efnRW4c0x92Pc8xwjEcDVCyeiSFgCIQcAkZ+IXdJg7NDiunr1asXfvCDHyA6OhovvfSSmyJJxCcS1LifYgJd5pRZ/+JxStlN82Yuwx3oP+JMmV5zppaHngBS5nDsbyxNk02mxvQFAGeNQMkBeoiuYBD8hyTJj+l8kuWpg0Nurh76oWDvYs+4ocyfJoaAIRByCBj5hdwlDe4OifgefPBBdO/eHU899ZSb9khOL5r26ITEM0PKVGqJaSSzrU8BG37ucWKRxifikxZHB0ocofY3+kYGwzcbWxMRyvlFZdwdnpCEg0vpPPM0nWE+8Di+KMB9N//uPsQTL+jStHCdiSFgCIQMAq2NfIRM56wjwYmAHGG+9rWvORKcMGGCG/Pbvn375zsjEtN8fprX77b1JLIvOkdLlznFu2fRDmp2G72/Tl6Gc/Cv52Aeeztw0xvANw4DV5JMR1Dbi+Luh9+kdrjk5ONsjSFgCAQ9Aqb5Bf0lDM0OiACvuOIKxMXFYfHixc4J5qSeigAVEqC4uEt+xfn97mQs34MkLTqtSHvLpva2/wKaPy886VCFVCiZ9qeffoqlS5e6eSgf+9/fYFTqFYhOvdgTe6ejlCHGxBAwBEIOASO/kLukodMhObho1gd5g7YtTQSosAbFAHZ7zqOtbfkhtT4edWQNQxjy0MjYOYVQ7Nixw80ioQmXRX4FBQXIzs52ky/n5RcifdgIWklpVlWsnTxEI6gCVmkw0MQQMARCCQEjv1C6miHYFznBqJxWpAVqRgTN7NAjiSbR4cCBDzhNEieAWP0Z1u3OcXMHaqaIPXv2OE1PeUMlSqOmcyi59s6dOxnHTm2ymYg0Dxw4AJlepZH6UxT6MWnSJIwbN87FPvrzXFa3IdCVEfDvk9yVkbW+nzMEamL6Y1v5YOzc1ReHMrZhV8kzWLtpm/MYVfygyKx5HlGtq6qqcuSnSXbledpctK+2x8fHu9CL5tt8/beI984770RKSopL9u3r+q0+Q8AQ8CBg5Gd3QsghoNCI9z5ciqeffgUHDx50/RN5tSXKHqPt3n3b2u9srJe3q8I6FNivmS5MDAFDwD8IGPn5B1er9RwjIA1u8ODBbiyvrKzMje15k2eL7Lzp07zNlLYnk2ZLrc+7XdpfW9u8+/hiqew2Kv42r/qirVaHIRDMCBj5BfPVs7a3ikBiYiK++93v4qtf/Sp27dqFd999F2+88YbTqOTlKS1PROglQJGa4gpFlkq2rYwzzcU776C2+ZsAZfYcNWoU+vTp07wJ9rchYAj4GAEjPx8DatUFDgLS/uQ8MnbsWJc6Tc4uCmsQEW7cuNGZFkWAIkRpWz/72c8wa9YsR4TNeyGy3LBhA6ZNm3aSM0zz/Xz1t9rS0unGV3VbPYaAIeBBwMjP7oSARiAzMxMrV66k12Y17rnnnjNqqxxZZD5UkbOKNLf+/ftjwYIFyM/Pd2EPy5cvx4oVK1BSUoIBAwagd+/ebt/mJ9I4nDRDeYQaKTVHxv42BIIXASO/4L12Id9yxeS9+OKLWLJkCZTp5UzJryVACiOQE4lKWloaRo4ciRkzZuDWW291s0ZIQzRya4ma/TYEQhMBI7/QvK5B3yuZJZXc+tVXX4UcVmbPnu3TPokIpQWqTJw4ERrXMycTn0JslRkCAY3A5wOaArqp1riQQkBz7RXv/8cce02d0xicsq88/fTT0NRG+/btgxxYRo8e7bfue82jfjuBVWwIGAIBh4BpfgF3SbpAg5Q27DCTUWd+5Jk37zwmpabI8UQZVv7whz/gvffeczO4y7tSY23Dhw/vAsBYFw0BQ+BsIWCa39lC2s7zDwQqOGHemkeYhPrfOfXQarde8/Zp2qKf/OQneO211xzxyRQpTVDOKhqjMzEEDAFDwFcImObnKyStnvYj8NlvqPW95pmFnUeJ5JRv8xvf+Iabv6+iouJE+jGRn8bnkpKYr9PEEDAEDAEfIWCan4+AtGraQKBwFyeKXcSZ1T8ly3F2hD2cN283px8q5f6aeJbB5h9//DEeeOCBk4hPNSrEQE4p/g4u17lMDAFDoOsgYJpf17nWZ7+ncmrZ9x5nW38MSL0JiE0APv4qUMCm1LMwkcqSD17Hz7fswKZNm9Bc4/M2Vs4uQ4cO9f60pSFgCBgCPkHAyM8nMFoln0OghMmkq4uBo9T69i3mnHoHOG/QU/TsPMQJZsl8ddxbWh9LZmYWvTtLoWTUzWdaUH1KMyatLz09XT9NDAFDwBDwGQJGfj6D0ioKI5uFVdOeuf15hjFkkPw2kfg2ALR2Ip8zyxa8+A/iE1xhnHz9vHG4PHqMSzt29OjRE/k2tdlLfqmpqfppYggYAoaAzxAw8vMZlF27ovCGWsSWU+PbzJnT1/8QKCMetSzS8hjZ4MycGmGWxucVkt/0GbNx08RLXAoz72qRnlcLVJiD5rYzMQQMAUPAlwgY+fkSzS5cV8zxIiQdehnY/wogkhPhNSc6/a1xvhZSXl6G7PxsFBYWOq1Pji3JycnQLOtKKK18nMq5aWIIGAKGgC8RMPLzJZpdta6GOsQcO4ABIr42SK4taNav+xSvbsh24Q7KtKKZGG677TY3sawmdZXWFxcX19bhtt4QMAQMgQ4hYOTXIdjsoM8hUH6YGVvWfl7T+9wObfwgUe7ffwjr1hW47C7Kram57ER+yuhSW1vrYvzaONpWGwKGgCHQYQSM/DoMnR14AoHCnXRy+a8TP9v9B8cEadmEsrtI65OJ8/vf/74LbVBWFwW4mxgChoAh4A8EjPz8gWpXqlOB66UMYThyvH29ppOLEy1Jfkzn6UhOweyaXkizN+hviQjRxBAwBAwBfyAg1wQTQ6DjCBRnkviYpFrhDKcTcRkD2zHlaqw+PghPMQzws1wPySme7+6773ZxffL2NDEEDAFDwJ8I+FTz02zbhw4dYuByJhSzVVpa6sZybrjhBuexZy81f17Kc1S34vgO/qH9J+cdl5t4JZ7NrsanG4/icMlxN2XRtGnTcPnll0OzppsYAoaAIeBvBHxKfsXFxfjggw/w9ttvIz8/H1lZWcjLy3OThfbu3dsFLfu7Q1b/WUSgrpqB61vp7NLOc0rzSwBe+3QHlmzNxa7DdTRtRmDymHToA0kxfSaGgCFgCJwNBHxq9lSKKsVrKVZr/PjxmDJlytnog53jLCEgBxR5YJaXl6OgoADHMpnBJW+7J5i9PW2gNfN40u147pW3kJGR4QLZNb43YcIELFy4sD012D6GgCFgCPgEAZ9qfsrB+PDDDztHhdzcXDz11FN45513fNJQq+TcISDSU8YVeWVmZ2czCfVmbNyyFZOKFmN+1Db0iW9H26T1sbx+oBvySqpdXJ+mKpo+fTquu+46N2dfO2qxXQwBQ8AQ8AkCPiU/887zyTUJqEpEejJfv//Bh3j51dexe/duhPUZivL4/vjjiCPoQzNmu4QZX44WAT98ZREOFpQ58lPw+qRJkzBv3rx2VWE7GQKGgCHgKwR8Sn6+apTVc+4RkLa3bt16LOas6p9t2IL82hgciE5H5fR5QFwPTI0txIDuHzttrj2tPc6whveO0NmlsIym03qO/0bikksuwYIFC1xWl/bUYfsYAoaAIeArBAKC/NasWYPPPvvMeYhu3brVefzt3MnA6RATjYmWlZUh0PumNi5bvgKrN27F5sIGHIgciYZ+g4Ae/Tm7bB8SXjiGRJcgIYzz9Slfp0yap5Ej3PX1PRzzq9MBjS4LWs6RPGzcvBlyhlJQe6BKHYMR5cmsccpQ81jWR47uywMHDoSUp60sFsoNqxR5Mq+Hmmjc/eDBg86hMNT6pnk9z4YEBPnJ6WHgwIEuh6PGlI5zdu9QzOeol6henoHaN70stm3bjrc4TvvZ/kJkRfRDZf+xQN80IMYTeO69Kfc39MPfIu7GuMh9mNq4HOPrj7ZNgkzUUshMLsszI1DfSPILj0BYykTsre+NRR+uQkF+AeZfeolLbeatP5CWcvKRE1dsbCyUgi2URCShvsXExLj+hUrf6uvrT/RLfQs10XtEYUGB+i7pDN5n6wMzIJ7ksWPHQkWijm/cuBGpqanudyj9p/APvUgDsW/S9tZv2Ij3lizDa5tzUJI0EUiZBHSjpteKare5bhA21ydhTHg+vhsVg/HgXH1tSC0D4PdwvC+3nCzIf2HxvVA/eh5Kew3Cuvw9KFuXgdj4bkhmEmvl9owMsCB3aUZy4FKS7VB7kYokDh8+jEGDBiEhob0DuG1c6ABaredM12zw4MEnMgYFUPM63RS9S5KSkpzVpNOVBVgF+sg8GxIQ5Hc2OmrnaBsBmVDWcHzvT08/jzfW7UXVtFuBXsn8EjmNuagxDBFhjUza0spcRUrLKXMol5mc228pM6ChkV4vNJmGDR6Lxv7z4pH4AAAb0klEQVQjgH7pNKemY1fOFjz59gqUcxqjb977NaTxw8eC3du+XrbFEDAEOo+AkV/nMQzqGmRiXkvi++OTz+LNzYdQNecbADUzz6R8p+9aJIkvys1Y28a+JL8DnNx9WRa3i/hi4tEw/gqSa5LngOhuwJCpyI7rhafeeMoR5gPfuJfacRpNjJbmrA1UbbUhYAh0EgGfBrl3si12+DlAYDNj9p5+7kW8tTUbVbPuJvElshXtvy2iHPlpyvYWIq1PQqUwn84ue4q5IjIW4SQ6MFQCUc1MG9Iw+w9H8ez78JcX38ALL76MHI79mhgChoAh4C8EfK75ySNOHlZFRUXOO04NX7t2LUpKSlwOR413aaZuk3OPgK7Ry4sX4+0deagcf3UT8XlZq33ti+PUDLFtZbWm1pfBsb7VTH/GP6n1xaF+2g1NmmXz8/DvcN6KPZNQfsHd+ONLryMtbSj69O0TkuM17UPW9jIEDAF/IuBz8lNuzyeeeMI5dujlKvnDH/7gXNnT0tJw1113Gfn584q2s265uL/40iJ8tPUQ8nuP8mhjzLN5phIXVot40JWzNSHjbacT6Oo8Ep9Mqenn8zxD2hhLJAFKAxw4GrlHduK5N5egH2d6uGz+pa3VbOsMAUPAEOgUAj4nv6lTp7Y5CWliYmLAurN3CsUgPHjjxk34YNmnyKjrCQwdR+LpmDt4rNP8aNdsTWjyPEBnlz0lDG1I6IuGsfNp7ozjns21vuYHcj231w+bjQ0Z72EJ25eemspZ3Yc138n+NgQMAUOg0wj4nPxmzpwJFZPARUCxXS8tWoQthXUo60evyx79OtzYGGp+sTh28vHU+nJIfHvp7FIW2RuNg0mwA3musLaIr1kVvVNwJHEEPt6yF6NWrMCwYek2sW0zeOxPQ8AQ6DwC7fds6Py5rIYAQMAb17Vk+Srsix0K9GZpUxM7fYNjpPk1lp+8I6Ma1tLcua2YtfdNBUbOpXapufraQX5yuEmeiC3FjVi9YZPL/HPyCWyNIWAIGAIdR8DIr+PYBeWRCm1QkuqSRqYTY5B5y8wtZ9qpWGp+cWDSzpacRvLbVECTZ1UfNNCTE4NGn1nV8b1RnZCEzPwyl2P0zA62vQ0BQ8AQODUCRn6nxifktipbyVPPvYDMHiSkbr073b9YHKfDy8lSfZwTvDNFX15vZooZcSHJ8cydaRr7pGMrNcd3P/yozXHkk89sawwBQ8AQOD0CRn6nxyhk9pDWl8X4uR07duB4X46/MbC8sxLHMId4ju99Tvh7WQ6dXY4nMpMLSbZf2uc2t/sHx/4Ohye4aZTy8mhDNTEEDAFDwEcIGPn5CMhgqEbZ0rfv2AUkprhpiZRgurPicXhpUQvJ75Nc4FDfWfQknewSWbfYo30/GfrQyNyiFWHx2LWL7TYxBAwBQ8BHCBj5+QjIYKimgibPrTt2orKn8na21/nk1D2Tw4uCFz4ndRzraxiAQ4lMVp44mJtaDgh+bu9T/OBxsT1QzPHJHTuN/E4BlG0yBAyBM0TAyO8MAQvm3SsqKrF5x24cS/CSX+d7I/ILb2H23F7IlGb9L0B9n5EupVmnzhLTA0c5qrjdyK9TMNrBhoAh8HkEjPw+j0dI/9J8fbsz9rVvxoZ2IhHZMqk1ifAdJvY50o85PHsObGctp9iNml9RWDfsydh7ip1skyFgCBgCZ4aAkd+Z4RXUe8vhJS+PYQkKao/wTX6DcDCmoYV8HLUQe2KoXUZ2LGvM56qLikdNRBwK1G4TQ8AQMAR8hICRn4+ADIZqGhvqUVtd7UkxxumFfCGl6E6HFNYk0yfTmTF5DDJTrqBDzQBfVE+SplMOHXNqa9huE0PAEDAEfISAbz7/fdQYq8a/CCiZtTK8OELx0an+v+MLsDM8CbfUv44xVevxUc0E5CVw9vcwH91aLh1aGNtNLxoTQ8AQMAR8hICP3lA+ao1V41cEwkgkEdSkGkQkUb45VUVjNzxfPwUfhY1BXFwtSmMiURKW4JvKVQsJW2plhI/MtL5rmNVkCBgCwYyAkV8wX70zbHsYzYdRsZyHoZYmxBjOoN6BrCsnnbJR5tMY5Dc2je91NKrhpIqbVkhTpbk2Kia2rT1svSFgCBgCZ4yAbwZ+zvi0dsC5QCA6OhoDBtADszyf43NBYkY8XomY+kr0H8h2mxgChoAh4CMEjPx8BGQwVBMXF4fRI4YDJcw9Vl8bDE0GasrRp7ECI4az3SaGgCFgCPgIASM/HwEZDNV07xaPCWNHoXtZNsmPmaeDQUh+vTlT/Lgxo4OhtdZGQ8AQCBIEjPyC5EL5opnx8SS/80YjvjSrifxapGbxxUl8WgfbV12OxLBKjDHy8ymyVpkh0NURMPLrQndAt27dcB5JJKyYml8Vp1mnI0lAC7XT8Iqj6N5YRfIbE9BNtcYZAoZAcCFg5Bdc16tTrZXDS3JyCsaOHYvowr0kwJJO1ef3g4uyMbChDKNGjUT//v39fjo7gSFgCHQdBIz8us61dj2Nj4/DXXfchtTyDIBaVSBL2NH9mMD5di9fcCkUo2hiCBgChoCvEDDy8xWSQVJPTEwMLlswH73Cquj1yUn3ao4FZssrihBXehip/RIwfdq0wGyjtcoQMASCFgEjv6C9dB1reHh4OAYyZu7SubMwvPoQUHSQFQWa4wsThGZvotYXjplTJ6N3b6p/JoaAIWAI+BABIz8fghksVYkAb77xBozvG4meR2n+LC8IrKYXZWFgyV7MmzgMcy6cbSbPwLo61hpDICQQMPILict45p2YNGkSLpt3IUZElgI5W4G6mjOvxOdHUAOtrULE3hWYOiQRl1x0IYYNG+bzs1iFhoAhYAgY+XXRe0AOJLfcdAMuHT8UA0r2eMyfjecy9IHEp8D7wzsxuHwfbl94MS6YOaOLXh3rtiFgCPgbASM/fyMcwPVrLO3GG67HlWMHoNvWN+j9ySnYz8n4n4iPuUZLDiNh9ZP4+s0LMXvWLHTv3j2A0bOmGQKGQDAjYOQXzFfPB22fNGkiQx9uxcKJKYhb+Regspi1njw7uw9O1XYVyjNasBe9P/097vniNbjtizczHjG57f1tiyFgCBgCnUQgspPH2+FBjkBUVBSmTZ2KrzdQ+wp7Dq9/8gdUTbsNSBzMSW+j/d+74wy1yN6K5KzluOnaBfjm17+GlJRkN++g/09uZzAEDIGuioCRX1e98s36LfPi9KlTEEEv0B5xL+PlzxahJGkikDIZ6M5Z2eGPAHNql0cPIvzgeoxEAW66ai41vpswLD3diK/ZtbE/DQFDwD8IGPn5B9egqzUhIQEzZ0xHd+b/HDTgLby9djcy9pWgtC9nU+ibxvlqfTj+Vsm0ake2Y0DZAUweGI2rLpyPBZfOd2nMgg44a7AhYAgEJQJGfkF52fzTaM33N5UaYHp6Gga9shhLV6zGhiObsa8sFw09k4AenFBWmmCYhorPRBukSVWhFIonLM9DJOcTnBBZhOljk3DVZZdi3kVz0KNHD/90ymo1BAwBQ6AVBIz8WgGlK69SCIS8QO/96j2YSmeYxa+9jtUbtiC/8BAOlAzCsZ5DgDgSVWQsEMUSGcOxwSgPISr/ZiOJrpEmTZFdbXXTspKepMXoU34Q6fVH0CcuHFdevgBXfeEKEm16V4bb+m4IGALnCAEjv3MEfKCfViQ4jTk1p0yZguzsbHzw4UdY9Nob2L3hAzT2TkZ53ACUxffH8e4DSIa9PM4xHDN00ySJ+CoKEX8sDz0r8xFXcQTx9ccwYcIE3HHrfbhw9myn6Vmy6kC/C6x9hkDoImDkF7rX1ic9Uyq0lJQU3P2VL+P2225DTk42Nm3ajE1btmD9pq3YueFtFOQdwfGaatQzVi8yMgrRsfFIGTqUE+eOxZSLp2LSxIk4j38PHJiE8PAwFouw8cnFsUoMAUOgwwgY+XUYuq5zoDQ0ldjYGAwlqSkx9sUXz0N1TQ2OHz/O+PQ6lJaWYd++vZg0abIjt8ioSGgGiVgWLTWXYGRkRNcBzXpqCBgCAY2AkV9AX57AapwIUHGBKi2zr5SUlJAIazBixHBLRB1Yl81aYwgYAq0gYPanVkCxVYaAIWAIGAKhjYCRX2hfX+udIWAIGAKGQCsIGPm1AoqtMgQMAUPAEAhtBHw65ldHxweN/RQVFaG6utqN/WhsSA4SsbGxNhYU2veS9c4QMAQMgaBBwKfkl5eXh0WLFuHvf/87Pf/2OQ+/yZMn45//+Z/pBTgJ3Zg6y8QQMAQMAUPAEDjXCPjM7FlDt/fHH38cf/3rX5Gamopf//rX+Nd//VdkZmbi/vvvx4YNGyDN0MQQMAQMAUPAEDjXCPhM81u2bBlWr17N3JBT8a1vfculrRIhjhgxAvfeey/ee+89JCUlYfjw4ee6z3Z+Q8AQMAQMgS6OgM80v88++8wFPI8fP57ZPM5Dr1690L9/f8zijNwivM2bN7s0WV0cb+u+IWAIGAKGQAAg4DPy27NnD+Lj4zF48GCX0UN9U1C0xvlGjRqFw4cP4+jRowHQZWuCIWAIGAKGQFdHwGdmz4KCAufR2drUNPL2PHbsGCoqKlrFe//+/di7d6/bR2ODcpZ55ZVXWt03mFfKE7awsNCNgwZzP1pru67toUOHkJubG3JevTLf6+PuyJEjLrtNa/0P1nUNDQ3YuXMnDhw44D5eg7UfLdtdX1/v+qV7UlN1hZrs3r0bO3bsgObhDDXRvai0if4Wn5GfQht0kyn1VUvR+traWiY+rm+5yf3WrAGrVq2CCHTXrl2OIJYsWdLqvsG8UtqvHsaZM2cGczdabbvCW7Zt24Y5c+aEHPmJ2FeuXOn6ppCdUBI5oS1fvtzN3tGzZ8+Q6ZreN5988glmzJgRknNFrlixAqNHj0bfvn1D5pp5O5KTk+P4wvvbX0ufkZ9MnI2cy02lpYj0tL0tmTt3LlQkzzzzjBsf/NWvftXW7kG7Xk4/L7zwAn73u98FbR/aarg09ocffth5/IbarA36YLnlllvw85//HAMGcAqnEJLKykpce+21eOihh9xYfah0rbS0FNdccw1+/OMfO6e7UOmXtx833XQTvvOd7zifCu+6UFl+85vfPCthcT4b81Mwu762ZCJqKeXl5Scy+7fcZr8NAUPAEDAEDIGzjYDPyE9zvukrUuavlqJYP80OHor26ZZ9td+GgCFgCBgCgY+Az8hPmVw07ifHFTl2SGTulJPAFk58mp6e7uL8TgfJsGHD3Azip9svGLfLE3Y2ZzEPRenTpw8uvfTSU5q3g7Xf8li+6qqrQtJxIjIyEpdddpkLTQrW69NauzV/5BVXXBGyH9zz5s1zoWSt9T3Y151//vkYMmSI37sR8TOKL84is+emTZucV5zMn3J8kRfnn//8Z0d+d955J9QphUOcSvSiGTRoUEjetHKWUN8UAxlqopeNyF0afqiJCEJ903hfqI1naixe3tgq6meoiK6TkmromoVSv7zXp1+/fu6a6bkLNdGHtDcftD/7FkYHlZM9VDpwRnmNvfrqq3jjjTec6VMXR+sOHjzovBu/9rWvuWD3UHt5dAAqO8QQMAQMAUPgHCPgM/JTP+TYsmbNGudirPAFaX8jR47E9ddfj+Tk5FbDIM5x/+30hoAhYAgYAl0QAZ+Sny/xU/CtxhAVFC5S1d9SUqXmKx5JqdOCPXhVcY1lZWUu+F9esuqb1P1gcaeXZi8HJ/VDzk7S6pXkQCZCXZtg1fLVL41bFxcXo6qq6sS9N3bsWOeCHaz90vOp66R+6b5T39RX7zMla42GHU4VluTLZ9zXdekZUt+USUrvC/kcREREuKEWmdISExND6gM8KyvLvR+97w31MdhEQ2R6x8tC2FL0nCmOUf4i/pCANfIrwl+ZJ55++mk3lqjAR93MAkNB4hpDVBLtYLbnL1682GnJytQgj1iR3ne/+13cd999/rjWPq1THyLK5qI+vPzyy679egiV1/Wf/umfnNNSa9l+fNoIP1WmF+ibb76Jt956CxkZGW7sWi9TBU3LsSuYA923b9/u+qWkEnrh6MNSz5Sepdtuu809W8Hqla37UcMuyg4ly5OySukeTOUsM1dffbVzWkpLSwvaj7Lmt7uIXvHCzz33nLOqKeZP1y/YRMSn2Ocf/OAH7sNL73Pvx1dMTIyLr/3f//1fv3QrYMlPN66yGChh9jx6Nmk+QIGxdu1a92LSi+ipp56CvsZbyyrjF7R8XOk777zjHlI9nOqb10vWx6fxS3X6ONHDpz5MnDgRDzzwgHuRat23v/1tF+yubC/B+HGiB1IzlCilmRyUpA3pvgsFEenpmdJsK1/60pcgbUFZlTQV2caNG/H9738fd9xxx4kXUDD1WR8out903+m9IE0vPz/fkeFvfvMb54n+k5/8BNJwg12WLl2K9evXO01XQ0rBLnIC/NGPfoRx48Y5S4T6I63dn1awgCU/fbEtXLgQV155pfP8lBlNXwTTp0/H0KFD8d///d8uG4wyOARrWqZHH33UmZ30wP7lL3/BSy+9FDT3sB4+EYK0cJGdvqhlwtBL9Z577sG7777rzJ8a8w02UV/0kpRZUGZdabehQn4af58/f74jBnle695TCjA9Q7///e9dPxWOIwyCTWQe08tSplxp53p56m8R4f/8z/84S5IIXqEdwSqyuEgx0LWSQuA17wZrf7ztlgKjdG16v3stK3rf6xr6SwKW/GRCU+C8QPGqwQJBX+F6ocqlXiYpmUKDVUTi6pvGN4PN1CTNSGSnLzXdtNJc9WDq5tX1kXlNYxLBSH56+DRuKZH5TGE8oSJy/1dprpHrmdJ1kwlNWq8IPxjJT/egSksRKep9obFpkUUwi8Zsn3zySecncNFFF7k+yUIR7KL3oK6dlJyz5csRsOQnMESALUVEIXu3vsr1tdqcGFvuG+i/g7ntSmagm1Qk4X3hqD/SJkR4n376qU1hFYA3YHPSa9485cKUKVvEf7ZePs3P7+u/9Z7Qx5j6pcTd+ojRx3QwT6Yt4paJWn4Q0uA13CALSyiItFn1S2O23veKPsg0P6w+zvwhAUt+bXVWSYY1bqEHVWOB3hdvW/vbev8goK9oYd+aU4tMT5oJoa0prPzTIqu1IwiIIKRNfPDBB+6DUhmW5HEczCLN9e2333ZakchPGaZkWdEQSjBqtLoWuk55eXlYtGiRUwouv/zyoL9O6pfMmhqblaOcTNSa+Ub3oyxLSpqipOvqqz/e82eF/HQzarob3YinE7G+vtA0AW5LkUnmo48+gqY7ktfdF77wBb+A0vK8p/otJxV9jYkMTie6gDI56Wsm2EXat/rTmrORtAeZRIPZJB3s16c97dcLVR+Ry5YtcxpEKh2vlIUp2LP0yINV7wjNC6oXqaxEMhEqZVawhqkoNEUzp+gjRbMe6COlNctYe657IO2j973eh3KYk8VIv5USUzPg6BqKM9RXkaOv5ayQnyYnfOSRR9zki6frgL46b7zxxpPIT2qxwFAWGV103QCB8IWqcS0NPmu+t9OJPOv0FRMK5KeXiF6eKi1FpCcTaDCbdVv2KRR/6wNGYTZyHpPceuutzoEp2Puq98K//du/OeLTi1QeySJ4fZBpW7CZPmXC1Qe2wm8U36z3o0yBes60TaLnUH8HG7nLcqQwGxWv6P3oJbsPP/zQvfe9v737+GJ5VshPDf/tb3/b6nRHLTuhMYmWzh+6yLp5//SnP7kBa8XCyWMtEERfK5rnTV+YpxOp+KHiPKF+SGvQV3VL0Ze3tL9Q+DJt2bdQ+S0ikKPEgw8+iEzGmD722GPumfLX+MrZxE0WCWkLEr1IZ82ahZ/+9KcuTlMaRbCRn54nZc5SiIpIXYqA932j50/XUhqSgvtlQmxrXPdsXoPOnkshRrpOH3/8sYuz7Wx9rR1/VshPN6NiUVrTElo2qjWNQW71itPRl829997rQiBaHneufusFL1NmR/t2rtrd2fPqesqULZN2S9HLVHE7wRqC0rI/ofZbz5HGU/7zP//TeUwriFjj5y0/OkOl33LC0ji0SEFxf8EmIjYNq+hj5f777//cR6WIUWNlP/zhD5237h//+EdnPvRniMDZxs9fFqSzQn5qfEcuhi6qvnh++ctfOrzvuusul6VBWkWgSEf7Fijt72g7pkyZ4sYgFG6icU+RnTR0PaRyMJAnmj4KTAILAX2kSYOQqV7DET/72c/cVFS6fv56yZxrBOR4JdKThqR+BptIm5OzTmsB3y+++KLzZNWY5oIFC5xZNNhMn61dDzm+aMxWHOAvJ6WzQn6tde506+TWq/Rmv/jFLyAPzxtuuMGpwdI0VPSg6ktOGkhHiPV05z8b2+V+LSce9VVjh1pKaxLhS2RS1dd4IN7MetikkcvzVnFHyqqhl4y80WSW0XZ/5eQ7G9dG10MPoF6auk4iDY2PieB1TWSWUVqwYBPdW3/729/cB4rMgYrT1PPkzS4khwMRRDCaP9etW+c+yBR+ow8vfSTr+VKmKIU7KK5WfQ42keaq69QaCajPMoEq2YT8CYIt/EvveF0fPUt6l+v+0zMnx0YNdcl8LauEPyRgyU8XVC9WpTGTaVFmGg1ee0WEJ8Ck7geruUYPpC6wHlBpULLZv//+++6LR/186KGH3E0vs3GgiTwDb7rpJheXIw80eaLpK035FW+55RZceOGFbvwh0Nrd3vbourz22mvuxaIcmDIVPvvss44Y5I183XXX4eKLL25vdQGzn1JiaRxF95y+rDXfZnNRNhSNpyt7SLCJzIPqn66dPoz1jtDHiohd5KHJbdW/YBP1Q2PsrfkLiBjlcS3SC8bE1vJiVdYdWYz0saIPfSkByq+ra6WcrMoa5Q8JWPLTBZdnkzzQZK4IRRGp6wtbjiMtPZ7U30AeuFbbvGmyROIiPa2Tq/w111zjgt8DUWNt732kDw55oqnI3KQUYF7RNWstxMO7PZCX+rpWeq+2YjDbM3YdqP2TZiQLhDwj9fLUx5g+kHXtVPQyDUaN9lR463mTFSJYrSxqu66Z/Ad0zbymafVLRcMn/hrmCtgpjU51wW2bIWAIGAKGgCHQGQTCO3OwHWsIGAKGgCFgCAQjAkZ+wXjVrM2GgCFgCBgCnULAyK9T8NnBhoAhYAgYAsGIgJFfMF41a7MhYAgYAoZApxAw8usUfHawIWAIGAKGQDAiYOQXjFfN2mwIGAKGgCHQKQSM/DoFnx1sCBgChoAhEIwIGPkF41WzNhsChoAhYAh0CgEjv07BZwcbAoaAIWAIBCMCRn7BeNWszYaAIWAIGAKdQsDIr1Pw2cGGgCFgCBgCwYiAkV8wXjVrsyFgCBgChkCnEDDy6xR8drAhYAgYAoZAMCJg5BeMV83abAgYAoaAIdApBIz8OgWfHWwIGAKGgCEQjAgY+QXjVbM2GwKGgCFgCHQKASO/TsFnBxsChoAhYAgEIwJGfsF41azNhoAhYAgYAp1CwMivU/DZwYaAIWAIGALBiICRXzBeNWuzIWAIGAKGQKcQMPLrFHx2sCFgCBgChkAwIvD/AMD/rel+GBmOAAAAAElFTkSuQmCC)"
   ]
  },
  {
   "cell_type": "code",
   "execution_count": null,
   "id": "5a227b4d",
   "metadata": {
    "id": "5a227b4d"
   },
   "outputs": [],
   "source": [
    "x0 = 1.5\n",
    "for y0 in np.arange(1.75,3,0.25):\n",
    "\n",
    "    # din kode her\n",
    "fig"
   ]
  },
  {
   "cell_type": "markdown",
   "id": "fbce56d4",
   "metadata": {
    "id": "fbce56d4"
   },
   "source": [
    "Denne gang når vi trækker 3. atom opad er kraften på det primært i -$x$-retningen men der er også komposanter i $y$-retningen\n",
    "\n",
    "Da bevægelsen sker i $y$-retningen bliver arbejdet de to andre atomer udfører på det 3. atom når det flyttes opad til:\n",
    "$$W=\\int\\vec{F}\\cdot d\\vec{s}=\\int F_y dy\\simeq \\sum F_y(x_0,y) \\Delta y$$\n",
    "Skriv nedenstående celle færdig så den beregner det udførte arbejde når tredje atom flyttes fra $y_0=1.5$ til $y_1=10$."
   ]
  },
  {
   "cell_type": "code",
   "execution_count": null,
   "id": "ef4a0212",
   "metadata": {
    "id": "ef4a0212"
   },
   "outputs": [],
   "source": [
    "x0 = 1.5\n",
    "y0 = 1.5\n",
    "atom3.set_position([x0, y0])\n",
    "\n",
    "e0 = molecule.get_potential_energy()\n",
    "\n",
    "y1 = 10\n",
    "Delta_y = 0.001\n",
    "ys = np.arange(y0, y1, Delta_y)\n",
    "sum_fy_dy = 0\n",
    "for y in ys:\n",
    "    atom3.set_position([x0, y])\n",
    "    # dine kode\n",
    "    fy = # dine kode\n",
    "    sum_fy_dy +=  fy * Delta_y\n",
    "    \n",
    "e1 = molecule.get_potential_energy()\n",
    "sum_fy_dy, e1 - e0"
   ]
  },
  {
   "cell_type": "markdown",
   "id": "274c32e6",
   "metadata": {
    "id": "274c32e6"
   },
   "source": [
    "Vi starter forfra en sidste gang:"
   ]
  },
  {
   "cell_type": "code",
   "execution_count": null,
   "id": "80926bf0",
   "metadata": {
    "id": "80926bf0"
   },
   "outputs": [],
   "source": [
    "p = [0, 0.65]\n",
    "atom1 = Atom(p)\n",
    "p = [0, 2.35]\n",
    "atom2 = Atom(p)\n",
    "p = [1.5,1.5]\n",
    "atom3 = Atom(p,color='C2')\n",
    "molecule = Atoms([atom1, atom2, atom3])\n",
    "\n",
    "fig, ax = ny_figur()\n",
    "plot_atoms(ax, molecule)\n",
    "kraft_pile = plot_kraefter(ax, molecule)"
   ]
  },
  {
   "cell_type": "markdown",
   "id": "3fa7ee91",
   "metadata": {
    "id": "3fa7ee91"
   },
   "source": [
    "Men denne gang skal det sidste atom flyttes skråt opad i en vinkel på 75$^\\circ$ til $x$-aksen. Således at du får dette plot:\n",
    "\n",
    "![Screenshot 2023-02-13 at 15.15.30.png](data:image/png;base64,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)"
   ]
  },
  {
   "cell_type": "code",
   "execution_count": null,
   "id": "0a19b7f4",
   "metadata": {
    "id": "0a19b7f4"
   },
   "outputs": [],
   "source": [
    "theta = 75 / 180 * np.pi\n",
    "dx = np.cos(theta)\n",
    "dy = np.sin(theta)\n",
    "ds_vector = np.array([dx,dy])\n",
    "x0 = 1.5\n",
    "y0 = 1.5\n",
    "for s in np.arange(0,1.5,0.25):\n",
    "    p = np.array([x0, y0]) + # din kode her\n",
    "    atom3.set_position(p)\n",
    "\n",
    "    plot_kraefter(ax, molecule, color='C3')\n",
    "\n",
    "fig"
   ]
  },
  {
   "cell_type": "markdown",
   "id": "771c11ce",
   "metadata": {
    "id": "771c11ce"
   },
   "source": [
    "Da bevægelsen nu sker i en generel retning må vi finde kraftens projektion på denne regning (det er ikke længere blot en af komposanterne).\n",
    "\n",
    "Vi har:\n",
    "$$F_s=\\vec{F}\\cdot \\hat{s}$$\n",
    "hvor $\\hat{s}$ er retningsvektoren i $d\\vec{s}$'s retning.\n",
    "\n",
    "Derefter har vi:\n",
    "$$W=\\int\\vec{F}\\cdot d\\vec{s}=\\int F_s ds\\simeq \\sum F_s \\Delta s$$\n",
    "Skriv nedenstående celle færdig så den beregner det udførte arbejde når tredje atom flyttes fra i alt 10 længdeenheder i $\\hat{s}$-retningen."
   ]
  },
  {
   "cell_type": "code",
   "execution_count": null,
   "id": "fe934040",
   "metadata": {
    "id": "fe934040"
   },
   "outputs": [],
   "source": [
    "x0 = 1.5\n",
    "y0 = 1.5\n",
    "atom3.set_position([x0, y0])\n",
    "\n",
    "e0 = molecule.get_potential_energy()\n",
    "\n",
    "integral_of_fs_ds = 0\n",
    "ds = 0.001\n",
    "for s in np.arange(0,10,ds):\n",
    "    p = np.array([x0, y0]) + # din kode her\n",
    "    atom3.set_position(p)\n",
    "\n",
    "    forces = molecule.get_forces()\n",
    "    force_atom3 = # færdiggør her\n",
    "    \n",
    "    integral_of_fs_ds += # din kode her\n",
    "\n",
    "e1 = molecule.get_potential_energy()\n",
    "\n",
    "integral_of_fs_ds, e1 - e0    "
   ]
  },
  {
   "cell_type": "code",
   "execution_count": null,
   "id": "c96cd0bc",
   "metadata": {
    "id": "c96cd0bc"
   },
   "outputs": [],
   "source": []
  }
 ],
 "metadata": {
  "colab": {
   "provenance": []
  },
  "kernelspec": {
   "display_name": "Python 3 (ipykernel)",
   "language": "python",
   "name": "python3"
  },
  "language_info": {
   "codemirror_mode": {
    "name": "ipython",
    "version": 3
   },
   "file_extension": ".py",
   "mimetype": "text/x-python",
   "name": "python",
   "nbconvert_exporter": "python",
   "pygments_lexer": "ipython3",
   "version": "3.9.7"
  }
 },
 "nbformat": 4,
 "nbformat_minor": 5
}
