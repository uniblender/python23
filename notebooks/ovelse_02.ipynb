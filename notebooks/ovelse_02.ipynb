{
 "cells": [
  {
   "cell_type": "markdown",
   "id": "6488a955",
   "metadata": {},
   "source": [
    "## TØ2\n",
    "I denne notebook skal du lære\n",
    "\n",
    "* selv at skrive nogle funktioner\n",
    "\n",
    "* at arbejde med vektorer og regne på arbejdet en konservativ kraft udfører på et legeme, der bevæger sig ad en vej"
   ]
  },
  {
   "cell_type": "markdown",
   "id": "ec5477bb",
   "metadata": {},
   "source": [
    "### Load kursets Lennard-Jones modul"
   ]
  },
  {
   "cell_type": "code",
   "execution_count": 43,
   "id": "bb41df77",
   "metadata": {},
   "outputs": [
    {
     "name": "stdout",
     "output_type": "stream",
     "text": [
      "The autoreload extension is already loaded. To reload it, use:\n",
      "  %reload_ext autoreload\n",
      "Already up to date.\n",
      "Requirement already satisfied: pip in /opt/anaconda3/lib/python3.9/site-packages (23.0)\n"
     ]
    }
   ],
   "source": [
    "%load_ext autoreload\n",
    "%autoreload 2\n",
    "\n",
    "import os\n",
    "if not os.path.exists('python23'):\n",
    "    !git clone https://github.com/uniblender/python23.git/ > git_output.txt\n",
    "else:\n",
    "    os.chdir('python23')\n",
    "    !git pull \n",
    "    os.chdir('../')\n",
    "!pip install --upgrade pip    \n",
    "!pip install python23/utils_package/ > pip_output.txt"
   ]
  },
  {
   "cell_type": "markdown",
   "id": "77b7d5c2",
   "metadata": {},
   "source": [
    "### Øvelse 1\n",
    "Her er kode til at lave et lærred:"
   ]
  },
  {
   "cell_type": "code",
   "execution_count": 46,
   "id": "42429831",
   "metadata": {},
   "outputs": [
    {
     "data": {
      "image/png": "[encoded data removed]",
      "text/plain": [
       "<Figure size 432x288 with 1 Axes>"
      ]
     },
     "metadata": {
      "needs_background": "light"
     },
     "output_type": "display_data"
    }
   ],
   "source": [
    "%matplotlib inline\n",
    "import numpy as np\n",
    "import matplotlib.pyplot as plt\n",
    "plt.rc('font', size=16)\n",
    "fig, ax = plt.subplots()\n",
    "ax.set_aspect('equal', adjustable='box')\n",
    "ax.set_xlim([-1,5])\n",
    "ax.set_ylim([0,3])\n",
    "ax.set_xticks(range(-2,6))\n",
    "ax.set_yticks(range(0,4))\n",
    "ax.grid()"
   ]
  },
  {
   "cell_type": "markdown",
   "id": "b061eb11",
   "metadata": {},
   "source": [
    "Skriv en funktion, der modtager \"Axes\"-objektet, `ax`, som argument og udfører:\n",
    "\n",
    "    ax.set_aspect('equal', adjustable='box')\n",
    "    ax.set_xlim([-1,5])\n",
    "    ax.set_ylim([0,3])\n",
    "    ax.set_xticks(range(-2,6))\n",
    "    ax.set_yticks(range(0,4))\n",
    "    ax.grid()\n"
   ]
  },
  {
   "cell_type": "code",
   "execution_count": 47,
   "id": "894bf5f0",
   "metadata": {},
   "outputs": [
    {
     "ename": "IndentationError",
     "evalue": "expected an indented block (1823968242.py, line 4)",
     "output_type": "error",
     "traceback": [
      "\u001b[0;36m  File \u001b[0;32m\"/var/folders/wg/_ssmkzwd0f18l4g4py6044n9jxb76k/T/ipykernel_52277/1823968242.py\"\u001b[0;36m, line \u001b[0;32m4\u001b[0m\n\u001b[0;31m    fig, ax = plt.subplots()\u001b[0m\n\u001b[0m    ^\u001b[0m\n\u001b[0;31mIndentationError\u001b[0m\u001b[0;31m:\u001b[0m expected an indented block\n"
     ]
    }
   ],
   "source": [
    "def grid_med_mere(ax):\n",
    "    # din kode her\n",
    "\n",
    "fig, ax = plt.subplots()\n",
    "grid_med_mere(ax)"
   ]
  },
  {
   "cell_type": "markdown",
   "id": "cfae58cf",
   "metadata": {},
   "source": [
    "Skriv en funktion, der opretter et nyt figur-objekt med et sæt akser (sådan som det gøres i cellerne ovenfor). Funktionen skal returnere figur-objektet og akse-objektet."
   ]
  },
  {
   "cell_type": "code",
   "execution_count": 53,
   "id": "776a4767",
   "metadata": {},
   "outputs": [
    {
     "data": {
      "image/png": "[encoded data removed]",
      "text/plain": [
       "<Figure size 432x288 with 1 Axes>"
      ]
     },
     "metadata": {
      "needs_background": "light"
     },
     "output_type": "display_data"
    }
   ],
   "source": [
    "def ny_figur():\n",
    "    # din kode her\n",
    "    grid_med_mere(ny_ax)\n",
    "    return ny_fig, ny_ax\n",
    "fig, ax = ny_figur()"
   ]
  },
  {
   "cell_type": "markdown",
   "id": "473028a1",
   "metadata": {},
   "source": [
    "Dan et molekyle med tre atomer. Brug fx positionerne:\n",
    "$\\left[\\begin{array}{c}-0.5\\\\1.5\\end{array}\\right],\n",
    "\\left[\\begin{array}{c}1\\\\2.5\\end{array}\\right]\\>\\mathrm{og}\\>\n",
    "\\left[\\begin{array}{c}1\\\\0.5\\end{array}\\right].\n",
    "$\n",
    "Saml atomerne til et molekyle."
   ]
  },
  {
   "cell_type": "code",
   "execution_count": 57,
   "id": "8b5a166f",
   "metadata": {},
   "outputs": [],
   "source": [
    "from utils.lennard_jones import Atom, Atoms\n",
    "p = [-0.5, 1.5]\n",
    "atom1 = Atom(p, color='pink')\n",
    "p = [1, 2.5]\n",
    "atom2 = Atom(p, color='C0')\n",
    "p = [1, 0.5]\n",
    "atom3 = Atom(p,color='C1')\n",
    "molecule = Atoms([atom1, atom2, atom3])"
   ]
  },
  {
   "cell_type": "markdown",
   "id": "48324db6",
   "metadata": {},
   "source": [
    "Skriv en funktion, der plotter alle atomer i et molekyle. Funktionen skal modtage `Axes`-objektet samt `Atoms`-objektet."
   ]
  },
  {
   "cell_type": "code",
   "execution_count": 58,
   "id": "16a2f960",
   "metadata": {},
   "outputs": [
    {
     "data": {
      "image/png": "[encoded data removed]",
      "text/plain": [
       "<Figure size 432x288 with 1 Axes>"
      ]
     },
     "metadata": {
      "needs_background": "light"
     },
     "output_type": "display_data"
    }
   ],
   "source": [
    "def plot_atoms(ax, molecule):\n",
    "    for atom in molecule:\n",
    "        atom.plot(ax)\n",
    "fig, ax = ny_figur()\n",
    "plot_atoms(ax, molecule)"
   ]
  },
  {
   "cell_type": "markdown",
   "id": "be7b466c",
   "metadata": {},
   "source": [
    "Skriv en funktion, der plotter kræfterne for alle atomer. Funktionen skal modtage `Axes`-objektet samt `Atoms`-objektet."
   ]
  },
  {
   "cell_type": "code",
   "execution_count": 64,
   "id": "40977635",
   "metadata": {},
   "outputs": [
    {
     "data": {
      "image/png": "[encoded data removed]",
      "text/plain": [
       "<Figure size 432x288 with 1 Axes>"
      ]
     },
     "execution_count": 64,
     "metadata": {},
     "output_type": "execute_result"
    }
   ],
   "source": [
    "def plot_kraefter(ax, molecule, color='k'):\n",
    "    positions = molecule.get_positions()\n",
    "    forces = molecule.get_forces()\n",
    "    arrows = []\n",
    "    for pos,force in zip(positions,forces):\n",
    "        arrow = ax.arrow(pos[0], pos[1], force[0], force[1], width=.05, length_includes_head=True, color=color, zorder=200)\n",
    "        arrows.append(arrow)\n",
    "    return arrows\n",
    "\n",
    "kraft_pile = plot_kraefter(ax, molecule)\n",
    "fig"
   ]
  },
  {
   "cell_type": "code",
   "execution_count": null,
   "id": "835772b8",
   "metadata": {},
   "outputs": [],
   "source": [
    "fig, ax = ny_figur()\n"
   ]
  },
  {
   "cell_type": "markdown",
   "id": "933d88a0",
   "metadata": {},
   "source": [
    "### Øvelse 2\n",
    "Nu skal vi tjekke hvad vekselvirkningen mellem to atomer i Lennard-Jones modulet faktisk er.\n",
    "\n",
    "Start med at skrive en funktion, der:\n",
    "\n",
    "* modtager en afstand `r` som argument\n",
    "\n",
    "* opsætter et molekyle bestående af to atomer i afstanden `r`\n",
    "\n",
    "* returnerer den potentielle energi af molekylet"
   ]
  },
  {
   "cell_type": "code",
   "execution_count": 60,
   "id": "4a898181",
   "metadata": {},
   "outputs": [],
   "source": [
    "def potentiel_energi(r):\n",
    "    system = # din kode her\n",
    "    return system.get_potential_energy()"
   ]
  },
  {
   "cell_type": "markdown",
   "id": "0584ac9b",
   "metadata": {},
   "source": [
    "Kald din funktion for forskellige værdier af `r` og plot energien som funktion af netop `r`"
   ]
  },
  {
   "cell_type": "code",
   "execution_count": 61,
   "id": "1d705aae",
   "metadata": {},
   "outputs": [
    {
     "data": {
      "text/plain": [
       "[<matplotlib.lines.Line2D at 0x7f8d22732a30>]"
      ]
     },
     "execution_count": 61,
     "metadata": {},
     "output_type": "execute_result"
    },
    {
     "data": {
      "image/png": "[encoded data removed]",
      "text/plain": [
       "<Figure size 432x288 with 1 Axes>"
      ]
     },
     "metadata": {
      "needs_background": "light"
     },
     "output_type": "display_data"
    }
   ],
   "source": [
    "potentielle_energier = []\n",
    "afstande = # din kode her, der laver liste eller NumPy array af værdier fra 0.85 til 5\n",
    "for r in afstande:\n",
    "    # din kode her, der tilføjer den potentielle energi for denne\n",
    "    # afstand mellem atomerne til listen \"potentielle_energier\".\n",
    "    # husk at du lige har skrevet en funktion til at beregne det med\n",
    "\n",
    "fig, ax = plt.subplots()\n",
    "ax.plot(afstande, potentielle_energier)"
   ]
  },
  {
   "cell_type": "markdown",
   "id": "59a17f6b",
   "metadata": {},
   "source": [
    "Omskriv funktionen du skrev ovenfor så den kan håndtere at argumentet `r` er en liste (eller et NumPy array) og ikke blot en skalar"
   ]
  },
  {
   "cell_type": "code",
   "execution_count": 39,
   "id": "ab567170",
   "metadata": {
    "scrolled": true
   },
   "outputs": [
    {
     "data": {
      "text/plain": [
       "[<matplotlib.lines.Line2D at 0x7f8d2289b9d0>]"
      ]
     },
     "execution_count": 39,
     "metadata": {},
     "output_type": "execute_result"
    },
    {
     "data": {
      "image/png": "[encoded data removed]",
      "text/plain": [
       "<Figure size 432x288 with 1 Axes>"
      ]
     },
     "metadata": {
      "needs_background": "light"
     },
     "output_type": "display_data"
    }
   ],
   "source": [
    "def potentielle_energier(afstande):\n",
    "    res = []\n",
    "    stationaert_atom = Atom([0,0])\n",
    "    flytbart_atom = Atom([0,0])\n",
    "    system = Atoms([stationaert_atom, # færdiggør her\n",
    "    for r in afstande:\n",
    "        flytbart_atom.set_position # færdiggør her\n",
    "        res.append # færdiggør her\n",
    "    return res\n",
    "\n",
    "fig, ax = plt.subplots()\n",
    "ax.plot(afstande, potentielle_energier(afstande))"
   ]
  },
  {
   "cell_type": "markdown",
   "id": "09e27926",
   "metadata": {},
   "source": [
    "### Øvelse 3\n",
    "Nu skal vi tjekke at arbejdet en konservativ kraft udfører er lig minus tilvæksten i potentiel energi. Du skal bruge funktionerne fra øvelse 1.\n",
    "\n",
    "I de næste celler opbygger vi et plot, der viser kræfterne på atomerne når et af dem trækkes væk fra de to andre. Senere beregner vi det arbejde de to andre atomer udfører på det atom, der flyttes og sammenligner det med tilvæksten i potentiel energi.\n",
    "\n",
    "Men først plottet, der skal ende med at se således:"
   ]
  },
  {
   "cell_type": "code",
   "execution_count": 66,
   "id": "ab79a01e",
   "metadata": {},
   "outputs": [
    {
     "data": {
      "image/png": "[encoded data removed]",
      "text/plain": [
       "<Figure size 432x288 with 1 Axes>"
      ]
     },
     "metadata": {
      "needs_background": "light"
     },
     "output_type": "display_data"
    }
   ],
   "source": [
    "from utils.lennard_jones import Atom, Atoms\n",
    "p = [0, 0.65]\n",
    "atom1 = Atom(p)\n",
    "p = [0, 2.35]\n",
    "atom2 = Atom(p)\n",
    "p = [1.5,1.5]\n",
    "atom3 = Atom(p,color='C2')\n",
    "molecule = Atoms([atom1, atom2, atom3])\n",
    "\n",
    "fig, ax = ny_figur()\n",
    "plot_atoms(ax, molecule)\n",
    "kraft_pile = plot_kraefter(ax, molecule, color='k')"
   ]
  },
  {
   "cell_type": "markdown",
   "id": "98ff9450",
   "metadata": {},
   "source": [
    "Flyt 3. atom 0.1 i x-retningen og plot igen kræfterne (jeg bruger funktionen fra øvelse 1 ovenfor til at plotte kræfterne med). "
   ]
  },
  {
   "cell_type": "code",
   "execution_count": 68,
   "id": "fbc87f0b",
   "metadata": {},
   "outputs": [
    {
     "data": {
      "image/png": "[encoded data removed]",
      "text/plain": [
       "<Figure size 432x288 with 1 Axes>"
      ]
     },
     "execution_count": 68,
     "metadata": {},
     "output_type": "execute_result"
    }
   ],
   "source": [
    "x0 = 1.6\n",
    "y0 = 1.5\n",
    "atom3.set_position([x0, y0])\n",
    "kraft_pile = plot_kraefter(ax, molecule, color='C1')\n",
    "fig"
   ]
  },
  {
   "cell_type": "markdown",
   "id": "b3196627",
   "metadata": {},
   "source": [
    "Flyt endnu en gang 3. atom 0.1 i x-retningen og plot atter kræfterne"
   ]
  },
  {
   "cell_type": "code",
   "execution_count": 71,
   "id": "bf055b90",
   "metadata": {},
   "outputs": [
    {
     "data": {
      "image/png": "[encoded data removed]",
      "text/plain": [
       "<Figure size 432x288 with 1 Axes>"
      ]
     },
     "execution_count": 71,
     "metadata": {},
     "output_type": "execute_result"
    }
   ],
   "source": [
    "x0 = 1.7\n",
    "y0 = 1.5\n",
    "atom3.set_position([x0, y0])\n",
    "kraft_pile = plot_kraefter(ax, molecule, color='C3')\n",
    "fig"
   ]
  },
  {
   "cell_type": "markdown",
   "id": "029105d3",
   "metadata": {},
   "source": [
    "Okay, nu har vi en god idé om hvordan kræfterne opfører sig. Kraften på 3. atom peger altid i -$x$-retningen når vi trækker atomer til højre.\n",
    "\n",
    "Vi kan dermed beregne arbejdet kraft fra de to andre atomer på det 3. atom når det flyttes til højre som:\n",
    "$$W=\\int\\vec{F}\\cdot d\\vec{s}=\\int F_x dx\\simeq \\sum F_x(x,y_0) \\Delta x$$\n",
    "Skriv nedenstående celle færdig så den beregner det udførte arbejde når tredje atom flyttes fra $x_0=1.5$ til $x_1=10$."
   ]
  },
  {
   "cell_type": "code",
   "execution_count": 6,
   "id": "1262bd67",
   "metadata": {},
   "outputs": [
    {
     "data": {
      "text/plain": [
       "(-0.2934171874348221, 0.29299095629830785)"
      ]
     },
     "execution_count": 6,
     "metadata": {},
     "output_type": "execute_result"
    }
   ],
   "source": [
    "x0 = 1.5\n",
    "y0 = 1.5\n",
    "atom3.set_position([x0, y0])\n",
    "\n",
    "e0 = # din kode til at beregne den potentielle energi før flytningen\n",
    "\n",
    "x1 = 10\n",
    "Delta_x = 0.001\n",
    "xs = np.arange(x0, x1, Delta_x)\n",
    "W = 0\n",
    "\n",
    "for x in xs:\n",
    "    atom3.set_position([x, y0])\n",
    "    forces = molecule.get_forces()\n",
    "    force_last_atom = # din kode til at få krafter\n",
    "    fx = # din kode til at få x-komposanten af denne kraft\n",
    "    W += fx * Delta_x\n",
    "\n",
    "e1 = # din kode til at beregne den potentielle energi efter flytningen\n",
    "aendring_i_potentiel_energi = e1 - e0\n",
    "\n",
    "W, aendring_i_potentiel_energi"
   ]
  },
  {
   "cell_type": "markdown",
   "id": "e7286e61",
   "metadata": {},
   "source": [
    "Lad os starte forfra"
   ]
  },
  {
   "cell_type": "code",
   "execution_count": 76,
   "id": "12a12ae2",
   "metadata": {},
   "outputs": [
    {
     "data": {
      "image/png": "[encoded data removed]",
      "text/plain": [
       "<Figure size 432x288 with 1 Axes>"
      ]
     },
     "metadata": {
      "needs_background": "light"
     },
     "output_type": "display_data"
    }
   ],
   "source": [
    "p = [0, 0.65]\n",
    "atom1 = Atom(p)\n",
    "p = [0, 2.35]\n",
    "atom2 = Atom(p)\n",
    "p = [1.5,1.5]\n",
    "atom3 = Atom(p,color='C2')\n",
    "molecule = Atoms([atom1, atom2, atom3])\n",
    "\n",
    "fig, ax = ny_figur()\n",
    "plot_atoms(ax, molecule)\n",
    "kraft_pile = plot_kraefter(ax, molecule)"
   ]
  },
  {
   "cell_type": "markdown",
   "id": "d577dc49",
   "metadata": {},
   "source": [
    "Denne gang flyttes det 3. atom i y-retningen.\n",
    "\n",
    "Du skal få dette plot:"
   ]
  },
  {
   "cell_type": "code",
   "execution_count": 77,
   "id": "5a227b4d",
   "metadata": {},
   "outputs": [
    {
     "data": {
      "image/png": "[encoded data removed]",
      "text/plain": [
       "<Figure size 432x288 with 1 Axes>"
      ]
     },
     "execution_count": 77,
     "metadata": {},
     "output_type": "execute_result"
    }
   ],
   "source": [
    "x0 = 1.5\n",
    "for y0 in np.arange(1.75,3,0.25):\n",
    "\n",
    "    # din kode her\n",
    "fig"
   ]
  },
  {
   "cell_type": "markdown",
   "id": "801beeac",
   "metadata": {},
   "source": [
    "Denne gang når vi trækker 3. atom opad er kraften på det primært i -$x$-retningen men der er også komposanter i $y$-retningen\n",
    "\n",
    "Da bevægelsen sker i $y$-retningen bliver arbejdet de to andre atomer udfører på det 3. atom når det flyttes opad til:\n",
    "$$W=\\int\\vec{F}\\cdot d\\vec{s}=\\int F_y dy\\simeq \\sum F_y(x_0,y) \\Delta y$$\n",
    "Skriv nedenstående celle færdig så den beregner det udførte arbejde når tredje atom flyttes fra $y_0=1.5$ til $y_1=10$."
   ]
  },
  {
   "cell_type": "code",
   "execution_count": 11,
   "id": "12487cc0",
   "metadata": {},
   "outputs": [
    {
     "data": {
      "text/plain": [
       "(-0.29297545209149944, 0.292975404603562)"
      ]
     },
     "execution_count": 11,
     "metadata": {},
     "output_type": "execute_result"
    }
   ],
   "source": [
    "x0 = 1.5\n",
    "y0 = 1.5\n",
    "atom3.set_position([x0, y0])\n",
    "\n",
    "e0 = molecule.get_potential_energy()\n",
    "\n",
    "y1 = 10\n",
    "Delta_y = 0.001\n",
    "ys = np.arange(y0, y1, Delta_y)\n",
    "sum_fy_dy = 0\n",
    "for y in ys:\n",
    "    atom3.set_position([x0, y])\n",
    "    # dine kode\n",
    "    fy = # dine kode\n",
    "    sum_fy_dy +=  fy * Delta_y\n",
    "    \n",
    "e1 = molecule.get_potential_energy()\n",
    "sum_fy_dy, e1 - e0"
   ]
  },
  {
   "cell_type": "markdown",
   "id": "01e35e1d",
   "metadata": {},
   "source": [
    "Vi starter forfra en sidste gang:"
   ]
  },
  {
   "cell_type": "code",
   "execution_count": 78,
   "id": "a1820460",
   "metadata": {},
   "outputs": [
    {
     "data": {
      "image/png": "[encoded data removed]",
      "text/plain": [
       "<Figure size 432x288 with 1 Axes>"
      ]
     },
     "metadata": {
      "needs_background": "light"
     },
     "output_type": "display_data"
    }
   ],
   "source": [
    "p = [0, 0.65]\n",
    "atom1 = Atom(p)\n",
    "p = [0, 2.35]\n",
    "atom2 = Atom(p)\n",
    "p = [1.5,1.5]\n",
    "atom3 = Atom(p,color='C2')\n",
    "molecule = Atoms([atom1, atom2, atom3])\n",
    "\n",
    "fig, ax = ny_figur()\n",
    "plot_atoms(ax, molecule)\n",
    "kraft_pile = plot_kraefter(ax, molecule)"
   ]
  },
  {
   "cell_type": "markdown",
   "id": "af42b152",
   "metadata": {},
   "source": [
    "Men denne gang skal det sidste atom flyttes skråt opad i en vinkel på 75$^\\circ$ til $x$-aksen. Således at du får dette plot:"
   ]
  },
  {
   "cell_type": "code",
   "execution_count": 79,
   "id": "2cbb2a69",
   "metadata": {},
   "outputs": [
    {
     "data": {
      "image/png": "[encoded data removed]",
      "text/plain": [
       "<Figure size 432x288 with 1 Axes>"
      ]
     },
     "execution_count": 79,
     "metadata": {},
     "output_type": "execute_result"
    }
   ],
   "source": [
    "theta = 75 / 180 * np.pi\n",
    "dx = np.cos(theta)\n",
    "dy = np.sin(theta)\n",
    "ds_vector = np.array([dx,dy])\n",
    "x0 = 1.5\n",
    "y0 = 1.5\n",
    "for s in np.arange(0,1.5,0.25):\n",
    "    p = np.array([x0, y0]) + # din kode her\n",
    "    atom3.set_position(p)\n",
    "\n",
    "    plot_kraefter(ax, molecule, color='C3')\n",
    "\n",
    "fig"
   ]
  },
  {
   "cell_type": "markdown",
   "id": "5bc59357",
   "metadata": {},
   "source": [
    "Da bevægelsen nu sker i en generel retning, $d\\vec{s}$, må vi finde kraftens projektion på denne regning (det er ikke længere blot en af komposanterne).\n",
    "\n",
    "Vi har:\n",
    "$$F_s=\\vec{F}\\cdot \\hat{s}$$\n",
    "hvor $\\hat{s}$ er retningsvektoren i $d\\vec{s}$'s retning.\n",
    "\n",
    "Derefter har vi:\n",
    "$$W=\\int\\vec{F}\\cdot d\\vec{s}=\\int F_s ds\\simeq \\sum F_s \\Delta s$$\n",
    "Skriv nedenstående celle færdig så den beregner det udførte arbejde når tredje atom flyttes fra i alt 10 længdeenheder i $\\hat{s}$-retningen."
   ]
  },
  {
   "cell_type": "code",
   "execution_count": 16,
   "id": "14cb1c8e",
   "metadata": {},
   "outputs": [
    {
     "data": {
      "text/plain": [
       "(-0.2930031031401268, 0.292992076552815)"
      ]
     },
     "execution_count": 16,
     "metadata": {},
     "output_type": "execute_result"
    }
   ],
   "source": [
    "x0 = 1.5\n",
    "y0 = 1.5\n",
    "atom3.set_position([x0, y0])\n",
    "\n",
    "e0 = molecule.get_potential_energy()\n",
    "\n",
    "integral_of_fs_ds = 0\n",
    "ds = 0.001\n",
    "for s in np.arange(0,10,ds):\n",
    "    p = np.array([x0, y0]) + # din kode her\n",
    "    atom3.set_position(p)\n",
    "\n",
    "    forces = molecule.get_forces()\n",
    "    force_atom3 = # færdiggør her\n",
    "    \n",
    "    integral_of_fs_ds += # din kode her\n",
    "\n",
    "e1 = molecule.get_potential_energy()\n",
    "\n",
    "integral_of_fs_ds, e1 - e0    "
   ]
  },
  {
   "cell_type": "code",
   "execution_count": null,
   "id": "c183e165",
   "metadata": {},
   "outputs": [],
   "source": []
  }
 ],
 "metadata": {
  "kernelspec": {
   "display_name": "Python 3 (ipykernel)",
   "language": "python",
   "name": "python3"
  },
  "language_info": {
   "codemirror_mode": {
    "name": "ipython",
    "version": 3
   },
   "file_extension": ".py",
   "mimetype": "text/x-python",
   "name": "python",
   "nbconvert_exporter": "python",
   "pygments_lexer": "ipython3",
   "version": "3.9.7"
  }
 },
 "nbformat": 4,
 "nbformat_minor": 5
}
