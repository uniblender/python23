{
 "cells": [
  {
   "cell_type": "markdown",
   "id": "0f9a2b67",
   "metadata": {},
   "source": [
    "## TØ3\n",
    "I denne notebook skal du lære\n",
    "\n",
    "* at arbejde sikkert med python-funktioner\n",
    "\n",
    "* løse ligninger for python-funktioner\n",
    "\n",
    "* integrere python-funktioner"
   ]
  },
  {
   "cell_type": "markdown",
   "id": "edc104e2",
   "metadata": {},
   "source": [
    "### Load kursets Lennard-Jones modul"
   ]
  },
  {
   "cell_type": "code",
   "execution_count": null,
   "id": "71a09b54",
   "metadata": {},
   "outputs": [],
   "source": [
    "%load_ext autoreload\n",
    "%autoreload 2\n",
    "\n",
    "import os\n",
    "if not os.path.exists('python23'):\n",
    "    !git clone https://github.com/uniblender/python23.git/ > git_output.txt\n",
    "else:\n",
    "    os.chdir('python23')\n",
    "    !git pull \n",
    "    os.chdir('../')\n",
    "!pip install python23/utils_package/ > pip_output.txt\n",
    "\n",
    "from utils.lennard_jones import Atom, Atoms"
   ]
  },
  {
   "cell_type": "markdown",
   "id": "1c5ad88f",
   "metadata": {},
   "source": [
    "### Load andre moduler"
   ]
  },
  {
   "cell_type": "code",
   "execution_count": null,
   "id": "ae8eeaa8",
   "metadata": {},
   "outputs": [],
   "source": [
    "import numpy as np\n",
    "import matplotlib.pyplot as plt"
   ]
  },
  {
   "cell_type": "markdown",
   "id": "f5276b0f",
   "metadata": {},
   "source": [
    "### Definér og kør alt det notebook'en med øvelse 2"
   ]
  },
  {
   "cell_type": "code",
   "execution_count": null,
   "id": "2538a618",
   "metadata": {},
   "outputs": [],
   "source": [
    "def grid_med_mere(ax):\n",
    "    ax.set_aspect('equal', adjustable='box')\n",
    "    ax.set_xlim([-1,5])\n",
    "    ax.set_ylim([0,3])\n",
    "    ax.set_xticks(range(-2,6))\n",
    "    ax.set_yticks(range(0,4))\n",
    "    ax.grid()\n",
    "\n",
    "def ny_figur():\n",
    "    fig, ax = plt.subplots()\n",
    "    grid_med_mere(ax)\n",
    "    return fig, ax\n",
    "fig, ax = ny_figur()\n",
    "\n",
    "p = [0, 0.65]\n",
    "atom1 = Atom(p)\n",
    "p = [0, 2.35]\n",
    "atom2 = Atom(p)\n",
    "p = [1.5,1.5]\n",
    "atom3 = Atom(p,color='C2')\n",
    "molecule = Atoms([atom1, atom2, atom3])\n",
    "\n",
    "for atom in molecule:\n",
    "    atom.plot(ax)\n",
    "    \n",
    "def plot_kraefter(ax, molecule, color='k'):\n",
    "    positions = molecule.get_positions()\n",
    "    forces = molecule.get_forces()\n",
    "    arrows = []\n",
    "    for pos,force in zip(positions,forces):\n",
    "        arrow = ax.arrow(pos[0], pos[1], force[0], force[1], width=.05, length_includes_head=True, color=color, zorder=200)\n",
    "        arrows.append(arrow)\n",
    "    return arrows\n",
    "\n",
    "kraft_pile = plot_kraefter(ax, molecule)"
   ]
  },
  {
   "cell_type": "markdown",
   "id": "90dd0f2c",
   "metadata": {},
   "source": [
    "### Opgave 1\n",
    "\n",
    "Med et `Atoms`-objekt kan man få kraften med `get_forces()`-metoden. Udskriv kræfterne på alle tre atomer."
   ]
  },
  {
   "cell_type": "code",
   "execution_count": null,
   "id": "6875fb66",
   "metadata": {},
   "outputs": [],
   "source": [
    "forces = molecule. # din kode her\n",
    "forces"
   ]
  },
  {
   "cell_type": "markdown",
   "id": "e7aacff6",
   "metadata": {},
   "source": [
    "Brug indicering til at få $x$-komposanten af kraften på 3. atom (det grønne). Du skal få `-0.852`"
   ]
  },
  {
   "cell_type": "code",
   "execution_count": null,
   "id": "5eaeec94",
   "metadata": {},
   "outputs": [],
   "source": [
    "forces # din kode her"
   ]
  },
  {
   "cell_type": "markdown",
   "id": "9857d7e7",
   "metadata": {},
   "source": [
    "### Opgave 2\n",
    "\n",
    "Man kan tilgå det i'te atom i et `Atoms`-objekt præcis som man tilgår det i'te element i en liste. Prøv det for `i=2`."
   ]
  },
  {
   "cell_type": "code",
   "execution_count": null,
   "id": "4054681d",
   "metadata": {},
   "outputs": [],
   "source": [
    "molecule[2] # kør denne celle som den er"
   ]
  },
  {
   "cell_type": "markdown",
   "id": "28fe4d7c",
   "metadata": {},
   "source": [
    "Som du ser er det i'te element i et `Atoms`-objekt det i'te atom, som jo er et `Atom`-objekt. Man kan bruge de sædvanlige `get_position()` og `set_position()` metoder på et sådant `Atom`-objekt til at flytte det.\n",
    "\n",
    "Færdiggør denne kode, så du flytter det grønne atom til (0, 1.5)."
   ]
  },
  {
   "cell_type": "code",
   "execution_count": null,
   "id": "852be4eb",
   "metadata": {},
   "outputs": [],
   "source": [
    "groenne_atom = molecule[2]\n",
    "groenne_atom.set_position( # din kode her\n",
    "groenne_atom.plot(ax)\n",
    "fig"
   ]
  },
  {
   "cell_type": "markdown",
   "id": "ddf3c9ae",
   "metadata": {},
   "source": [
    "Antag nu at du ikke vidste hvad $y$-koordinaten for det grønne atom var og du ønskede at give atomet en ny $x$-koordinat, $x$, uden at ændre $y$-koordinater.\n",
    "\n",
    "For at gøre det må du altså:\n",
    "\n",
    "* først finde ud af hvad $y$-koordinaten er. Det gøres med `get_position`. Kald værdien $y_0$.\n",
    "\n",
    "* derefter danne en positionsvektor, $\\left[\\begin{array}{c}x\\\\y_0\\end{array}\\right]$ hvor $y_0$, hvor $x$ er den nye $x$-koordinat.\n",
    "\n",
    "* flytte atomet med `set_position`.\n",
    "\n",
    "Flyt nu det grønne atom til $\\left[\\begin{array}{c}-1.5\\\\y_0\\end{array}\\right]$ med denne metode."
   ]
  },
  {
   "cell_type": "code",
   "execution_count": null,
   "id": "91a3ba37",
   "metadata": {},
   "outputs": [],
   "source": [
    "y0 = molecule[2]. # din kode her\n",
    "p = [-1.5, y0]\n",
    "molecule[2].set_position( # din kode her\n",
    "fig"
   ]
  },
  {
   "cell_type": "markdown",
   "id": "bf3228e3",
   "metadata": {},
   "source": [
    "Plot kræfterne igen"
   ]
  },
  {
   "cell_type": "code",
   "execution_count": null,
   "id": "014d83b7",
   "metadata": {},
   "outputs": [],
   "source": [
    "plot_kraefter(ax, molecule, color='C1')\n",
    "fig"
   ]
  },
  {
   "cell_type": "markdown",
   "id": "81f29d75",
   "metadata": {},
   "source": [
    "### Opgave 3\n",
    "\n",
    "Du skal nu kombinére de to ting du har gjort i opgave 1 og 2.\n",
    "\n",
    "Skriv en funktion, der\n",
    "\n",
    "* modtager $x$\n",
    "\n",
    "* sætter det grønne atom's $x$-koordinat til denne værdi\n",
    "\n",
    "* beregner kræfterne på alle atomerne\n",
    "\n",
    "* returnerer $x$-komposanten af kraften på det grønne atom."
   ]
  },
  {
   "cell_type": "code",
   "execution_count": null,
   "id": "6dd41e13",
   "metadata": {},
   "outputs": [],
   "source": [
    "def f(x):\n",
    "    molecule[2].set_position( # din kode her\n",
    "    forces = molecule.get_forces()\n",
    "    return forces # din kode her så det er det grønne atoms x-komposant"
   ]
  },
  {
   "cell_type": "markdown",
   "id": "7011b883",
   "metadata": {},
   "source": [
    "Test din funktion ved at kalde den for de to $x$-værdier vi har arbejdet med indtil videre:"
   ]
  },
  {
   "cell_type": "code",
   "execution_count": null,
   "id": "5d42cfe7",
   "metadata": {},
   "outputs": [],
   "source": [
    "f(-1.5),f(1.5)"
   ]
  },
  {
   "cell_type": "markdown",
   "id": "f093372e",
   "metadata": {},
   "source": [
    "### Opgave 4\n",
    "Nu skal vi prøve noget ligningsløsning.\n",
    "\n",
    "Først plottes problemet."
   ]
  },
  {
   "cell_type": "markdown",
   "id": "86e33d4d",
   "metadata": {},
   "source": [
    "Opsæt med `np.linspace` en liste af $x$-værdier fra $-3$ til $3$.\n",
    "\n",
    "Konstruér med en list comprehension en liste af kræfter for det grønne atom, når dets $x$-koordinat sættes til de pågældende værdier.\n",
    "\n",
    "Plot $x$-komposanten af kraften som funktion af $x$"
   ]
  },
  {
   "cell_type": "code",
   "execution_count": null,
   "id": "55bb300a",
   "metadata": {},
   "outputs": [],
   "source": [
    "xs = np.linspace # din kode her\n",
    "fs = [f(x) for # din kode her\n",
    "fig, ax = plt.subplots()\n",
    "ax.plot(xs,fs)"
   ]
  },
  {
   "cell_type": "markdown",
   "id": "e28ec893",
   "metadata": {},
   "source": [
    "Zoom in på $y$-værdier fra $-5$ til $5$"
   ]
  },
  {
   "cell_type": "code",
   "execution_count": null,
   "id": "77660e06",
   "metadata": {},
   "outputs": [],
   "source": [
    "ax.set_ # din kode her så der zoom'es\n",
    "ax.plot(xs,np.zeros(xs.shape)) # dette plotter en linie gennem nul\n",
    "ax.grid()\n",
    "fig"
   ]
  },
  {
   "cell_type": "markdown",
   "id": "c135f704",
   "metadata": {},
   "source": [
    "Der er tre steder hvor kraften er nul. Bestem med `fsolve` de tre $x$-værdier og indsæt nogle markører i plottet de pågældende steder."
   ]
  },
  {
   "cell_type": "code",
   "execution_count": null,
   "id": "a5c02036",
   "metadata": {},
   "outputs": [],
   "source": [
    "from scipy.optimize import fsolve\n",
    "x0 = fsolve(f, # dit startgæt\n",
    "x1 = fsolve(f, # dit startgæt\n",
    "x2 = fsolve(f, # dit startgæt\n",
    "\n",
    "ax.scatter([x0, x1, x2], [0, 0, 0])\n",
    "fig"
   ]
  },
  {
   "cell_type": "markdown",
   "id": "0296ff53",
   "metadata": {},
   "source": [
    "Beregn med `np.linalg.norm` afstanden fra det grønne atom til et af de blå for hver værdi af $x$ fundet ovenfor."
   ]
  },
  {
   "cell_type": "code",
   "execution_count": null,
   "id": "d0f63fe8",
   "metadata": {},
   "outputs": [],
   "source": [
    "p_blaa = molecule[0].get_position() # position af et blåt atom\n",
    "p_groen = molecule[2].get_position() # position af det grønne atom\n",
    "for x in [x0, x1, x2]:\n",
    "    p_groen[0] # din kode så det grønne atom sættes i en af de tre løsninger\n",
    "    delta_p = # din kode så du har vektoren, der forbinder de to atomer\n",
    "    print( # din kode så du udskriver længden af delta_p"
   ]
  },
  {
   "cell_type": "markdown",
   "id": "26a0184e",
   "metadata": {},
   "source": [
    "Du ser tallet $d=1.1224$ for yderpositionerne. Bestem med `fsolve` $q$ så denne ligning:\n",
    "$$ 2^{1/q} = d$$\n",
    "bliver opfyldt."
   ]
  },
  {
   "cell_type": "code",
   "execution_count": null,
   "id": "fed475b2",
   "metadata": {},
   "outputs": [],
   "source": [
    "q = fsolve(lambda q: # din kode her\n",
    "q"
   ]
  },
  {
   "cell_type": "markdown",
   "id": "66af0eec",
   "metadata": {},
   "source": [
    "Kig på Wikipedia under Lennard-Jones potentialet og læs om den optimale afstand mellem atomer med dette potential."
   ]
  },
  {
   "cell_type": "markdown",
   "id": "100b8534",
   "metadata": {},
   "source": [
    "### Opgave 5\n",
    "\n",
    "Nu skal der integreres med `quad`"
   ]
  },
  {
   "cell_type": "markdown",
   "id": "49dff423",
   "metadata": {},
   "source": [
    "Gentag opgaven fra Notebook 2, hvor kraften fra de to blå atomer integreres langs vejen når det grønne atom flyttes fra $x=1.5$ til $10$. Denne gang benyttes `quad` i stedet for den `for`-løkke og sum af $F_x \\Delta x$ du benyttede sidste."
   ]
  },
  {
   "cell_type": "code",
   "execution_count": null,
   "id": "7f0514c3",
   "metadata": {},
   "outputs": [],
   "source": [
    "from scipy.integrate import quad\n",
    "quad( # din kode her"
   ]
  },
  {
   "cell_type": "markdown",
   "id": "8c3846f0",
   "metadata": {},
   "source": [
    "Tjek at dette arbejde fortsat er minus tilvæksten i den potentielle energi ved at sætte molekylet op i start- og slut-strukturen og benytte `get_potential_energy` metoden på `Atoms`-objektet. Bare kør denne celle:"
   ]
  },
  {
   "cell_type": "code",
   "execution_count": null,
   "id": "8b8b3ec0",
   "metadata": {},
   "outputs": [],
   "source": [
    "molecule[2].set_position([1.5, molecule[2].get_position()[1]])\n",
    "e0 = molecule.get_potential_energy()\n",
    "molecule[2].set_position([10, molecule[2].get_position()[1]])\n",
    "e1 = molecule.get_potential_energy()\n",
    "e1 - e0"
   ]
  },
  {
   "cell_type": "markdown",
   "id": "a3601e62",
   "metadata": {},
   "source": [
    "### Opgave 6\n",
    "Og så skal der løses en integralligning"
   ]
  },
  {
   "cell_type": "markdown",
   "id": "b071aa38",
   "metadata": {},
   "source": [
    "Start det grønne atom ud i positionen $x_0=10$ og flyt det mod venstre. Bestem position $x_1$, hvor kraften fra de to blå atomer har udført et arbejde på $0.25$. Dvs løs denne ligning:\n",
    "\n",
    "$$\\int_{x_0=10}^{x_1} F_x\\>dx=0.25$$\n",
    "for $x_1$"
   ]
  },
  {
   "cell_type": "code",
   "execution_count": null,
   "id": "ba2339c9",
   "metadata": {},
   "outputs": [],
   "source": [
    "x1 = fsolve(lambda x1: # din kode her\n",
    "x1"
   ]
  },
  {
   "cell_type": "markdown",
   "id": "7ae7ee44",
   "metadata": {},
   "source": [
    "Tjek endnu engang resultatet ved at se hvad ændringen i den potentielle energi (beregnet med `get_potential_energy` er. Bare kør denne celle:"
   ]
  },
  {
   "cell_type": "code",
   "execution_count": null,
   "id": "ac77f1fb",
   "metadata": {},
   "outputs": [],
   "source": [
    "molecule[2].set_position([10, molecule[2].get_position()[1]])\n",
    "e0 = molecule.get_potential_energy()\n",
    "molecule[2].set_position([x1, molecule[2].get_position()[1]])\n",
    "e1 = molecule.get_potential_energy()\n",
    "e1 - e0"
   ]
  },
  {
   "cell_type": "code",
   "execution_count": null,
   "id": "1ed50f0a",
   "metadata": {},
   "outputs": [],
   "source": []
  },
  {
   "cell_type": "code",
   "execution_count": null,
   "id": "2acd4032",
   "metadata": {},
   "outputs": [],
   "source": []
  }
 ],
 "metadata": {
  "kernelspec": {
   "display_name": "Python 3 (ipykernel)",
   "language": "python",
   "name": "python3"
  },
  "language_info": {
   "codemirror_mode": {
    "name": "ipython",
    "version": 3
   },
   "file_extension": ".py",
   "mimetype": "text/x-python",
   "name": "python",
   "nbconvert_exporter": "python",
   "pygments_lexer": "ipython3",
   "version": "3.9.7"
  }
 },
 "nbformat": 4,
 "nbformat_minor": 5
}
